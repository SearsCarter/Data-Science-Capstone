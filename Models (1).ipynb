{
  "nbformat": 4,
  "nbformat_minor": 0,
  "metadata": {
    "colab": {
      "name": "Models.ipynb",
      "provenance": []
    },
    "kernelspec": {
      "name": "python3",
      "display_name": "Python 3"
    },
    "language_info": {
      "name": "python"
    }
  },
  "cells": [
    {
      "cell_type": "code",
      "execution_count": null,
      "metadata": {
        "id": "mjfXeb7Ns9Mm"
      },
      "outputs": [],
      "source": [
        "import pandas as pd\n",
        "from google.colab import drive\n",
        "import numpy as np\n",
        "import matplotlib.pyplot as plt\n",
        "from sklearn.metrics import r2_score\n",
        "from sklearn.linear_model import LinearRegression\n",
        "from sklearn.preprocessing import StandardScaler\n",
        "from sklearn.model_selection import train_test_split\n",
        "from sklearn.linear_model import LogisticRegression\n",
        "from sklearn.svm import SVC\n",
        "import sklearn.metrics\n",
        "from sklearn.metrics import precision_recall_curve\n",
        "from sklearn.feature_selection import SelectKBest\n",
        "from sklearn.feature_selection import chi2\n",
        "from sklearn.feature_selection import RFE\n",
        "from sklearn.linear_model import LogisticRegression\n",
        "LR = LogisticRegression()\n",
        "SV = SVC()\n",
        "from sklearn import tree"
      ]
    },
    {
      "cell_type": "code",
      "source": [
        "drive.mount(\"/content/gdrive\")"
      ],
      "metadata": {
        "colab": {
          "base_uri": "https://localhost:8080/"
        },
        "id": "iLdUtoRYtHgp",
        "outputId": "5b2f96e2-2de5-443c-c4c2-375807a92ae9"
      },
      "execution_count": null,
      "outputs": [
        {
          "output_type": "stream",
          "name": "stdout",
          "text": [
            "Mounted at /content/gdrive\n"
          ]
        }
      ]
    },
    {
      "cell_type": "code",
      "source": [
        "NCAA = pd.read_csv('/content/gdrive/MyDrive/Capstone_Original_Dataset.csv')"
      ],
      "metadata": {
        "id": "plO2-_EPtNgg"
      },
      "execution_count": null,
      "outputs": []
    },
    {
      "cell_type": "code",
      "source": [
        "#Removing games where the Home or Away team has 0 values for Home or Away stats\n",
        "NCAA = NCAA.loc[(NCAA[['Home_Points_Home', 'Home_Points_Away','Away_Points_Home', 'Away_Points_Away']] != 0).all(axis=1)]"
      ],
      "metadata": {
        "id": "Y1xwAoRFtRCH"
      },
      "execution_count": null,
      "outputs": []
    },
    {
      "cell_type": "code",
      "source": [
        "NCAA['Win/Lose'] = [1 if x > 0 else 0 for x in NCAA['Home_Win/Lose_Pt']]\n",
        "X = NCAA.drop(['Home_Team','Away_Team','Home_Win/Lose_Pt', 'Win/Lose'], axis=1)\n",
        "X = X.to_numpy()\n",
        "y = NCAA[['Win/Lose']]\n",
        "y = y.to_numpy()\n",
        "y = y.ravel()\n",
        "scale = StandardScaler()\n",
        "X_train, X_test, y_train, y_test = train_test_split(X,y,test_size=0.2)\n",
        "X_train = scale.fit_transform(X_train)\n",
        "X_test = scale.transform(X_test)"
      ],
      "metadata": {
        "id": "pMHUyezcUwnq"
      },
      "execution_count": null,
      "outputs": []
    },
    {
      "cell_type": "code",
      "source": [
        "SVC = SV.fit(X_train,y_train)\n",
        "y_pred = SVC.predict(X_test)\n",
        "sklearn.metrics.accuracy_score(y_test, y_pred)"
      ],
      "metadata": {
        "colab": {
          "base_uri": "https://localhost:8080/"
        },
        "id": "q_5jjb4QVj26",
        "outputId": "9ec3a726-5780-49d9-8316-ab76dbdb79e7"
      },
      "execution_count": null,
      "outputs": [
        {
          "output_type": "execute_result",
          "data": {
            "text/plain": [
              "0.7146853146853147"
            ]
          },
          "metadata": {},
          "execution_count": 8
        }
      ]
    },
    {
      "cell_type": "code",
      "source": [
        "X = NCAA.drop(['Home_Team','Away_Team','Home_Win/Lose_Pt', 'Win/Lose'], axis=1)\n",
        "X = X.to_numpy()\n",
        "y = NCAA[['Home_Win/Lose_Pt']]\n",
        "y = y.to_numpy()\n",
        "y = y.ravel()\n",
        "scale = StandardScaler()\n",
        "X_train, X_test, y_train, y_test = train_test_split(X,y,test_size=0.2)\n",
        "X_train = scale.fit_transform(X_train)\n",
        "X_test = scale.transform(X_test)\n",
        "LR = LinearRegression()\n",
        "LR.fit(X_train,y_train)\n",
        "pred=LR.predict(X_test)\n",
        "print('LR')\n",
        "print(r2_score(y_test,pred))"
      ],
      "metadata": {
        "colab": {
          "base_uri": "https://localhost:8080/"
        },
        "id": "9uKTQyKANHTt",
        "outputId": "bdd6eac5-a0b4-4aa6-d330-da3718a75e3f"
      },
      "execution_count": null,
      "outputs": [
        {
          "output_type": "stream",
          "name": "stdout",
          "text": [
            "LR\n",
            "0.2806614267115246\n"
          ]
        }
      ]
    },
    {
      "cell_type": "code",
      "source": [
        "Iowa = NCAA.loc[(NCAA['Home_Team'] == 'Iowa') | (NCAA['Away_Team'] == 'Iowa')]"
      ],
      "metadata": {
        "id": "w7LLCHWndAxN"
      },
      "execution_count": null,
      "outputs": []
    },
    {
      "cell_type": "code",
      "source": [
        "X = Iowa.drop(['Home_Team','Away_Team','Home_Win/Lose_Pt', 'Win/Lose'], axis=1)\n",
        "X = X.to_numpy()\n",
        "y = Iowa[['Win/Lose']]\n",
        "y = y.to_numpy()\n",
        "y = y.ravel()\n",
        "scale = StandardScaler()\n",
        "X_train, X_test, y_train, y_test = train_test_split(X,y,test_size=0.2)\n",
        "X_train = scale.fit_transform(X_train)\n",
        "X_test = scale.transform(X_test)\n",
        "SVC = SV.fit(X_train,y_train)\n",
        "y_pred = SVC.predict(X_test)\n",
        "sklearn.metrics.accuracy_score(y_test, y_pred)"
      ],
      "metadata": {
        "colab": {
          "base_uri": "https://localhost:8080/"
        },
        "id": "z5MVDg6Yepu6",
        "outputId": "2036b07f-0bf9-4c76-f7c4-59932aace067"
      },
      "execution_count": null,
      "outputs": [
        {
          "output_type": "execute_result",
          "data": {
            "text/plain": [
              "0.8"
            ]
          },
          "metadata": {},
          "execution_count": 11
        }
      ]
    },
    {
      "cell_type": "code",
      "source": [
        "Michigan = NCAA.loc[(NCAA['Home_Team'] == 'Michigan') | (NCAA['Away_Team'] == 'Michigan')]"
      ],
      "metadata": {
        "id": "KOsCmMF2fFoS"
      },
      "execution_count": null,
      "outputs": []
    },
    {
      "cell_type": "code",
      "source": [
        "X = Michigan.drop(['Home_Team','Away_Team','Home_Win/Lose_Pt', 'Win/Lose'], axis=1)\n",
        "X = X.to_numpy()\n",
        "y = Michigan[['Win/Lose']]\n",
        "y = y.to_numpy()\n",
        "y = y.ravel()\n",
        "scale = StandardScaler()\n",
        "X_train, X_test, y_train, y_test = train_test_split(X,y,test_size=0.2)\n",
        "X_train = scale.fit_transform(X_train)\n",
        "X_test = scale.transform(X_test)\n",
        "SVC = SV.fit(X_train,y_train)\n",
        "y_pred = SVC.predict(X_test)\n",
        "sklearn.metrics.accuracy_score(y_test, y_pred)"
      ],
      "metadata": {
        "colab": {
          "base_uri": "https://localhost:8080/"
        },
        "id": "-MnZZ_imfwgr",
        "outputId": "10a56df2-c9be-44c6-a91d-5c394abf4ea6"
      },
      "execution_count": null,
      "outputs": [
        {
          "output_type": "execute_result",
          "data": {
            "text/plain": [
              "0.6"
            ]
          },
          "metadata": {},
          "execution_count": 13
        }
      ]
    },
    {
      "cell_type": "code",
      "source": [
        "NCAA1 = NCAA[NCAA.columns.drop(list(NCAA.filter(regex='Opp')))]"
      ],
      "metadata": {
        "id": "QLhdwQhgK477"
      },
      "execution_count": null,
      "outputs": []
    },
    {
      "cell_type": "code",
      "source": [
        "for i in NCAA1.columns:\n",
        "  print(i)"
      ],
      "metadata": {
        "colab": {
          "base_uri": "https://localhost:8080/"
        },
        "id": "bXdU0oyULN2D",
        "outputId": "ba2f749c-4766-46b8-8e8f-6410fded0cc7"
      },
      "execution_count": null,
      "outputs": [
        {
          "output_type": "stream",
          "name": "stdout",
          "text": [
            "Home_Team\n",
            "Away_Team\n",
            "Home_TurnAst_Last3\n",
            "Home_TurnAst_Home\n",
            "Home_TurnAst_Away\n",
            "Home_Pts_Last3\n",
            "Home_Points_Home\n",
            "Home_Points_Away\n",
            "Home_Avg_Scoring_Margin_Last3\n",
            "Home_Avg_Scoring_Margin_Home\n",
            "Home_Avg_Scoring_Margin_Away\n",
            "Home_OffEff_Last3\n",
            "Home_OffEff_Home\n",
            "Home_OffEff_Away\n",
            "Home_FloorPercent_Last3\n",
            "Home_FloorPercent_Home\n",
            "Home_FloorPercent_Away\n",
            "Home_TrueShooting_Last3\n",
            "Home_TrueShooting_Home\n",
            "Home_TrueShooting_Away\n",
            "Home_EffFGPct_Last3\n",
            "Home_EffFGPct_Home\n",
            "Home_EffFGPct_Away\n",
            "Home_FTpct_Last3\n",
            "Home_FTpct_Home\n",
            "Home_FTpct_Away\n",
            "Home_FT_Rate_Last3\n",
            "Home_FT_Rate_Home\n",
            "Home_FT_Rate_Away\n",
            "Home_Three_Pt_Rate_Last3\n",
            "Home_Three_Pt_Rate_Home\n",
            "Home_Three_Pt_Rate_Away\n",
            "Home_Off_RB_Pct_Last3\n",
            "Home_Off_RB_Pct_Home\n",
            "Home_Off_RB_Pct_Away\n",
            "Home_Def_RB_Pct_Last3\n",
            "Home_Def_RB_Pct_Home\n",
            "Home_Def_RB_Pct_Away\n",
            "Home_Block_Pct_Last3\n",
            "Home_Block_Pct_Home\n",
            "Home_Block_Pct_Away\n",
            "Home_Steals_PerPoss_Last3\n",
            "Home_Steals_PerPoss_Home\n",
            "Home_Steals_PerPoss_Away\n",
            "Home_Turn_PerPoss_Last3\n",
            "Home_Turn_PerPoss_Home\n",
            "Home_Turn_PerPoss_Away\n",
            "Home_Ast_PerPoss_Last3\n",
            "Home_Ast_PerPoss_Home\n",
            "Home_Ast_PerPoss_Away\n",
            "Home_Fouls_PerPoss_Last3\n",
            "Home_Fouls_PerPoss_Home\n",
            "Home_Fouls_PerPoss_Away\n",
            "Home_Points_Allowed_Last3\n",
            "Home_Points_Allowed_Home\n",
            "Home_Points_Allowed_Away\n",
            "Home_Def_Eff_Last3\n",
            "Home_Def_Eff_Home\n",
            "Home_Def_Eff_Away\n",
            "Home_Poss_Per_Game_Last3\n",
            "Home_Poss_Per_Game_Home\n",
            "Home_Poss_Per_Game_Away\n",
            "Home_Eff_Poss_Last3\n",
            "Home_Eff_Poss_Home\n",
            "Home_Eff_Poss_Away\n",
            "Home_Team_Luck\n",
            "Home_Team_SOS\n",
            "Home_Team_Consis\n",
            "Home_Team_First_Half_Rating\n",
            "Home_Team_Second_Half_Rating\n",
            "Home_Team_Last5\n",
            "Away_TurnAst_Last3\n",
            "Away_TurnAst_Home\n",
            "Away_TurnAst_Away\n",
            "Away_Pts_Last3\n",
            "Away_Points_Home\n",
            "Away_Points_Away\n",
            "Away_Avg_Scoring_Margin_Last3\n",
            "Away_Avg_Scoring_Margin_Home\n",
            "Away_Avg_Scoring_Margin_Away\n",
            "Away_OffEff_Last3\n",
            "Away_OffEff_Home\n",
            "Away_OffEff_Away\n",
            "Away_FloorPercent_Last3\n",
            "Away_FloorPercent_Home\n",
            "Away_FloorPercent_Away\n",
            "Away_TrueShooting_Last3\n",
            "Away_TrueShooting_Home\n",
            "Away_TrueShooting_Away\n",
            "Away_EffFGPct_Last3\n",
            "Away_EffFGPct_Home\n",
            "Away_EffFGPct_Away\n",
            "Away_FTpct_Last3\n",
            "Away_FTpct_Home\n",
            "Away_FTpct_Away\n",
            "Away_FT_Rate_Last3\n",
            "Away_FT_Rate_Home\n",
            "Away_FT_Rate_Away\n",
            "Away_Three_Pt_Rate_Last3\n",
            "Away_Three_Pt_Rate_Home\n",
            "Away_Three_Pt_Rate_Away\n",
            "Away_Off_RB_Pct_Last3\n",
            "Away_Off_RB_Pct_Home\n",
            "Away_Off_RB_Pct_Away\n",
            "Away_Def_RB_Pct_Last3\n",
            "Away_Def_RB_Pct_Home\n",
            "Away_Def_RB_Pct_Away\n",
            "Away_Block_Pct_Last3\n",
            "Away_Block_Pct_Home\n",
            "Away_Block_Pct_Away\n",
            "Away_Steals_PerPoss_Last3\n",
            "Away_Steals_PerPoss_Home\n",
            "Away_Steals_PerPoss_Away\n",
            "Away_Turn_PerPoss_Last3\n",
            "Away_Turn_PerPoss_Home\n",
            "Away_Turn_PerPoss_Away\n",
            "Away_Ast_PerPoss_Last3\n",
            "Away_Ast_PerPoss_Home\n",
            "Away_Ast_PerPoss_Away\n",
            "Away_Fouls_PerPoss_Last3\n",
            "Away_Fouls_PerPoss_Home\n",
            "Away_Fouls_PerPoss_Away\n",
            "Away_Points_Allowed_Last3\n",
            "Away_Points_Allowed_Home\n",
            "Away_Points_Allowed_Away\n",
            "Away_Def_Eff_Last3\n",
            "Away_Def_Eff_Home\n",
            "Away_Def_Eff_Away\n",
            "Away_Poss_Per_Game_Last3\n",
            "Away_Poss_Per_Game_Home\n",
            "Away_Poss_Per_Game_Away\n",
            "Away_Eff_Poss_Last3\n",
            "Away_Eff_Poss_Home\n",
            "Away_Eff_Poss_Away\n",
            "Away_Team_Luck\n",
            "Away_Team_SOS\n",
            "Away_Team_Consis\n",
            "Away_Team_First_Half_Rating\n",
            "Away_Team_Second_Half_Rating\n",
            "Away_Team_Last5\n",
            "Home_Win/Lose_Pt\n",
            "Win/Lose\n"
          ]
        }
      ]
    },
    {
      "cell_type": "code",
      "source": [
        "X = NCAA1.drop(['Home_Team','Away_Team','Home_Win/Lose_Pt', 'Win/Lose'], axis=1)\n",
        "X = X.to_numpy()\n",
        "y = NCAA1[['Win/Lose']]\n",
        "y = y.to_numpy()\n",
        "y = y.ravel()\n",
        "scale = StandardScaler()\n",
        "X_train, X_test, y_train, y_test = train_test_split(X,y,test_size=0.2)\n",
        "X_train = scale.fit_transform(X_train)\n",
        "X_test = scale.transform(X_test)"
      ],
      "metadata": {
        "id": "RKjbm4WpLWg5"
      },
      "execution_count": null,
      "outputs": []
    },
    {
      "cell_type": "code",
      "source": [
        "SVC = SV.fit(X_train,y_train)\n",
        "y_pred = SVC.predict(X_test)\n",
        "sklearn.metrics.accuracy_score(y_test, y_pred)"
      ],
      "metadata": {
        "colab": {
          "base_uri": "https://localhost:8080/"
        },
        "id": "ttR32W1CLi9h",
        "outputId": "552303c4-6ea3-47fd-a271-4b444ec7ed20"
      },
      "execution_count": null,
      "outputs": [
        {
          "output_type": "execute_result",
          "data": {
            "text/plain": [
              "0.7076923076923077"
            ]
          },
          "metadata": {},
          "execution_count": 17
        }
      ]
    },
    {
      "cell_type": "code",
      "source": [
        "X = NCAA1.drop(['Home_Team','Away_Team','Home_Win/Lose_Pt', 'Win/Lose'], axis=1)\n",
        "X = X.to_numpy()\n",
        "y = NCAA1[['Home_Win/Lose_Pt']]\n",
        "y = y.to_numpy()\n",
        "y = y.ravel()\n",
        "scale = StandardScaler()\n",
        "X_train, X_test, y_train, y_test = train_test_split(X,y,test_size=0.2)\n",
        "X_train = scale.fit_transform(X_train)\n",
        "X_test = scale.transform(X_test)\n",
        "LR = LinearRegression()\n",
        "LR.fit(X_train,y_train)\n",
        "pred=LR.predict(X_test)\n",
        "print('LR')\n",
        "print(r2_score(y_test,pred))"
      ],
      "metadata": {
        "colab": {
          "base_uri": "https://localhost:8080/"
        },
        "id": "lQItrXM6Mjfs",
        "outputId": "04f74952-76b5-47c5-e2b8-6f94ef0955c4"
      },
      "execution_count": null,
      "outputs": [
        {
          "output_type": "stream",
          "name": "stdout",
          "text": [
            "LR\n",
            "0.374135879061815\n"
          ]
        }
      ]
    },
    {
      "cell_type": "code",
      "source": [
        "NCAA2 = NCAA1[NCAA1.columns.drop(list(NCAA1.filter(regex='_Home')))]\n",
        "NCAA2 = NCAA2[NCAA2.columns.drop(list(NCAA2.filter(regex='_Away')))]"
      ],
      "metadata": {
        "id": "vpeQ1863L9Az"
      },
      "execution_count": null,
      "outputs": []
    },
    {
      "cell_type": "code",
      "source": [
        "NCAA2"
      ],
      "metadata": {
        "colab": {
          "base_uri": "https://localhost:8080/",
          "height": 557
        },
        "id": "6EmSliLEMI4L",
        "outputId": "3f1a1f40-710f-4387-df80-64757e5ff186"
      },
      "execution_count": null,
      "outputs": [
        {
          "output_type": "execute_result",
          "data": {
            "text/plain": [
              "                Home_Team            Away_Team  Home_TurnAst_Last3  \\\n",
              "0            San Jose St.         South Dakota               0.745   \n",
              "1           San Diego St.       Long Beach St.               0.971   \n",
              "2                  Nevada           Pepperdine               1.024   \n",
              "3                Ohio St.                 Duke               0.951   \n",
              "4               Boise St.          Saint Louis               1.024   \n",
              "...                   ...                  ...                 ...   \n",
              "3721           Coppin St.         Delaware St.               0.761   \n",
              "3722              Hofstra           Charleston               1.652   \n",
              "3723              Fordham        Massachusetts               0.587   \n",
              "3724       North Carolina             Syracuse               0.864   \n",
              "3725  Fairleigh Dickinson  Central Connecticut               1.025   \n",
              "\n",
              "      Home_Pts_Last3  Home_Avg_Scoring_Margin_Last3  Home_OffEff_Last3  \\\n",
              "0               62.0                          -11.3              0.903   \n",
              "1               61.3                            2.7              0.898   \n",
              "2               81.3                            3.7              1.051   \n",
              "3               70.7                           -2.0              1.009   \n",
              "4               60.3                            7.7              0.915   \n",
              "...              ...                            ...                ...   \n",
              "3721            65.0                          -15.3              0.894   \n",
              "3722            71.3                           -2.3              0.994   \n",
              "3723            51.7                           -4.0              0.765   \n",
              "3724            73.0                            8.3              1.052   \n",
              "3725            86.0                           -5.7              1.071   \n",
              "\n",
              "      Home_FloorPercent_Last3  Home_TrueShooting_Last3  Home_EffFGPct_Last3  \\\n",
              "0                        41.0                    103.9                 50.6   \n",
              "1                        43.6                     96.1                 43.8   \n",
              "2                        48.9                    115.2                 52.5   \n",
              "3                        46.4                    115.5                 53.2   \n",
              "4                        42.8                     93.4                 46.2   \n",
              "...                       ...                      ...                  ...   \n",
              "3721                     40.3                    106.3                 48.7   \n",
              "3722                     45.0                    104.0                 48.1   \n",
              "3723                     35.6                     87.1                 39.9   \n",
              "3724                     48.4                    120.2                 55.1   \n",
              "3725                     50.1                    112.3                 51.0   \n",
              "\n",
              "      Home_FTpct_Last3  ...  Away_Poss_Per_Game_Last3  Away_Eff_Poss_Last3  \\\n",
              "0                 61.1  ...                      72.6                0.913   \n",
              "1                 67.7  ...                      74.3                0.861   \n",
              "2                 80.3  ...                      67.2                0.871   \n",
              "3                 79.3  ...                      74.9                1.102   \n",
              "4                 47.9  ...                      71.9                0.917   \n",
              "...                ...  ...                       ...                  ...   \n",
              "3721              71.9  ...                      77.6                0.850   \n",
              "3722              79.2  ...                      75.0                0.911   \n",
              "3723              69.0  ...                      69.6                0.938   \n",
              "3724              88.2  ...                      70.4                1.009   \n",
              "3725              82.6  ...                      63.7                0.927   \n",
              "\n",
              "      Away_Team_Luck  Away_Team_SOS  Away_Team_Consis  \\\n",
              "0                0.7           -5.1              12.3   \n",
              "1                0.7           -3.1              13.3   \n",
              "2               -0.7            0.2               7.4   \n",
              "3                1.2            9.7               8.9   \n",
              "4                0.2            4.0              10.7   \n",
              "...              ...            ...               ...   \n",
              "3721            -3.1          -11.1              11.7   \n",
              "3722             0.7           -0.3               9.5   \n",
              "3723             0.4            1.5              10.5   \n",
              "3724            -1.0            7.4              10.8   \n",
              "3725             0.6           -5.6              10.5   \n",
              "\n",
              "      Away_Team_First_Half_Rating  Away_Team_Second_Half_Rating  \\\n",
              "0                             1.3                          -7.2   \n",
              "1                            -8.1                          -0.9   \n",
              "2                             0.0                          -7.5   \n",
              "3                             9.4                          12.7   \n",
              "4                             7.5                           6.3   \n",
              "...                           ...                           ...   \n",
              "3721                        -10.5                          -9.2   \n",
              "3722                          1.4                          -0.5   \n",
              "3723                         -3.7                           2.4   \n",
              "3724                          5.8                           2.9   \n",
              "3725                        -10.0                          -3.5   \n",
              "\n",
              "      Away_Team_Last5  Home_Win/Lose_Pt  Win/Lose  \n",
              "0                -5.1                 9         1  \n",
              "1                -9.6                25         1  \n",
              "2                -7.0                13         1  \n",
              "3                21.9                 5         1  \n",
              "4                 9.5                -4         0  \n",
              "...               ...               ...       ...  \n",
              "3721            -13.0                13         1  \n",
              "3722              1.8                 5         1  \n",
              "3723             -3.7                12         1  \n",
              "3724              3.8                 9         1  \n",
              "3725            -20.1                -1         0  \n",
              "\n",
              "[3573 rows x 58 columns]"
            ],
            "text/html": [
              "\n",
              "  <div id=\"df-f87d7cf1-2295-43ce-8284-15442a184dda\">\n",
              "    <div class=\"colab-df-container\">\n",
              "      <div>\n",
              "<style scoped>\n",
              "    .dataframe tbody tr th:only-of-type {\n",
              "        vertical-align: middle;\n",
              "    }\n",
              "\n",
              "    .dataframe tbody tr th {\n",
              "        vertical-align: top;\n",
              "    }\n",
              "\n",
              "    .dataframe thead th {\n",
              "        text-align: right;\n",
              "    }\n",
              "</style>\n",
              "<table border=\"1\" class=\"dataframe\">\n",
              "  <thead>\n",
              "    <tr style=\"text-align: right;\">\n",
              "      <th></th>\n",
              "      <th>Home_Team</th>\n",
              "      <th>Away_Team</th>\n",
              "      <th>Home_TurnAst_Last3</th>\n",
              "      <th>Home_Pts_Last3</th>\n",
              "      <th>Home_Avg_Scoring_Margin_Last3</th>\n",
              "      <th>Home_OffEff_Last3</th>\n",
              "      <th>Home_FloorPercent_Last3</th>\n",
              "      <th>Home_TrueShooting_Last3</th>\n",
              "      <th>Home_EffFGPct_Last3</th>\n",
              "      <th>Home_FTpct_Last3</th>\n",
              "      <th>...</th>\n",
              "      <th>Away_Poss_Per_Game_Last3</th>\n",
              "      <th>Away_Eff_Poss_Last3</th>\n",
              "      <th>Away_Team_Luck</th>\n",
              "      <th>Away_Team_SOS</th>\n",
              "      <th>Away_Team_Consis</th>\n",
              "      <th>Away_Team_First_Half_Rating</th>\n",
              "      <th>Away_Team_Second_Half_Rating</th>\n",
              "      <th>Away_Team_Last5</th>\n",
              "      <th>Home_Win/Lose_Pt</th>\n",
              "      <th>Win/Lose</th>\n",
              "    </tr>\n",
              "  </thead>\n",
              "  <tbody>\n",
              "    <tr>\n",
              "      <th>0</th>\n",
              "      <td>San Jose St.</td>\n",
              "      <td>South Dakota</td>\n",
              "      <td>0.745</td>\n",
              "      <td>62.0</td>\n",
              "      <td>-11.3</td>\n",
              "      <td>0.903</td>\n",
              "      <td>41.0</td>\n",
              "      <td>103.9</td>\n",
              "      <td>50.6</td>\n",
              "      <td>61.1</td>\n",
              "      <td>...</td>\n",
              "      <td>72.6</td>\n",
              "      <td>0.913</td>\n",
              "      <td>0.7</td>\n",
              "      <td>-5.1</td>\n",
              "      <td>12.3</td>\n",
              "      <td>1.3</td>\n",
              "      <td>-7.2</td>\n",
              "      <td>-5.1</td>\n",
              "      <td>9</td>\n",
              "      <td>1</td>\n",
              "    </tr>\n",
              "    <tr>\n",
              "      <th>1</th>\n",
              "      <td>San Diego St.</td>\n",
              "      <td>Long Beach St.</td>\n",
              "      <td>0.971</td>\n",
              "      <td>61.3</td>\n",
              "      <td>2.7</td>\n",
              "      <td>0.898</td>\n",
              "      <td>43.6</td>\n",
              "      <td>96.1</td>\n",
              "      <td>43.8</td>\n",
              "      <td>67.7</td>\n",
              "      <td>...</td>\n",
              "      <td>74.3</td>\n",
              "      <td>0.861</td>\n",
              "      <td>0.7</td>\n",
              "      <td>-3.1</td>\n",
              "      <td>13.3</td>\n",
              "      <td>-8.1</td>\n",
              "      <td>-0.9</td>\n",
              "      <td>-9.6</td>\n",
              "      <td>25</td>\n",
              "      <td>1</td>\n",
              "    </tr>\n",
              "    <tr>\n",
              "      <th>2</th>\n",
              "      <td>Nevada</td>\n",
              "      <td>Pepperdine</td>\n",
              "      <td>1.024</td>\n",
              "      <td>81.3</td>\n",
              "      <td>3.7</td>\n",
              "      <td>1.051</td>\n",
              "      <td>48.9</td>\n",
              "      <td>115.2</td>\n",
              "      <td>52.5</td>\n",
              "      <td>80.3</td>\n",
              "      <td>...</td>\n",
              "      <td>67.2</td>\n",
              "      <td>0.871</td>\n",
              "      <td>-0.7</td>\n",
              "      <td>0.2</td>\n",
              "      <td>7.4</td>\n",
              "      <td>0.0</td>\n",
              "      <td>-7.5</td>\n",
              "      <td>-7.0</td>\n",
              "      <td>13</td>\n",
              "      <td>1</td>\n",
              "    </tr>\n",
              "    <tr>\n",
              "      <th>3</th>\n",
              "      <td>Ohio St.</td>\n",
              "      <td>Duke</td>\n",
              "      <td>0.951</td>\n",
              "      <td>70.7</td>\n",
              "      <td>-2.0</td>\n",
              "      <td>1.009</td>\n",
              "      <td>46.4</td>\n",
              "      <td>115.5</td>\n",
              "      <td>53.2</td>\n",
              "      <td>79.3</td>\n",
              "      <td>...</td>\n",
              "      <td>74.9</td>\n",
              "      <td>1.102</td>\n",
              "      <td>1.2</td>\n",
              "      <td>9.7</td>\n",
              "      <td>8.9</td>\n",
              "      <td>9.4</td>\n",
              "      <td>12.7</td>\n",
              "      <td>21.9</td>\n",
              "      <td>5</td>\n",
              "      <td>1</td>\n",
              "    </tr>\n",
              "    <tr>\n",
              "      <th>4</th>\n",
              "      <td>Boise St.</td>\n",
              "      <td>Saint Louis</td>\n",
              "      <td>1.024</td>\n",
              "      <td>60.3</td>\n",
              "      <td>7.7</td>\n",
              "      <td>0.915</td>\n",
              "      <td>42.8</td>\n",
              "      <td>93.4</td>\n",
              "      <td>46.2</td>\n",
              "      <td>47.9</td>\n",
              "      <td>...</td>\n",
              "      <td>71.9</td>\n",
              "      <td>0.917</td>\n",
              "      <td>0.2</td>\n",
              "      <td>4.0</td>\n",
              "      <td>10.7</td>\n",
              "      <td>7.5</td>\n",
              "      <td>6.3</td>\n",
              "      <td>9.5</td>\n",
              "      <td>-4</td>\n",
              "      <td>0</td>\n",
              "    </tr>\n",
              "    <tr>\n",
              "      <th>...</th>\n",
              "      <td>...</td>\n",
              "      <td>...</td>\n",
              "      <td>...</td>\n",
              "      <td>...</td>\n",
              "      <td>...</td>\n",
              "      <td>...</td>\n",
              "      <td>...</td>\n",
              "      <td>...</td>\n",
              "      <td>...</td>\n",
              "      <td>...</td>\n",
              "      <td>...</td>\n",
              "      <td>...</td>\n",
              "      <td>...</td>\n",
              "      <td>...</td>\n",
              "      <td>...</td>\n",
              "      <td>...</td>\n",
              "      <td>...</td>\n",
              "      <td>...</td>\n",
              "      <td>...</td>\n",
              "      <td>...</td>\n",
              "      <td>...</td>\n",
              "    </tr>\n",
              "    <tr>\n",
              "      <th>3721</th>\n",
              "      <td>Coppin St.</td>\n",
              "      <td>Delaware St.</td>\n",
              "      <td>0.761</td>\n",
              "      <td>65.0</td>\n",
              "      <td>-15.3</td>\n",
              "      <td>0.894</td>\n",
              "      <td>40.3</td>\n",
              "      <td>106.3</td>\n",
              "      <td>48.7</td>\n",
              "      <td>71.9</td>\n",
              "      <td>...</td>\n",
              "      <td>77.6</td>\n",
              "      <td>0.850</td>\n",
              "      <td>-3.1</td>\n",
              "      <td>-11.1</td>\n",
              "      <td>11.7</td>\n",
              "      <td>-10.5</td>\n",
              "      <td>-9.2</td>\n",
              "      <td>-13.0</td>\n",
              "      <td>13</td>\n",
              "      <td>1</td>\n",
              "    </tr>\n",
              "    <tr>\n",
              "      <th>3722</th>\n",
              "      <td>Hofstra</td>\n",
              "      <td>Charleston</td>\n",
              "      <td>1.652</td>\n",
              "      <td>71.3</td>\n",
              "      <td>-2.3</td>\n",
              "      <td>0.994</td>\n",
              "      <td>45.0</td>\n",
              "      <td>104.0</td>\n",
              "      <td>48.1</td>\n",
              "      <td>79.2</td>\n",
              "      <td>...</td>\n",
              "      <td>75.0</td>\n",
              "      <td>0.911</td>\n",
              "      <td>0.7</td>\n",
              "      <td>-0.3</td>\n",
              "      <td>9.5</td>\n",
              "      <td>1.4</td>\n",
              "      <td>-0.5</td>\n",
              "      <td>1.8</td>\n",
              "      <td>5</td>\n",
              "      <td>1</td>\n",
              "    </tr>\n",
              "    <tr>\n",
              "      <th>3723</th>\n",
              "      <td>Fordham</td>\n",
              "      <td>Massachusetts</td>\n",
              "      <td>0.587</td>\n",
              "      <td>51.7</td>\n",
              "      <td>-4.0</td>\n",
              "      <td>0.765</td>\n",
              "      <td>35.6</td>\n",
              "      <td>87.1</td>\n",
              "      <td>39.9</td>\n",
              "      <td>69.0</td>\n",
              "      <td>...</td>\n",
              "      <td>69.6</td>\n",
              "      <td>0.938</td>\n",
              "      <td>0.4</td>\n",
              "      <td>1.5</td>\n",
              "      <td>10.5</td>\n",
              "      <td>-3.7</td>\n",
              "      <td>2.4</td>\n",
              "      <td>-3.7</td>\n",
              "      <td>12</td>\n",
              "      <td>1</td>\n",
              "    </tr>\n",
              "    <tr>\n",
              "      <th>3724</th>\n",
              "      <td>North Carolina</td>\n",
              "      <td>Syracuse</td>\n",
              "      <td>0.864</td>\n",
              "      <td>73.0</td>\n",
              "      <td>8.3</td>\n",
              "      <td>1.052</td>\n",
              "      <td>48.4</td>\n",
              "      <td>120.2</td>\n",
              "      <td>55.1</td>\n",
              "      <td>88.2</td>\n",
              "      <td>...</td>\n",
              "      <td>70.4</td>\n",
              "      <td>1.009</td>\n",
              "      <td>-1.0</td>\n",
              "      <td>7.4</td>\n",
              "      <td>10.8</td>\n",
              "      <td>5.8</td>\n",
              "      <td>2.9</td>\n",
              "      <td>3.8</td>\n",
              "      <td>9</td>\n",
              "      <td>1</td>\n",
              "    </tr>\n",
              "    <tr>\n",
              "      <th>3725</th>\n",
              "      <td>Fairleigh Dickinson</td>\n",
              "      <td>Central Connecticut</td>\n",
              "      <td>1.025</td>\n",
              "      <td>86.0</td>\n",
              "      <td>-5.7</td>\n",
              "      <td>1.071</td>\n",
              "      <td>50.1</td>\n",
              "      <td>112.3</td>\n",
              "      <td>51.0</td>\n",
              "      <td>82.6</td>\n",
              "      <td>...</td>\n",
              "      <td>63.7</td>\n",
              "      <td>0.927</td>\n",
              "      <td>0.6</td>\n",
              "      <td>-5.6</td>\n",
              "      <td>10.5</td>\n",
              "      <td>-10.0</td>\n",
              "      <td>-3.5</td>\n",
              "      <td>-20.1</td>\n",
              "      <td>-1</td>\n",
              "      <td>0</td>\n",
              "    </tr>\n",
              "  </tbody>\n",
              "</table>\n",
              "<p>3573 rows × 58 columns</p>\n",
              "</div>\n",
              "      <button class=\"colab-df-convert\" onclick=\"convertToInteractive('df-f87d7cf1-2295-43ce-8284-15442a184dda')\"\n",
              "              title=\"Convert this dataframe to an interactive table.\"\n",
              "              style=\"display:none;\">\n",
              "        \n",
              "  <svg xmlns=\"http://www.w3.org/2000/svg\" height=\"24px\"viewBox=\"0 0 24 24\"\n",
              "       width=\"24px\">\n",
              "    <path d=\"M0 0h24v24H0V0z\" fill=\"none\"/>\n",
              "    <path d=\"M18.56 5.44l.94 2.06.94-2.06 2.06-.94-2.06-.94-.94-2.06-.94 2.06-2.06.94zm-11 1L8.5 8.5l.94-2.06 2.06-.94-2.06-.94L8.5 2.5l-.94 2.06-2.06.94zm10 10l.94 2.06.94-2.06 2.06-.94-2.06-.94-.94-2.06-.94 2.06-2.06.94z\"/><path d=\"M17.41 7.96l-1.37-1.37c-.4-.4-.92-.59-1.43-.59-.52 0-1.04.2-1.43.59L10.3 9.45l-7.72 7.72c-.78.78-.78 2.05 0 2.83L4 21.41c.39.39.9.59 1.41.59.51 0 1.02-.2 1.41-.59l7.78-7.78 2.81-2.81c.8-.78.8-2.07 0-2.86zM5.41 20L4 18.59l7.72-7.72 1.47 1.35L5.41 20z\"/>\n",
              "  </svg>\n",
              "      </button>\n",
              "      \n",
              "  <style>\n",
              "    .colab-df-container {\n",
              "      display:flex;\n",
              "      flex-wrap:wrap;\n",
              "      gap: 12px;\n",
              "    }\n",
              "\n",
              "    .colab-df-convert {\n",
              "      background-color: #E8F0FE;\n",
              "      border: none;\n",
              "      border-radius: 50%;\n",
              "      cursor: pointer;\n",
              "      display: none;\n",
              "      fill: #1967D2;\n",
              "      height: 32px;\n",
              "      padding: 0 0 0 0;\n",
              "      width: 32px;\n",
              "    }\n",
              "\n",
              "    .colab-df-convert:hover {\n",
              "      background-color: #E2EBFA;\n",
              "      box-shadow: 0px 1px 2px rgba(60, 64, 67, 0.3), 0px 1px 3px 1px rgba(60, 64, 67, 0.15);\n",
              "      fill: #174EA6;\n",
              "    }\n",
              "\n",
              "    [theme=dark] .colab-df-convert {\n",
              "      background-color: #3B4455;\n",
              "      fill: #D2E3FC;\n",
              "    }\n",
              "\n",
              "    [theme=dark] .colab-df-convert:hover {\n",
              "      background-color: #434B5C;\n",
              "      box-shadow: 0px 1px 3px 1px rgba(0, 0, 0, 0.15);\n",
              "      filter: drop-shadow(0px 1px 2px rgba(0, 0, 0, 0.3));\n",
              "      fill: #FFFFFF;\n",
              "    }\n",
              "  </style>\n",
              "\n",
              "      <script>\n",
              "        const buttonEl =\n",
              "          document.querySelector('#df-f87d7cf1-2295-43ce-8284-15442a184dda button.colab-df-convert');\n",
              "        buttonEl.style.display =\n",
              "          google.colab.kernel.accessAllowed ? 'block' : 'none';\n",
              "\n",
              "        async function convertToInteractive(key) {\n",
              "          const element = document.querySelector('#df-f87d7cf1-2295-43ce-8284-15442a184dda');\n",
              "          const dataTable =\n",
              "            await google.colab.kernel.invokeFunction('convertToInteractive',\n",
              "                                                     [key], {});\n",
              "          if (!dataTable) return;\n",
              "\n",
              "          const docLinkHtml = 'Like what you see? Visit the ' +\n",
              "            '<a target=\"_blank\" href=https://colab.research.google.com/notebooks/data_table.ipynb>data table notebook</a>'\n",
              "            + ' to learn more about interactive tables.';\n",
              "          element.innerHTML = '';\n",
              "          dataTable['output_type'] = 'display_data';\n",
              "          await google.colab.output.renderOutput(dataTable, element);\n",
              "          const docLink = document.createElement('div');\n",
              "          docLink.innerHTML = docLinkHtml;\n",
              "          element.appendChild(docLink);\n",
              "        }\n",
              "      </script>\n",
              "    </div>\n",
              "  </div>\n",
              "  "
            ]
          },
          "metadata": {},
          "execution_count": 20
        }
      ]
    },
    {
      "cell_type": "code",
      "source": [
        "X = NCAA2.drop(['Home_Team','Away_Team','Home_Win/Lose_Pt', 'Win/Lose'], axis=1)\n",
        "X = X.to_numpy()\n",
        "y = NCAA2[['Win/Lose']]\n",
        "y = y.to_numpy()\n",
        "y = y.ravel()\n",
        "scale = StandardScaler()\n",
        "X_train, X_test, y_train, y_test = train_test_split(X,y,test_size=0.2)\n",
        "X_train = scale.fit_transform(X_train)\n",
        "X_test = scale.transform(X_test)"
      ],
      "metadata": {
        "id": "xkk-M2yVMYFD"
      },
      "execution_count": null,
      "outputs": []
    },
    {
      "cell_type": "code",
      "source": [
        "SVC = SV.fit(X_train,y_train)\n",
        "y_pred = SVC.predict(X_test)\n",
        "sklearn.metrics.accuracy_score(y_test, y_pred)"
      ],
      "metadata": {
        "colab": {
          "base_uri": "https://localhost:8080/"
        },
        "id": "sJU4tqymMcPD",
        "outputId": "10bc8912-3d4c-466a-c964-92c9027b8c93"
      },
      "execution_count": null,
      "outputs": [
        {
          "output_type": "execute_result",
          "data": {
            "text/plain": [
              "0.7020979020979021"
            ]
          },
          "metadata": {},
          "execution_count": 22
        }
      ]
    },
    {
      "cell_type": "code",
      "source": [
        "X = NCAA2.drop(['Home_Team','Away_Team','Home_Win/Lose_Pt', 'Win/Lose'], axis=1)\n",
        "X = X.to_numpy()\n",
        "y = NCAA2[['Home_Win/Lose_Pt']]\n",
        "y = y.to_numpy()\n",
        "y = y.ravel()\n",
        "scale = StandardScaler()\n",
        "X_train, X_test, y_train, y_test = train_test_split(X,y,test_size=0.2)\n",
        "X_train = scale.fit_transform(X_train)\n",
        "X_test = scale.transform(X_test)\n",
        "LR = LinearRegression()\n",
        "LR.fit(X_train,y_train)\n",
        "pred=LR.predict(X_test)\n",
        "print('LR')\n",
        "print(r2_score(y_test,pred))"
      ],
      "metadata": {
        "colab": {
          "base_uri": "https://localhost:8080/"
        },
        "id": "PdgFbSFLNCYE",
        "outputId": "aa84e42e-a37c-44ac-9c81-f77a3eea2d56"
      },
      "execution_count": null,
      "outputs": [
        {
          "output_type": "stream",
          "name": "stdout",
          "text": [
            "LR\n",
            "0.35405907780420476\n"
          ]
        }
      ]
    },
    {
      "cell_type": "code",
      "source": [
        "X = NCAA[['Home_OffEff_Last3', 'Home_Def_Eff_Last3', 'Home_Team_Last5', 'Home_Turn_PerPoss_Last3', 'Away_OffEff_Last3', 'Away_Def_Eff_Last3', 'Away_Team_Last5', 'Away_Turn_PerPoss_Last3']]\n",
        "X = X.to_numpy()\n",
        "y = NCAA1[['Home_Win/Lose_Pt']]\n",
        "y = y.to_numpy()\n",
        "y = y.ravel()\n",
        "scale = StandardScaler()\n",
        "X_train, X_test, y_train, y_test = train_test_split(X,y,test_size=0.2)\n",
        "X_train = scale.fit_transform(X_train)\n",
        "X_test = scale.transform(X_test)\n",
        "LR = LinearRegression()\n",
        "LR.fit(X_train,y_train)\n",
        "pred=LR.predict(X_test)\n",
        "print('LR')\n",
        "print(r2_score(y_test,pred))"
      ],
      "metadata": {
        "colab": {
          "base_uri": "https://localhost:8080/"
        },
        "id": "nDyrTyKaNqf7",
        "outputId": "1b0f2298-b17d-4973-f79a-8862ba473adb"
      },
      "execution_count": null,
      "outputs": [
        {
          "output_type": "stream",
          "name": "stdout",
          "text": [
            "LR\n",
            "0.23907745233667033\n"
          ]
        }
      ]
    },
    {
      "cell_type": "code",
      "source": [
        "HomeColumns = []\n",
        "for i in NCAA.columns[:110]:\n",
        "  HomeColumns.append(i)"
      ],
      "metadata": {
        "id": "n14ouaQwJ--F"
      },
      "execution_count": null,
      "outputs": []
    },
    {
      "cell_type": "code",
      "source": [
        "NCAAHome = NCAA[HomeColumns]\n",
        "NCAAHome = NCAAHome[NCAAHome.columns.drop(list(NCAAHome.filter(regex='_Away')))]"
      ],
      "metadata": {
        "id": "BNnGIwjYLIA6"
      },
      "execution_count": null,
      "outputs": []
    },
    {
      "cell_type": "code",
      "source": [
        "AwayColumns = []\n",
        "for i in NCAA.columns[110:]:\n",
        "  AwayColumns.append(i)"
      ],
      "metadata": {
        "id": "6AUF8OgFLoGH"
      },
      "execution_count": null,
      "outputs": []
    },
    {
      "cell_type": "code",
      "source": [
        "NCAAAway = NCAA[AwayColumns]\n",
        "NCAAAway = NCAAAway[NCAAAway.columns.drop(list(NCAAAway.filter(regex='_Home')))]"
      ],
      "metadata": {
        "id": "4S4LizMQL8uW"
      },
      "execution_count": null,
      "outputs": []
    },
    {
      "cell_type": "code",
      "source": [
        "HA = pd.concat([NCAAHome, NCAAAway], axis=1)"
      ],
      "metadata": {
        "id": "sF0pdxjdMJH9"
      },
      "execution_count": null,
      "outputs": []
    },
    {
      "cell_type": "code",
      "source": [
        "X = HA.drop(['Home_Team','Away_Team','Home_Win/Lose_Pt', 'Win/Lose'], axis=1)\n",
        "X = X.to_numpy()\n",
        "y = HA[['Win/Lose']]\n",
        "y = y.to_numpy()\n",
        "y = y.ravel()\n",
        "scale = StandardScaler()\n",
        "X_train, X_test, y_train, y_test = train_test_split(X,y,test_size=0.2)\n",
        "X_train = scale.fit_transform(X_train)\n",
        "X_test = scale.transform(X_test)"
      ],
      "metadata": {
        "id": "XhA2wCngMmMw"
      },
      "execution_count": null,
      "outputs": []
    },
    {
      "cell_type": "code",
      "source": [
        "SVC = SV.fit(X_train,y_train)\n",
        "y_pred = SVC.predict(X_test)\n",
        "sklearn.metrics.accuracy_score(y_test, y_pred)"
      ],
      "metadata": {
        "colab": {
          "base_uri": "https://localhost:8080/"
        },
        "id": "x3R4VdT5M683",
        "outputId": "e5949544-53b2-4b09-a02e-a1777803318c"
      },
      "execution_count": null,
      "outputs": [
        {
          "output_type": "execute_result",
          "data": {
            "text/plain": [
              "0.7202797202797203"
            ]
          },
          "metadata": {},
          "execution_count": 12
        }
      ]
    },
    {
      "cell_type": "code",
      "source": [
        "Lo = LogisticRegression()\n",
        "LoR = Lo.fit(X_train,y_train)\n",
        "y_pred = LoR.predict(X_test)\n",
        "sklearn.metrics.accuracy_score(y_test, y_pred)"
      ],
      "metadata": {
        "colab": {
          "base_uri": "https://localhost:8080/"
        },
        "id": "4U2TpIehUJ3Y",
        "outputId": "01a3e874-3b37-455e-86f3-3fabd50c3c26"
      },
      "execution_count": null,
      "outputs": [
        {
          "output_type": "stream",
          "name": "stderr",
          "text": [
            "/usr/local/lib/python3.7/dist-packages/sklearn/linear_model/_logistic.py:818: ConvergenceWarning: lbfgs failed to converge (status=1):\n",
            "STOP: TOTAL NO. of ITERATIONS REACHED LIMIT.\n",
            "\n",
            "Increase the number of iterations (max_iter) or scale the data as shown in:\n",
            "    https://scikit-learn.org/stable/modules/preprocessing.html\n",
            "Please also refer to the documentation for alternative solver options:\n",
            "    https://scikit-learn.org/stable/modules/linear_model.html#logistic-regression\n",
            "  extra_warning_msg=_LOGISTIC_SOLVER_CONVERGENCE_MSG,\n"
          ]
        },
        {
          "output_type": "execute_result",
          "data": {
            "text/plain": [
              "0.7118881118881119"
            ]
          },
          "metadata": {},
          "execution_count": 28
        }
      ]
    },
    {
      "cell_type": "code",
      "source": [
        "X = HA.drop(['Home_Team','Away_Team','Home_Win/Lose_Pt', 'Win/Lose'], axis=1)\n",
        "X = X.to_numpy()\n",
        "y = HA[['Home_Win/Lose_Pt']]\n",
        "y = y.to_numpy()\n",
        "y = y.ravel()\n",
        "scale = StandardScaler()\n",
        "X_train, X_test, y_train, y_test = train_test_split(X,y,test_size=0.2)\n",
        "X_train = scale.fit_transform(X_train)\n",
        "X_test = scale.transform(X_test)\n",
        "LR = LinearRegression()\n",
        "LR.fit(X_train,y_train)\n",
        "pred=LR.predict(X_test)\n",
        "print('LR')\n",
        "print(r2_score(y_test,pred))"
      ],
      "metadata": {
        "colab": {
          "base_uri": "https://localhost:8080/"
        },
        "id": "L7Q4MGo1NRcR",
        "outputId": "2ca59c4a-7769-4220-d06e-ef9aee3e267b"
      },
      "execution_count": null,
      "outputs": [
        {
          "output_type": "stream",
          "name": "stdout",
          "text": [
            "LR\n",
            "0.32586305192163034\n"
          ]
        }
      ]
    }
  ]
}