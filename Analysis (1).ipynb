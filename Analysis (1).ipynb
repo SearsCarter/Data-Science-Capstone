{
  "nbformat": 4,
  "nbformat_minor": 0,
  "metadata": {
    "colab": {
      "name": "Analysis.ipynb",
      "provenance": []
    },
    "kernelspec": {
      "name": "python3",
      "display_name": "Python 3"
    },
    "language_info": {
      "name": "python"
    }
  },
  "cells": [
    {
      "cell_type": "code",
      "execution_count": null,
      "metadata": {
        "id": "wUl-IH-UuA2A"
      },
      "outputs": [],
      "source": [
        "import pandas as pd\n",
        "from google.colab import drive\n",
        "import numpy as np\n",
        "import matplotlib.pyplot as plt\n",
        "from sklearn.metrics import r2_score\n",
        "from sklearn.linear_model import LinearRegression\n",
        "from sklearn.preprocessing import StandardScaler\n",
        "from sklearn.model_selection import train_test_split\n",
        "from sklearn.linear_model import LogisticRegression\n",
        "from sklearn.svm import SVC\n",
        "import sklearn.metrics\n",
        "from sklearn.metrics import precision_recall_curve\n",
        "from sklearn.feature_selection import SelectKBest\n",
        "from sklearn.feature_selection import chi2\n",
        "import matplotlib.pyplot as plt\n"
      ]
    },
    {
      "cell_type": "code",
      "source": [
        "drive.mount(\"/content/gdrive\")"
      ],
      "metadata": {
        "colab": {
          "base_uri": "https://localhost:8080/"
        },
        "id": "A6zuaBhVuHzT",
        "outputId": "d0434ce1-2c06-42b5-c52d-fca33645e99b"
      },
      "execution_count": null,
      "outputs": [
        {
          "output_type": "stream",
          "name": "stdout",
          "text": [
            "Mounted at /content/gdrive\n"
          ]
        }
      ]
    },
    {
      "cell_type": "code",
      "source": [
        "#Load Data set\n",
        "NCAA = pd.read_csv('/content/gdrive/MyDrive/Capstone_Original_Dataset.csv')"
      ],
      "metadata": {
        "id": "g8-xEurkuOF7"
      },
      "execution_count": null,
      "outputs": []
    },
    {
      "cell_type": "code",
      "source": [
        "#Removing games where the Home or Away team has 0 values for Home or Away stats\n",
        "NCAA = NCAA.loc[(NCAA[['Home_Points_Home', 'Home_Points_Away','Away_Points_Home', 'Away_Points_Away']] != 0).all(axis=1)]"
      ],
      "metadata": {
        "id": "vovL4hUnuUMg"
      },
      "execution_count": null,
      "outputs": []
    },
    {
      "cell_type": "code",
      "source": [
        "NCAA"
      ],
      "metadata": {
        "colab": {
          "base_uri": "https://localhost:8080/",
          "height": 557
        },
        "id": "KYM-zhNjuV3x",
        "outputId": "8b30bd0d-f16e-4be5-e32f-1293c924acaa"
      },
      "execution_count": null,
      "outputs": [
        {
          "output_type": "execute_result",
          "data": {
            "text/plain": [
              "                Home_Team            Away_Team  Home_TurnAst_Last3  \\\n",
              "0            San Jose St.         South Dakota               0.745   \n",
              "1           San Diego St.       Long Beach St.               0.971   \n",
              "2                  Nevada           Pepperdine               1.024   \n",
              "3                Ohio St.                 Duke               0.951   \n",
              "4               Boise St.          Saint Louis               1.024   \n",
              "...                   ...                  ...                 ...   \n",
              "3721           Coppin St.         Delaware St.               0.761   \n",
              "3722              Hofstra           Charleston               1.652   \n",
              "3723              Fordham        Massachusetts               0.587   \n",
              "3724       North Carolina             Syracuse               0.864   \n",
              "3725  Fairleigh Dickinson  Central Connecticut               1.025   \n",
              "\n",
              "      Home_TurnAst_Home  Home_TurnAst_Away  Home_Pts_Last3  Home_Points_Home  \\\n",
              "0                 1.304              0.549            62.0              76.5   \n",
              "1                 0.775              1.034            61.3              66.3   \n",
              "2                 2.000              1.119            81.3              79.5   \n",
              "3                 1.667              0.951            70.7              80.0   \n",
              "4                 0.739              1.174            60.3              57.5   \n",
              "...                 ...                ...             ...               ...   \n",
              "3721              0.764              0.752            65.0              68.7   \n",
              "3722              1.935              1.206            71.3              78.2   \n",
              "3723              1.084              0.744            51.7              67.9   \n",
              "3724              1.331              1.046            73.0              77.6   \n",
              "3725              1.133              0.733            86.0              71.6   \n",
              "\n",
              "      Home_Points_Away  Home_Avg_Scoring_Margin_Last3  \\\n",
              "0                 57.7                          -11.3   \n",
              "1                 58.7                            2.7   \n",
              "2                 77.6                            3.7   \n",
              "3                 70.7                           -2.0   \n",
              "4                 63.3                            7.7   \n",
              "...                ...                            ...   \n",
              "3721              66.4                          -15.3   \n",
              "3722              75.3                           -2.3   \n",
              "3723              64.1                           -4.0   \n",
              "3724              77.9                            8.3   \n",
              "3725              65.2                           -5.7   \n",
              "\n",
              "      Home_Avg_Scoring_Margin_Home  ...  Away_Opp_Eff_Poss_Last3  \\\n",
              "0                              1.5  ...                    0.917   \n",
              "1                              7.0  ...                    0.933   \n",
              "2                              4.0  ...                    0.936   \n",
              "3                             14.0  ...                    0.893   \n",
              "4                              6.5  ...                    0.893   \n",
              "...                            ...  ...                      ...   \n",
              "3721                          -4.9  ...                    1.017   \n",
              "3722                           3.4  ...                    0.916   \n",
              "3723                           3.9  ...                    0.909   \n",
              "3724                          11.9  ...                    1.028   \n",
              "3725                          -2.4  ...                    0.953   \n",
              "\n",
              "      Away_Opp_Eff_Poss_Home  Away_Opp_Eff_Poss_Away  Away_Team_Luck  \\\n",
              "0                      0.882                   0.920             0.7   \n",
              "1                      0.949                   0.936             0.7   \n",
              "2                      0.887                   0.971            -0.7   \n",
              "3                      0.886                   0.961             1.2   \n",
              "4                      0.848                   0.859             0.2   \n",
              "...                      ...                     ...             ...   \n",
              "3721                   0.945                   0.999            -3.1   \n",
              "3722                   0.905                   0.904             0.7   \n",
              "3723                   0.927                   0.950             0.4   \n",
              "3724                   0.937                   1.002            -1.0   \n",
              "3725                   0.947                   0.948             0.6   \n",
              "\n",
              "      Away_Team_SOS  Away_Team_Consis  Away_Team_First_Half_Rating  \\\n",
              "0              -5.1              12.3                          1.3   \n",
              "1              -3.1              13.3                         -8.1   \n",
              "2               0.2               7.4                          0.0   \n",
              "3               9.7               8.9                          9.4   \n",
              "4               4.0              10.7                          7.5   \n",
              "...             ...               ...                          ...   \n",
              "3721          -11.1              11.7                        -10.5   \n",
              "3722           -0.3               9.5                          1.4   \n",
              "3723            1.5              10.5                         -3.7   \n",
              "3724            7.4              10.8                          5.8   \n",
              "3725           -5.6              10.5                        -10.0   \n",
              "\n",
              "      Away_Team_Second_Half_Rating  Away_Team_Last5  Home_Win/Lose_Pt  \n",
              "0                             -7.2             -5.1                 9  \n",
              "1                             -0.9             -9.6                25  \n",
              "2                             -7.5             -7.0                13  \n",
              "3                             12.7             21.9                 5  \n",
              "4                              6.3              9.5                -4  \n",
              "...                            ...              ...               ...  \n",
              "3721                          -9.2            -13.0                13  \n",
              "3722                          -0.5              1.8                 5  \n",
              "3723                           2.4             -3.7                12  \n",
              "3724                           2.9              3.8                 9  \n",
              "3725                          -3.5            -20.1                -1  \n",
              "\n",
              "[3573 rows x 219 columns]"
            ],
            "text/html": [
              "\n",
              "  <div id=\"df-952261d8-a14c-4631-abaf-a7d98e986419\">\n",
              "    <div class=\"colab-df-container\">\n",
              "      <div>\n",
              "<style scoped>\n",
              "    .dataframe tbody tr th:only-of-type {\n",
              "        vertical-align: middle;\n",
              "    }\n",
              "\n",
              "    .dataframe tbody tr th {\n",
              "        vertical-align: top;\n",
              "    }\n",
              "\n",
              "    .dataframe thead th {\n",
              "        text-align: right;\n",
              "    }\n",
              "</style>\n",
              "<table border=\"1\" class=\"dataframe\">\n",
              "  <thead>\n",
              "    <tr style=\"text-align: right;\">\n",
              "      <th></th>\n",
              "      <th>Home_Team</th>\n",
              "      <th>Away_Team</th>\n",
              "      <th>Home_TurnAst_Last3</th>\n",
              "      <th>Home_TurnAst_Home</th>\n",
              "      <th>Home_TurnAst_Away</th>\n",
              "      <th>Home_Pts_Last3</th>\n",
              "      <th>Home_Points_Home</th>\n",
              "      <th>Home_Points_Away</th>\n",
              "      <th>Home_Avg_Scoring_Margin_Last3</th>\n",
              "      <th>Home_Avg_Scoring_Margin_Home</th>\n",
              "      <th>...</th>\n",
              "      <th>Away_Opp_Eff_Poss_Last3</th>\n",
              "      <th>Away_Opp_Eff_Poss_Home</th>\n",
              "      <th>Away_Opp_Eff_Poss_Away</th>\n",
              "      <th>Away_Team_Luck</th>\n",
              "      <th>Away_Team_SOS</th>\n",
              "      <th>Away_Team_Consis</th>\n",
              "      <th>Away_Team_First_Half_Rating</th>\n",
              "      <th>Away_Team_Second_Half_Rating</th>\n",
              "      <th>Away_Team_Last5</th>\n",
              "      <th>Home_Win/Lose_Pt</th>\n",
              "    </tr>\n",
              "  </thead>\n",
              "  <tbody>\n",
              "    <tr>\n",
              "      <th>0</th>\n",
              "      <td>San Jose St.</td>\n",
              "      <td>South Dakota</td>\n",
              "      <td>0.745</td>\n",
              "      <td>1.304</td>\n",
              "      <td>0.549</td>\n",
              "      <td>62.0</td>\n",
              "      <td>76.5</td>\n",
              "      <td>57.7</td>\n",
              "      <td>-11.3</td>\n",
              "      <td>1.5</td>\n",
              "      <td>...</td>\n",
              "      <td>0.917</td>\n",
              "      <td>0.882</td>\n",
              "      <td>0.920</td>\n",
              "      <td>0.7</td>\n",
              "      <td>-5.1</td>\n",
              "      <td>12.3</td>\n",
              "      <td>1.3</td>\n",
              "      <td>-7.2</td>\n",
              "      <td>-5.1</td>\n",
              "      <td>9</td>\n",
              "    </tr>\n",
              "    <tr>\n",
              "      <th>1</th>\n",
              "      <td>San Diego St.</td>\n",
              "      <td>Long Beach St.</td>\n",
              "      <td>0.971</td>\n",
              "      <td>0.775</td>\n",
              "      <td>1.034</td>\n",
              "      <td>61.3</td>\n",
              "      <td>66.3</td>\n",
              "      <td>58.7</td>\n",
              "      <td>2.7</td>\n",
              "      <td>7.0</td>\n",
              "      <td>...</td>\n",
              "      <td>0.933</td>\n",
              "      <td>0.949</td>\n",
              "      <td>0.936</td>\n",
              "      <td>0.7</td>\n",
              "      <td>-3.1</td>\n",
              "      <td>13.3</td>\n",
              "      <td>-8.1</td>\n",
              "      <td>-0.9</td>\n",
              "      <td>-9.6</td>\n",
              "      <td>25</td>\n",
              "    </tr>\n",
              "    <tr>\n",
              "      <th>2</th>\n",
              "      <td>Nevada</td>\n",
              "      <td>Pepperdine</td>\n",
              "      <td>1.024</td>\n",
              "      <td>2.000</td>\n",
              "      <td>1.119</td>\n",
              "      <td>81.3</td>\n",
              "      <td>79.5</td>\n",
              "      <td>77.6</td>\n",
              "      <td>3.7</td>\n",
              "      <td>4.0</td>\n",
              "      <td>...</td>\n",
              "      <td>0.936</td>\n",
              "      <td>0.887</td>\n",
              "      <td>0.971</td>\n",
              "      <td>-0.7</td>\n",
              "      <td>0.2</td>\n",
              "      <td>7.4</td>\n",
              "      <td>0.0</td>\n",
              "      <td>-7.5</td>\n",
              "      <td>-7.0</td>\n",
              "      <td>13</td>\n",
              "    </tr>\n",
              "    <tr>\n",
              "      <th>3</th>\n",
              "      <td>Ohio St.</td>\n",
              "      <td>Duke</td>\n",
              "      <td>0.951</td>\n",
              "      <td>1.667</td>\n",
              "      <td>0.951</td>\n",
              "      <td>70.7</td>\n",
              "      <td>80.0</td>\n",
              "      <td>70.7</td>\n",
              "      <td>-2.0</td>\n",
              "      <td>14.0</td>\n",
              "      <td>...</td>\n",
              "      <td>0.893</td>\n",
              "      <td>0.886</td>\n",
              "      <td>0.961</td>\n",
              "      <td>1.2</td>\n",
              "      <td>9.7</td>\n",
              "      <td>8.9</td>\n",
              "      <td>9.4</td>\n",
              "      <td>12.7</td>\n",
              "      <td>21.9</td>\n",
              "      <td>5</td>\n",
              "    </tr>\n",
              "    <tr>\n",
              "      <th>4</th>\n",
              "      <td>Boise St.</td>\n",
              "      <td>Saint Louis</td>\n",
              "      <td>1.024</td>\n",
              "      <td>0.739</td>\n",
              "      <td>1.174</td>\n",
              "      <td>60.3</td>\n",
              "      <td>57.5</td>\n",
              "      <td>63.3</td>\n",
              "      <td>7.7</td>\n",
              "      <td>6.5</td>\n",
              "      <td>...</td>\n",
              "      <td>0.893</td>\n",
              "      <td>0.848</td>\n",
              "      <td>0.859</td>\n",
              "      <td>0.2</td>\n",
              "      <td>4.0</td>\n",
              "      <td>10.7</td>\n",
              "      <td>7.5</td>\n",
              "      <td>6.3</td>\n",
              "      <td>9.5</td>\n",
              "      <td>-4</td>\n",
              "    </tr>\n",
              "    <tr>\n",
              "      <th>...</th>\n",
              "      <td>...</td>\n",
              "      <td>...</td>\n",
              "      <td>...</td>\n",
              "      <td>...</td>\n",
              "      <td>...</td>\n",
              "      <td>...</td>\n",
              "      <td>...</td>\n",
              "      <td>...</td>\n",
              "      <td>...</td>\n",
              "      <td>...</td>\n",
              "      <td>...</td>\n",
              "      <td>...</td>\n",
              "      <td>...</td>\n",
              "      <td>...</td>\n",
              "      <td>...</td>\n",
              "      <td>...</td>\n",
              "      <td>...</td>\n",
              "      <td>...</td>\n",
              "      <td>...</td>\n",
              "      <td>...</td>\n",
              "      <td>...</td>\n",
              "    </tr>\n",
              "    <tr>\n",
              "      <th>3721</th>\n",
              "      <td>Coppin St.</td>\n",
              "      <td>Delaware St.</td>\n",
              "      <td>0.761</td>\n",
              "      <td>0.764</td>\n",
              "      <td>0.752</td>\n",
              "      <td>65.0</td>\n",
              "      <td>68.7</td>\n",
              "      <td>66.4</td>\n",
              "      <td>-15.3</td>\n",
              "      <td>-4.9</td>\n",
              "      <td>...</td>\n",
              "      <td>1.017</td>\n",
              "      <td>0.945</td>\n",
              "      <td>0.999</td>\n",
              "      <td>-3.1</td>\n",
              "      <td>-11.1</td>\n",
              "      <td>11.7</td>\n",
              "      <td>-10.5</td>\n",
              "      <td>-9.2</td>\n",
              "      <td>-13.0</td>\n",
              "      <td>13</td>\n",
              "    </tr>\n",
              "    <tr>\n",
              "      <th>3722</th>\n",
              "      <td>Hofstra</td>\n",
              "      <td>Charleston</td>\n",
              "      <td>1.652</td>\n",
              "      <td>1.935</td>\n",
              "      <td>1.206</td>\n",
              "      <td>71.3</td>\n",
              "      <td>78.2</td>\n",
              "      <td>75.3</td>\n",
              "      <td>-2.3</td>\n",
              "      <td>3.4</td>\n",
              "      <td>...</td>\n",
              "      <td>0.916</td>\n",
              "      <td>0.905</td>\n",
              "      <td>0.904</td>\n",
              "      <td>0.7</td>\n",
              "      <td>-0.3</td>\n",
              "      <td>9.5</td>\n",
              "      <td>1.4</td>\n",
              "      <td>-0.5</td>\n",
              "      <td>1.8</td>\n",
              "      <td>5</td>\n",
              "    </tr>\n",
              "    <tr>\n",
              "      <th>3723</th>\n",
              "      <td>Fordham</td>\n",
              "      <td>Massachusetts</td>\n",
              "      <td>0.587</td>\n",
              "      <td>1.084</td>\n",
              "      <td>0.744</td>\n",
              "      <td>51.7</td>\n",
              "      <td>67.9</td>\n",
              "      <td>64.1</td>\n",
              "      <td>-4.0</td>\n",
              "      <td>3.9</td>\n",
              "      <td>...</td>\n",
              "      <td>0.909</td>\n",
              "      <td>0.927</td>\n",
              "      <td>0.950</td>\n",
              "      <td>0.4</td>\n",
              "      <td>1.5</td>\n",
              "      <td>10.5</td>\n",
              "      <td>-3.7</td>\n",
              "      <td>2.4</td>\n",
              "      <td>-3.7</td>\n",
              "      <td>12</td>\n",
              "    </tr>\n",
              "    <tr>\n",
              "      <th>3724</th>\n",
              "      <td>North Carolina</td>\n",
              "      <td>Syracuse</td>\n",
              "      <td>0.864</td>\n",
              "      <td>1.331</td>\n",
              "      <td>1.046</td>\n",
              "      <td>73.0</td>\n",
              "      <td>77.6</td>\n",
              "      <td>77.9</td>\n",
              "      <td>8.3</td>\n",
              "      <td>11.9</td>\n",
              "      <td>...</td>\n",
              "      <td>1.028</td>\n",
              "      <td>0.937</td>\n",
              "      <td>1.002</td>\n",
              "      <td>-1.0</td>\n",
              "      <td>7.4</td>\n",
              "      <td>10.8</td>\n",
              "      <td>5.8</td>\n",
              "      <td>2.9</td>\n",
              "      <td>3.8</td>\n",
              "      <td>9</td>\n",
              "    </tr>\n",
              "    <tr>\n",
              "      <th>3725</th>\n",
              "      <td>Fairleigh Dickinson</td>\n",
              "      <td>Central Connecticut</td>\n",
              "      <td>1.025</td>\n",
              "      <td>1.133</td>\n",
              "      <td>0.733</td>\n",
              "      <td>86.0</td>\n",
              "      <td>71.6</td>\n",
              "      <td>65.2</td>\n",
              "      <td>-5.7</td>\n",
              "      <td>-2.4</td>\n",
              "      <td>...</td>\n",
              "      <td>0.953</td>\n",
              "      <td>0.947</td>\n",
              "      <td>0.948</td>\n",
              "      <td>0.6</td>\n",
              "      <td>-5.6</td>\n",
              "      <td>10.5</td>\n",
              "      <td>-10.0</td>\n",
              "      <td>-3.5</td>\n",
              "      <td>-20.1</td>\n",
              "      <td>-1</td>\n",
              "    </tr>\n",
              "  </tbody>\n",
              "</table>\n",
              "<p>3573 rows × 219 columns</p>\n",
              "</div>\n",
              "      <button class=\"colab-df-convert\" onclick=\"convertToInteractive('df-952261d8-a14c-4631-abaf-a7d98e986419')\"\n",
              "              title=\"Convert this dataframe to an interactive table.\"\n",
              "              style=\"display:none;\">\n",
              "        \n",
              "  <svg xmlns=\"http://www.w3.org/2000/svg\" height=\"24px\"viewBox=\"0 0 24 24\"\n",
              "       width=\"24px\">\n",
              "    <path d=\"M0 0h24v24H0V0z\" fill=\"none\"/>\n",
              "    <path d=\"M18.56 5.44l.94 2.06.94-2.06 2.06-.94-2.06-.94-.94-2.06-.94 2.06-2.06.94zm-11 1L8.5 8.5l.94-2.06 2.06-.94-2.06-.94L8.5 2.5l-.94 2.06-2.06.94zm10 10l.94 2.06.94-2.06 2.06-.94-2.06-.94-.94-2.06-.94 2.06-2.06.94z\"/><path d=\"M17.41 7.96l-1.37-1.37c-.4-.4-.92-.59-1.43-.59-.52 0-1.04.2-1.43.59L10.3 9.45l-7.72 7.72c-.78.78-.78 2.05 0 2.83L4 21.41c.39.39.9.59 1.41.59.51 0 1.02-.2 1.41-.59l7.78-7.78 2.81-2.81c.8-.78.8-2.07 0-2.86zM5.41 20L4 18.59l7.72-7.72 1.47 1.35L5.41 20z\"/>\n",
              "  </svg>\n",
              "      </button>\n",
              "      \n",
              "  <style>\n",
              "    .colab-df-container {\n",
              "      display:flex;\n",
              "      flex-wrap:wrap;\n",
              "      gap: 12px;\n",
              "    }\n",
              "\n",
              "    .colab-df-convert {\n",
              "      background-color: #E8F0FE;\n",
              "      border: none;\n",
              "      border-radius: 50%;\n",
              "      cursor: pointer;\n",
              "      display: none;\n",
              "      fill: #1967D2;\n",
              "      height: 32px;\n",
              "      padding: 0 0 0 0;\n",
              "      width: 32px;\n",
              "    }\n",
              "\n",
              "    .colab-df-convert:hover {\n",
              "      background-color: #E2EBFA;\n",
              "      box-shadow: 0px 1px 2px rgba(60, 64, 67, 0.3), 0px 1px 3px 1px rgba(60, 64, 67, 0.15);\n",
              "      fill: #174EA6;\n",
              "    }\n",
              "\n",
              "    [theme=dark] .colab-df-convert {\n",
              "      background-color: #3B4455;\n",
              "      fill: #D2E3FC;\n",
              "    }\n",
              "\n",
              "    [theme=dark] .colab-df-convert:hover {\n",
              "      background-color: #434B5C;\n",
              "      box-shadow: 0px 1px 3px 1px rgba(0, 0, 0, 0.15);\n",
              "      filter: drop-shadow(0px 1px 2px rgba(0, 0, 0, 0.3));\n",
              "      fill: #FFFFFF;\n",
              "    }\n",
              "  </style>\n",
              "\n",
              "      <script>\n",
              "        const buttonEl =\n",
              "          document.querySelector('#df-952261d8-a14c-4631-abaf-a7d98e986419 button.colab-df-convert');\n",
              "        buttonEl.style.display =\n",
              "          google.colab.kernel.accessAllowed ? 'block' : 'none';\n",
              "\n",
              "        async function convertToInteractive(key) {\n",
              "          const element = document.querySelector('#df-952261d8-a14c-4631-abaf-a7d98e986419');\n",
              "          const dataTable =\n",
              "            await google.colab.kernel.invokeFunction('convertToInteractive',\n",
              "                                                     [key], {});\n",
              "          if (!dataTable) return;\n",
              "\n",
              "          const docLinkHtml = 'Like what you see? Visit the ' +\n",
              "            '<a target=\"_blank\" href=https://colab.research.google.com/notebooks/data_table.ipynb>data table notebook</a>'\n",
              "            + ' to learn more about interactive tables.';\n",
              "          element.innerHTML = '';\n",
              "          dataTable['output_type'] = 'display_data';\n",
              "          await google.colab.output.renderOutput(dataTable, element);\n",
              "          const docLink = document.createElement('div');\n",
              "          docLink.innerHTML = docLinkHtml;\n",
              "          element.appendChild(docLink);\n",
              "        }\n",
              "      </script>\n",
              "    </div>\n",
              "  </div>\n",
              "  "
            ]
          },
          "metadata": {},
          "execution_count": 7
        }
      ]
    },
    {
      "cell_type": "code",
      "source": [
        "#Print columns to start analysis\n",
        "for i in NCAA.columns:\n",
        "  print(i)"
      ],
      "metadata": {
        "colab": {
          "base_uri": "https://localhost:8080/"
        },
        "id": "YB1c8ZYpvsjU",
        "outputId": "42adc5be-c315-4dd3-dc13-a204ef36f45f"
      },
      "execution_count": null,
      "outputs": [
        {
          "output_type": "stream",
          "name": "stdout",
          "text": [
            "Home_Team\n",
            "Away_Team\n",
            "Home_TurnAst_Last3\n",
            "Home_TurnAst_Home\n",
            "Home_TurnAst_Away\n",
            "Home_Pts_Last3\n",
            "Home_Points_Home\n",
            "Home_Points_Away\n",
            "Home_Avg_Scoring_Margin_Last3\n",
            "Home_Avg_Scoring_Margin_Home\n",
            "Home_Avg_Scoring_Margin_Away\n",
            "Home_OffEff_Last3\n",
            "Home_OffEff_Home\n",
            "Home_OffEff_Away\n",
            "Home_FloorPercent_Last3\n",
            "Home_FloorPercent_Home\n",
            "Home_FloorPercent_Away\n",
            "Home_TrueShooting_Last3\n",
            "Home_TrueShooting_Home\n",
            "Home_TrueShooting_Away\n",
            "Home_EffFGPct_Last3\n",
            "Home_EffFGPct_Home\n",
            "Home_EffFGPct_Away\n",
            "Home_FTpct_Last3\n",
            "Home_FTpct_Home\n",
            "Home_FTpct_Away\n",
            "Home_FT_Rate_Last3\n",
            "Home_FT_Rate_Home\n",
            "Home_FT_Rate_Away\n",
            "Home_Three_Pt_Rate_Last3\n",
            "Home_Three_Pt_Rate_Home\n",
            "Home_Three_Pt_Rate_Away\n",
            "Home_Off_RB_Pct_Last3\n",
            "Home_Off_RB_Pct_Home\n",
            "Home_Off_RB_Pct_Away\n",
            "Home_Def_RB_Pct_Last3\n",
            "Home_Def_RB_Pct_Home\n",
            "Home_Def_RB_Pct_Away\n",
            "Home_Block_Pct_Last3\n",
            "Home_Block_Pct_Home\n",
            "Home_Block_Pct_Away\n",
            "Home_Steals_PerPoss_Last3\n",
            "Home_Steals_PerPoss_Home\n",
            "Home_Steals_PerPoss_Away\n",
            "Home_Turn_PerPoss_Last3\n",
            "Home_Turn_PerPoss_Home\n",
            "Home_Turn_PerPoss_Away\n",
            "Home_Ast_PerPoss_Last3\n",
            "Home_Ast_PerPoss_Home\n",
            "Home_Ast_PerPoss_Away\n",
            "Home_Fouls_PerPoss_Last3\n",
            "Home_Fouls_PerPoss_Home\n",
            "Home_Fouls_PerPoss_Away\n",
            "Home_Points_Allowed_Last3\n",
            "Home_Points_Allowed_Home\n",
            "Home_Points_Allowed_Away\n",
            "Home_Opp_Avg_Scoring_Margin_Last3\n",
            "Home_Opp_Avg_Scoring_Margin_Home\n",
            "Home_Opp_Avg_Scoring_Margin_Away\n",
            "Home_Def_Eff_Last3\n",
            "Home_Def_Eff_Home\n",
            "Home_Def_Eff_Away\n",
            "Home_Opp_Floor_Pct_Last3\n",
            "Home_Opp_Floor_Pct_Home\n",
            "Home_Opp_Floor_Pct_Away\n",
            "Home_Opp_Eff_FG_Pct_Last3\n",
            "Home_Opp_Eff_FG_Pct_Home\n",
            "Home_Opp_Eff_FG_Pct_Away\n",
            "Home_Opp_TrueShooting_Pct_Last3\n",
            "Home_Opp_TrueShooting_Pct_Home\n",
            "Home_Opp_TrueShooting_Pct_Away\n",
            "Home_Opp_Three_Pt_Rate_Last3\n",
            "Home_Opp_Three_Pt_Rate_Home\n",
            "Home_Opp_Three_Pt_Rate_Away\n",
            "Home_Opp_FT_Rate_Last3\n",
            "Home_Opp_FT_Rate_Home\n",
            "Home_Opp_FT_Rate_Away\n",
            "Home_Opp_Block_Pct_Last3\n",
            "Home_Opp_Block_Pct_Home\n",
            "Home_Opp_Block_Pct_Away\n",
            "Home_Opp_Steals_PerPoss_Last3\n",
            "Home_Opp_Steals_PerPoss_Home\n",
            "Home_Opp_Steals_PerPoss_Away\n",
            "Home_Opp_AstTurn_Ratio_Last3\n",
            "Home_Opp_AstTurn_Ratio_Home\n",
            "Home_Opp_AstTurn_Ratio_Away\n",
            "Home_Opp_Ast_PerPoss_Last3\n",
            "Home_Opp_Ast_PerPoss_Home\n",
            "Home_Opp_Ast_PerPoss_Away\n",
            "Home_Opp_Turn_PerPoss_Last3\n",
            "Home_Opp_Turn_PerPoss_Home\n",
            "Home_Opp_Turn_PerPoss_Away\n",
            "Home_Opp_Fouls_PerPoss_Last3\n",
            "Home_Opp_Fouls_PerPoss_Home\n",
            "Home_Opp_Fouls_PerPoss_Away\n",
            "Home_Poss_Per_Game_Last3\n",
            "Home_Poss_Per_Game_Home\n",
            "Home_Poss_Per_Game_Away\n",
            "Home_Eff_Poss_Last3\n",
            "Home_Eff_Poss_Home\n",
            "Home_Eff_Poss_Away\n",
            "Home_Opp_Eff_Poss_Last3\n",
            "Home_Opp_Eff_Poss_Home\n",
            "Home_Opp_Eff_Poss_Away\n",
            "Home_Team_Luck\n",
            "Home_Team_SOS\n",
            "Home_Team_Consis\n",
            "Home_Team_First_Half_Rating\n",
            "Home_Team_Second_Half_Rating\n",
            "Home_Team_Last5\n",
            "Away_TurnAst_Last3\n",
            "Away_TurnAst_Home\n",
            "Away_TurnAst_Away\n",
            "Away_Pts_Last3\n",
            "Away_Points_Home\n",
            "Away_Points_Away\n",
            "Away_Avg_Scoring_Margin_Last3\n",
            "Away_Avg_Scoring_Margin_Home\n",
            "Away_Avg_Scoring_Margin_Away\n",
            "Away_OffEff_Last3\n",
            "Away_OffEff_Home\n",
            "Away_OffEff_Away\n",
            "Away_FloorPercent_Last3\n",
            "Away_FloorPercent_Home\n",
            "Away_FloorPercent_Away\n",
            "Away_TrueShooting_Last3\n",
            "Away_TrueShooting_Home\n",
            "Away_TrueShooting_Away\n",
            "Away_EffFGPct_Last3\n",
            "Away_EffFGPct_Home\n",
            "Away_EffFGPct_Away\n",
            "Away_FTpct_Last3\n",
            "Away_FTpct_Home\n",
            "Away_FTpct_Away\n",
            "Away_FT_Rate_Last3\n",
            "Away_FT_Rate_Home\n",
            "Away_FT_Rate_Away\n",
            "Away_Three_Pt_Rate_Last3\n",
            "Away_Three_Pt_Rate_Home\n",
            "Away_Three_Pt_Rate_Away\n",
            "Away_Off_RB_Pct_Last3\n",
            "Away_Off_RB_Pct_Home\n",
            "Away_Off_RB_Pct_Away\n",
            "Away_Def_RB_Pct_Last3\n",
            "Away_Def_RB_Pct_Home\n",
            "Away_Def_RB_Pct_Away\n",
            "Away_Block_Pct_Last3\n",
            "Away_Block_Pct_Home\n",
            "Away_Block_Pct_Away\n",
            "Away_Steals_PerPoss_Last3\n",
            "Away_Steals_PerPoss_Home\n",
            "Away_Steals_PerPoss_Away\n",
            "Away_Turn_PerPoss_Last3\n",
            "Away_Turn_PerPoss_Home\n",
            "Away_Turn_PerPoss_Away\n",
            "Away_Ast_PerPoss_Last3\n",
            "Away_Ast_PerPoss_Home\n",
            "Away_Ast_PerPoss_Away\n",
            "Away_Fouls_PerPoss_Last3\n",
            "Away_Fouls_PerPoss_Home\n",
            "Away_Fouls_PerPoss_Away\n",
            "Away_Points_Allowed_Last3\n",
            "Away_Points_Allowed_Home\n",
            "Away_Points_Allowed_Away\n",
            "Away_Opp_Avg_Scoring_Margin_Last3\n",
            "Away_Opp_Avg_Scoring_Margin_Home\n",
            "Away_Opp_Avg_Scoring_Margin_Away\n",
            "Away_Def_Eff_Last3\n",
            "Away_Def_Eff_Home\n",
            "Away_Def_Eff_Away\n",
            "Away_Opp_Floor_Pct_Last3\n",
            "Away_Opp_Floor_Pct_Home\n",
            "Away_Opp_Floor_Pct_Away\n",
            "Away_Opp_Eff_FG_Pct_Last3\n",
            "Away_Opp_Eff_FG_Pct_Home\n",
            "Away_Opp_Eff_FG_Pct_Away\n",
            "Away_Opp_TrueShooting_Pct_Last3\n",
            "Away_Opp_TrueShooting_Pct_Home\n",
            "Away_Opp_TrueShooting_Pct_Away\n",
            "Away_Opp_Three_Pt_Rate_Last3\n",
            "Away_Opp_Three_Pt_Rate_Home\n",
            "Away_Opp_Three_Pt_Rate_Away\n",
            "Away_Opp_FT_Rate_Last3\n",
            "Away_Opp_FT_Rate_Home\n",
            "Away_Opp_FT_Rate_Away\n",
            "Away_Opp_Block_Pct_Last3\n",
            "Away_Opp_Block_Pct_Home\n",
            "Away_Opp_Block_Pct_Away\n",
            "Away_Opp_Steals_PerPoss_Last3\n",
            "Away_Opp_Steals_PerPoss_Home\n",
            "Away_Opp_Steals_PerPoss_Away\n",
            "Away_Opp_AstTurn_Ratio_Last3\n",
            "Away_Opp_AstTurn_Ratio_Home\n",
            "Away_Opp_AstTurn_Ratio_Away\n",
            "Away_Opp_Ast_PerPoss_Last3\n",
            "Away_Opp_Ast_PerPoss_Home\n",
            "Away_Opp_Ast_PerPoss_Away\n",
            "Away_Opp_Turn_PerPoss_Last3\n",
            "Away_Opp_Turn_PerPoss_Home\n",
            "Away_Opp_Turn_PerPoss_Away\n",
            "Away_Opp_Fouls_PerPoss_Last3\n",
            "Away_Opp_Fouls_PerPoss_Home\n",
            "Away_Opp_Fouls_PerPoss_Away\n",
            "Away_Poss_Per_Game_Last3\n",
            "Away_Poss_Per_Game_Home\n",
            "Away_Poss_Per_Game_Away\n",
            "Away_Eff_Poss_Last3\n",
            "Away_Eff_Poss_Home\n",
            "Away_Eff_Poss_Away\n",
            "Away_Opp_Eff_Poss_Last3\n",
            "Away_Opp_Eff_Poss_Home\n",
            "Away_Opp_Eff_Poss_Away\n",
            "Away_Team_Luck\n",
            "Away_Team_SOS\n",
            "Away_Team_Consis\n",
            "Away_Team_First_Half_Rating\n",
            "Away_Team_Second_Half_Rating\n",
            "Away_Team_Last5\n",
            "Home_Win/Lose_Pt\n"
          ]
        }
      ]
    },
    {
      "cell_type": "code",
      "source": [
        "#Create two dataframes - One with home team wins and one with away team wins\n",
        "HomeWin = NCAA.loc[NCAA['Home_Win/Lose_Pt'] > 0]\n",
        "AwayWin = NCAA.loc[NCAA['Home_Win/Lose_Pt'] < 0]"
      ],
      "metadata": {
        "id": "VrNy3zNjuc9s"
      },
      "execution_count": null,
      "outputs": []
    },
    {
      "cell_type": "code",
      "source": [
        "#Average of winners' Last 5 rating compared to losers'\n",
        "HomeWinLast = HomeWin['Home_Team_Last5'].mean()\n",
        "AwayWinLast = AwayWin['Away_Team_Last5'].mean()\n",
        "HomeLoseLast = AwayWin['Home_Team_Last5'].mean()\n",
        "AwayLoseLast = HomeWin['Away_Team_Last5'].mean()\n",
        "\n",
        "data = [(HomeWinLast + AwayWinLast) / 2, (HomeLoseLast + AwayLoseLast) / 2]\n",
        "labels = ['Winners', 'Losers']\n",
        "\n",
        "plt.bar(labels, data)\n",
        "plt.ylabel('Last 5')\n",
        "plt.title('L5')"
      ],
      "metadata": {
        "colab": {
          "base_uri": "https://localhost:8080/",
          "height": 298
        },
        "id": "LeBkXzfZ0XRG",
        "outputId": "1b82623c-b8a0-49e5-b85d-1e9140d4cad8"
      },
      "execution_count": null,
      "outputs": [
        {
          "output_type": "execute_result",
          "data": {
            "text/plain": [
              "Text(0.5, 1.0, 'L5')"
            ]
          },
          "metadata": {},
          "execution_count": 10
        },
        {
          "output_type": "display_data",
          "data": {
            "text/plain": [
              "<Figure size 432x288 with 1 Axes>"
            ],
            "image/png": "[encoded data removed]"
          },
          "metadata": {
            "needs_background": "light"
          }
        }
      ]
    },
    {
      "cell_type": "code",
      "source": [
        "#Testing home teams who win offeff compared to away teams that win\n",
        "HomeWinOff = HomeWin['Home_OffEff_Home'].mean()\n",
        "AwayWinOff = AwayWin['Away_OffEff_Away'].mean()\n",
        "\n",
        "data = [HomeWinOff, AwayWinOff]\n",
        "labels = ['Home Teams', 'Away Teams']\n",
        "\n",
        "plt.bar(labels, data)\n",
        "plt.ylabel('OffEff')\n",
        "plt.title('OF')"
      ],
      "metadata": {
        "colab": {
          "base_uri": "https://localhost:8080/",
          "height": 298
        },
        "id": "qbdoYDhF1uNB",
        "outputId": "211c35ec-a5fc-475d-9cea-9d842463dcac"
      },
      "execution_count": null,
      "outputs": [
        {
          "output_type": "execute_result",
          "data": {
            "text/plain": [
              "Text(0.5, 1.0, 'OF')"
            ]
          },
          "metadata": {},
          "execution_count": 11
        },
        {
          "output_type": "display_data",
          "data": {
            "text/plain": [
              "<Figure size 432x288 with 1 Axes>"
            ],
            "image/png": "[encoded data removed]"
          },
          "metadata": {
            "needs_background": "light"
          }
        }
      ]
    },
    {
      "cell_type": "code",
      "source": [
        "#Testing home teams who win defeff compared to away teams that win\n",
        "HomeWinDef = (HomeWin['Home_Def_Eff_Home']).mean()\n",
        "AwayWinDef = (AwayWin['Away_Def_Eff_Away']).mean()\n",
        "\n",
        "data = [HomeWinDef, AwayWinDef]\n",
        "labels = ['Home Teams', 'Away Teams']\n",
        "\n",
        "plt.bar(labels, data)\n",
        "plt.ylabel('DefEff')\n",
        "plt.title('DF')"
      ],
      "metadata": {
        "colab": {
          "base_uri": "https://localhost:8080/",
          "height": 298
        },
        "id": "RJWa-n-83T4r",
        "outputId": "1f63827a-176d-4502-de2f-618f791eddb5"
      },
      "execution_count": null,
      "outputs": [
        {
          "output_type": "execute_result",
          "data": {
            "text/plain": [
              "Text(0.5, 1.0, 'DF')"
            ]
          },
          "metadata": {},
          "execution_count": 12
        },
        {
          "output_type": "display_data",
          "data": {
            "text/plain": [
              "<Figure size 432x288 with 1 Axes>"
            ],
            "image/png": "[encoded data removed]"
          },
          "metadata": {
            "needs_background": "light"
          }
        }
      ]
    },
    {
      "cell_type": "code",
      "source": [
        "#Testing home teams who win turn compared to away teams that win\n",
        "HomeWinTurn = (HomeWin['Home_Turn_PerPoss_Home']).mean()\n",
        "AwayWinTurn = (AwayWin['Away_Turn_PerPoss_Away']).mean()\n",
        "\n",
        "data = [HomeWinDef, AwayWinDef]\n",
        "labels = ['Home Teams', 'Away Teams']\n",
        "\n",
        "plt.bar(labels, data)\n",
        "plt.ylabel('Turn')\n",
        "plt.title('Turn')"
      ],
      "metadata": {
        "colab": {
          "base_uri": "https://localhost:8080/",
          "height": 298
        },
        "id": "MlkJS1LW4q1v",
        "outputId": "d6a43c7c-81b7-4b10-bfcf-60465fa918f7"
      },
      "execution_count": null,
      "outputs": [
        {
          "output_type": "execute_result",
          "data": {
            "text/plain": [
              "Text(0.5, 1.0, 'Turn')"
            ]
          },
          "metadata": {},
          "execution_count": 13
        },
        {
          "output_type": "display_data",
          "data": {
            "text/plain": [
              "<Figure size 432x288 with 1 Axes>"
            ],
            "image/png": "[encoded data removed]"
          },
          "metadata": {
            "needs_background": "light"
          }
        }
      ]
    },
    {
      "cell_type": "code",
      "source": [
        "#Average difference between Away teams def eff vs home teams def eff when away team won\n",
        "Dif = []\n",
        "for (i,x) in zip(AwayWin['Away_Def_Eff_Away'],AwayWin['Home_Def_Eff_Home']):\n",
        "  dif = (i - x)\n",
        "  Dif.append(dif)\n",
        "\n",
        "Sum = 0\n",
        "for j in Dif:\n",
        "  Sum = Sum + j\n",
        "\n",
        "print(Sum/ len(Dif))"
      ],
      "metadata": {
        "colab": {
          "base_uri": "https://localhost:8080/"
        },
        "id": "kd5IckSS5ay0",
        "outputId": "d6c384df-0e4e-4a0b-8482-b073953304c9"
      },
      "execution_count": null,
      "outputs": [
        {
          "output_type": "stream",
          "name": "stdout",
          "text": [
            "0.05092776998597482\n"
          ]
        }
      ]
    },
    {
      "cell_type": "code",
      "source": [
        "#Average difference between Home teams def eff vs Away teams def eff when home team won\n",
        "Dif = []\n",
        "for (i,x) in zip(HomeWin['Home_Def_Eff_Home'],HomeWin['Away_Def_Eff_Away']):\n",
        "  dif = (i - x)\n",
        "  Dif.append(dif)\n",
        "\n",
        "Sum = 0\n",
        "for j in Dif:\n",
        "  Sum = Sum + j\n",
        "\n",
        "print(Sum/ len(Dif))"
      ],
      "metadata": {
        "colab": {
          "base_uri": "https://localhost:8080/"
        },
        "id": "yoQC3wPo8wAI",
        "outputId": "229d4c45-0b0e-4ed6-9ba2-877213d396e5"
      },
      "execution_count": null,
      "outputs": [
        {
          "output_type": "stream",
          "name": "stdout",
          "text": [
            "-0.10485980437820205\n"
          ]
        }
      ]
    },
    {
      "cell_type": "code",
      "source": [
        "#Average difference between Away teams turnovers per poss vs home teams turnovers per poss when home team won\n",
        "Dif = []\n",
        "for (i,x) in zip(HomeWin['Home_Turn_PerPoss_Home'],HomeWin['Away_Turn_PerPoss_Away']):\n",
        "  dif = (i - x)\n",
        "  Dif.append(dif)\n",
        "\n",
        "Sum = 0\n",
        "for j in Dif:\n",
        "  Sum = Sum + j\n",
        "\n",
        "print(Sum/ len(Dif))"
      ],
      "metadata": {
        "colab": {
          "base_uri": "https://localhost:8080/"
        },
        "id": "1E0ylvfC-G6y",
        "outputId": "83d084cc-8fce-46eb-8b93-69b9ba5332b7"
      },
      "execution_count": null,
      "outputs": [
        {
          "output_type": "stream",
          "name": "stdout",
          "text": [
            "-1.8213786679087076\n"
          ]
        }
      ]
    },
    {
      "cell_type": "code",
      "source": [
        "#Average difference between Away teams turnovers per poss vs home teams turnovers per poss when away team won\n",
        "Dif = []\n",
        "for (i,x) in zip(AwayWin['Away_Turn_PerPoss_Away'],AwayWin['Home_Turn_PerPoss_Home']):\n",
        "  dif = (i - x)\n",
        "  Dif.append(dif)\n",
        "\n",
        "Sum = 0\n",
        "for j in Dif:\n",
        "  Sum = Sum + j\n",
        "\n",
        "print(Sum/ len(Dif))"
      ],
      "metadata": {
        "colab": {
          "base_uri": "https://localhost:8080/"
        },
        "id": "N3AI5cRo-hkt",
        "outputId": "6a85a2a6-ceaf-4286-a8da-c9106bc11514"
      },
      "execution_count": null,
      "outputs": [
        {
          "output_type": "stream",
          "name": "stdout",
          "text": [
            "0.7136746143057504\n"
          ]
        }
      ]
    },
    {
      "cell_type": "code",
      "source": [
        "#Average difference between Away teams off eff vs home teams off eff when away team won\n",
        "Dif = []\n",
        "for (i,x) in zip(AwayWin['Away_OffEff_Away'],AwayWin['Home_OffEff_Home']):\n",
        "  dif = (i - x)\n",
        "  Dif.append(dif)\n",
        "\n",
        "Sum = 0\n",
        "for j in Dif:\n",
        "  Sum = Sum + j\n",
        "\n",
        "print(Sum/ len(Dif))"
      ],
      "metadata": {
        "colab": {
          "base_uri": "https://localhost:8080/"
        },
        "id": "nErPoZOV_hti",
        "outputId": "a3d94eaf-9f68-4085-c0ed-49fa196d7208"
      },
      "execution_count": null,
      "outputs": [
        {
          "output_type": "stream",
          "name": "stdout",
          "text": [
            "-0.03836746143057506\n"
          ]
        }
      ]
    },
    {
      "cell_type": "code",
      "source": [
        "#Average difference between Away teams consistency vs home teams consistency when away team won\n",
        "Dif = []\n",
        "for (i,x) in zip(AwayWin['Away_Team_Consis'],AwayWin['Home_Team_Consis']):\n",
        "  dif = (i - x)\n",
        "  Dif.append(dif)\n",
        "\n",
        "Sum = 0\n",
        "for j in Dif:\n",
        "  Sum = Sum + j\n",
        "\n",
        "print(Sum/ len(Dif))"
      ],
      "metadata": {
        "colab": {
          "base_uri": "https://localhost:8080/"
        },
        "id": "DfMMIP0CANOk",
        "outputId": "7a6fd666-7d01-4833-8fca-39dd9c8676c7"
      },
      "execution_count": null,
      "outputs": [
        {
          "output_type": "stream",
          "name": "stdout",
          "text": [
            "-0.060869565217391335\n"
          ]
        }
      ]
    },
    {
      "cell_type": "code",
      "source": [
        "#Average difference between Away teams Last 5 Rating vs home teams Last 5 Rating when away team won\n",
        "Dif = []\n",
        "for (i,x) in zip(AwayWin['Away_Team_Last5'],AwayWin['Home_Team_Last5']):\n",
        "  dif = (i - x)\n",
        "  Dif.append(dif)\n",
        "\n",
        "Sum = 0\n",
        "for j in Dif:\n",
        "  Sum = Sum + j\n",
        "\n",
        "print(Sum/ len(Dif))"
      ],
      "metadata": {
        "colab": {
          "base_uri": "https://localhost:8080/"
        },
        "id": "6pz3QkEtAVY6",
        "outputId": "a5f2cbd8-ee7b-4148-cf76-306c1488c437"
      },
      "execution_count": null,
      "outputs": [
        {
          "output_type": "stream",
          "name": "stdout",
          "text": [
            "4.583099579242638\n"
          ]
        }
      ]
    },
    {
      "cell_type": "code",
      "source": [
        "#Average difference between Away teams fouls per poss vs home teams fouls per poss when away team won\n",
        "Dif = []\n",
        "for (i,x) in zip(AwayWin['Away_Fouls_PerPoss_Away'],AwayWin['Home_Fouls_PerPoss_Home']):\n",
        "  dif = (i - x)\n",
        "  Dif.append(dif)\n",
        "\n",
        "Sum = 0\n",
        "for j in Dif:\n",
        "  Sum = Sum + j\n",
        "\n",
        "print(Sum/ len(Dif))"
      ],
      "metadata": {
        "colab": {
          "base_uri": "https://localhost:8080/"
        },
        "id": "U6QLRJnPApIK",
        "outputId": "458b44a3-bdc9-4dc9-ab58-750bc21952c0"
      },
      "execution_count": null,
      "outputs": [
        {
          "output_type": "stream",
          "name": "stdout",
          "text": [
            "1.6962131837307135\n"
          ]
        }
      ]
    },
    {
      "cell_type": "code",
      "source": [
        "#Average difference between Away teams first half rating vs home teams first half rating when away team won\n",
        "Dif = []\n",
        "for (i,x) in zip(AwayWin['Away_Team_First_Half_Rating'],AwayWin['Home_Team_First_Half_Rating']):\n",
        "  dif = (i - x)\n",
        "  Dif.append(dif)\n",
        "\n",
        "Sum = 0\n",
        "for j in Dif:\n",
        "  Sum = Sum + j\n",
        "\n",
        "print(Sum/ len(Dif))"
      ],
      "metadata": {
        "colab": {
          "base_uri": "https://localhost:8080/"
        },
        "id": "psaEG_88A9Oa",
        "outputId": "99d9ad2d-28a6-4283-da74-4d3bbcce5e38"
      },
      "execution_count": null,
      "outputs": [
        {
          "output_type": "stream",
          "name": "stdout",
          "text": [
            "2.525876577840113\n"
          ]
        }
      ]
    },
    {
      "cell_type": "code",
      "source": [
        "#Average difference between Away teams second half rating vs home teams second half rating when away team won\n",
        "Dif = []\n",
        "for (i,x) in zip(AwayWin['Away_Team_Second_Half_Rating'],AwayWin['Home_Team_Second_Half_Rating']):\n",
        "  dif = (i - x)\n",
        "  Dif.append(dif)\n",
        "\n",
        "Sum = 0\n",
        "for j in Dif:\n",
        "  Sum = Sum + j\n",
        "\n",
        "print(Sum/ len(Dif))"
      ],
      "metadata": {
        "colab": {
          "base_uri": "https://localhost:8080/"
        },
        "id": "2j750gisBHee",
        "outputId": "7de26d72-ca74-49cd-a1a9-971037e69f55"
      },
      "execution_count": null,
      "outputs": [
        {
          "output_type": "stream",
          "name": "stdout",
          "text": [
            "2.2050490883590443\n"
          ]
        }
      ]
    },
    {
      "cell_type": "code",
      "source": [
        "#Average difference between Home teams second half rating vs away teams second half rating when home team won\n",
        "Dif = []\n",
        "for (i,x) in zip(HomeWin['Home_Team_Second_Half_Rating'],HomeWin['Away_Team_Second_Half_Rating']):\n",
        "  dif = (i - x)\n",
        "  Dif.append(dif)\n",
        "\n",
        "Sum = 0\n",
        "for j in Dif:\n",
        "  Sum = Sum + j\n",
        "\n",
        "print(Sum/ len(Dif))"
      ],
      "metadata": {
        "colab": {
          "base_uri": "https://localhost:8080/"
        },
        "id": "fl5BpQF5Bza7",
        "outputId": "d14a9cf6-ed4f-4dcf-da7a-28bcda447c20"
      },
      "execution_count": null,
      "outputs": [
        {
          "output_type": "stream",
          "name": "stdout",
          "text": [
            "2.1733115975780217\n"
          ]
        }
      ]
    },
    {
      "cell_type": "code",
      "source": [
        "#Average difference between Home teams first half rating vs Away teams first half rating when home team won\n",
        "Dif = []\n",
        "for (i,x) in zip(HomeWin['Home_Team_First_Half_Rating'],HomeWin['Away_Team_First_Half_Rating']):\n",
        "  dif = (i - x)\n",
        "  Dif.append(dif)\n",
        "\n",
        "Sum = 0\n",
        "for j in Dif:\n",
        "  Sum = Sum + j\n",
        "\n",
        "print(Sum/ len(Dif))"
      ],
      "metadata": {
        "colab": {
          "base_uri": "https://localhost:8080/"
        },
        "id": "UqnFPtr-B59R",
        "outputId": "463a947c-fd3d-4bae-9976-ee3dc49942c0"
      },
      "execution_count": null,
      "outputs": [
        {
          "output_type": "stream",
          "name": "stdout",
          "text": [
            "2.3852352119236184\n"
          ]
        }
      ]
    },
    {
      "cell_type": "code",
      "source": [
        "#Percent of away wins where away team had better defensive efficiency\n",
        "Dif = 0\n",
        "no = 0\n",
        "for (i,x) in zip(AwayWin['Away_Def_Eff_Away'],AwayWin['Home_Def_Eff_Home']):\n",
        "  if i < x:\n",
        "    Dif = Dif +1\n",
        "  else:\n",
        "    no = no +1\n",
        "Total = Dif + no\n",
        "print((Dif/Total)*100)"
      ],
      "metadata": {
        "colab": {
          "base_uri": "https://localhost:8080/"
        },
        "id": "xT9PfZ0jXph8",
        "outputId": "de99e79b-fb59-449c-b691-77acb16fa2e9"
      },
      "execution_count": null,
      "outputs": [
        {
          "output_type": "stream",
          "name": "stdout",
          "text": [
            "28.471248246844322\n"
          ]
        }
      ]
    },
    {
      "cell_type": "code",
      "source": [
        "#Percent of away wins where away team had better offensive efficiency\n",
        "Dif = 0\n",
        "no = 0\n",
        "for (i,x) in zip(AwayWin['Away_OffEff_Away'],AwayWin['Home_OffEff_Home']):\n",
        "  if i > x:\n",
        "    Dif = Dif +1\n",
        "  else:\n",
        "    no = no +1\n",
        "Total = Dif + no\n",
        "print((Dif/Total)*100)"
      ],
      "metadata": {
        "colab": {
          "base_uri": "https://localhost:8080/"
        },
        "id": "gzz_16m2YwV7",
        "outputId": "5dd557df-1616-4aca-c2f6-675cba7c4f81"
      },
      "execution_count": null,
      "outputs": [
        {
          "output_type": "stream",
          "name": "stdout",
          "text": [
            "32.46844319775596\n"
          ]
        }
      ]
    },
    {
      "cell_type": "code",
      "source": [
        "#Percent of away wins where away team had better offensive rebounding\n",
        "Dif = 0\n",
        "no = 0\n",
        "for (i,x) in zip(AwayWin['Away_Off_RB_Pct_Away'],AwayWin['Home_Off_RB_Pct_Home']):\n",
        "  if i > x:\n",
        "    Dif = Dif +1\n",
        "  else:\n",
        "    no = no +1\n",
        "Total = Dif + no\n",
        "print((Dif/Total)*100)"
      ],
      "metadata": {
        "colab": {
          "base_uri": "https://localhost:8080/"
        },
        "id": "Xo-PycpTZMcd",
        "outputId": "1b923399-0d2d-4aad-a508-1801b1dcaa32"
      },
      "execution_count": null,
      "outputs": [
        {
          "output_type": "stream",
          "name": "stdout",
          "text": [
            "42.14586255259467\n"
          ]
        }
      ]
    },
    {
      "cell_type": "code",
      "source": [
        "#Percent of away wins where away team had better defensive rebounding\n",
        "Dif = 0\n",
        "no = 0\n",
        "for (i,x) in zip(AwayWin['Away_Def_RB_Pct_Away'],AwayWin['Home_Def_RB_Pct_Home']):\n",
        "  if i > x:\n",
        "    Dif = Dif +1\n",
        "  else:\n",
        "    no = no +1\n",
        "Total = Dif + no\n",
        "print((Dif/Total)*100)"
      ],
      "metadata": {
        "colab": {
          "base_uri": "https://localhost:8080/"
        },
        "id": "1pgo6H10Znhm",
        "outputId": "97ad5309-62be-48d1-ae4d-48b85fc7ff11"
      },
      "execution_count": null,
      "outputs": [
        {
          "output_type": "stream",
          "name": "stdout",
          "text": [
            "40.67321178120617\n"
          ]
        }
      ]
    },
    {
      "cell_type": "code",
      "source": [
        "#Percent of away wins where away team had better last 5\n",
        "Dif = 0\n",
        "no = 0\n",
        "for (i,x) in zip(AwayWin['Away_Team_Last5'],AwayWin['Home_Team_Last5']):\n",
        "  if i > x:\n",
        "    Dif = Dif +1\n",
        "  else:\n",
        "    no = no +1\n",
        "Total = Dif + no\n",
        "print((Dif/Total)*100)"
      ],
      "metadata": {
        "colab": {
          "base_uri": "https://localhost:8080/"
        },
        "id": "FTb9cVxOdC2S",
        "outputId": "7ae53343-7c3b-4ef1-cb21-b9b9f7e2ba5f"
      },
      "execution_count": null,
      "outputs": [
        {
          "output_type": "stream",
          "name": "stdout",
          "text": [
            "68.09256661991586\n"
          ]
        }
      ]
    },
    {
      "cell_type": "code",
      "source": [
        "#Percent of away wins where away team had better FT shooting\n",
        "Dif = 0\n",
        "no = 0\n",
        "for (i,x) in zip(AwayWin['Away_FTpct_Away'],AwayWin['Home_FTpct_Home']):\n",
        "  if i > x:\n",
        "    Dif = Dif +1\n",
        "  else:\n",
        "    no = no +1\n",
        "Total = Dif + no\n",
        "print((Dif/Total)*100)"
      ],
      "metadata": {
        "colab": {
          "base_uri": "https://localhost:8080/"
        },
        "id": "FgesT9X7dq2w",
        "outputId": "ef252a8d-5904-4d11-c837-70f1e3964fb9"
      },
      "execution_count": null,
      "outputs": [
        {
          "output_type": "stream",
          "name": "stdout",
          "text": [
            "48.457223001402525\n"
          ]
        }
      ]
    },
    {
      "cell_type": "code",
      "source": [
        "#Percent of away wins where away team had worse fouls\n",
        "Dif = 0\n",
        "no = 0\n",
        "for (i,x) in zip(AwayWin['Away_Fouls_PerPoss_Away'],AwayWin['Home_Fouls_PerPoss_Home']):\n",
        "  if i > x:\n",
        "    Dif = Dif +1\n",
        "  else:\n",
        "    no = no +1\n",
        "Total = Dif + no\n",
        "print((Dif/Total)*100)"
      ],
      "metadata": {
        "colab": {
          "base_uri": "https://localhost:8080/"
        },
        "id": "NsvghO8XeH-z",
        "outputId": "aa2d2cb3-4670-4d06-dc79-0bb9a60ea12a"
      },
      "execution_count": null,
      "outputs": [
        {
          "output_type": "stream",
          "name": "stdout",
          "text": [
            "65.70827489481066\n"
          ]
        }
      ]
    },
    {
      "cell_type": "code",
      "source": [
        "#Percent of away wins where away team had better first half rating\n",
        "Dif = 0\n",
        "no = 0\n",
        "for (i,x) in zip(AwayWin['Away_Team_First_Half_Rating'],AwayWin['Home_Team_First_Half_Rating']):\n",
        "  if i > x:\n",
        "    Dif = Dif +1\n",
        "  else:\n",
        "    no = no +1\n",
        "Total = Dif + no\n",
        "print((Dif/Total)*100)"
      ],
      "metadata": {
        "colab": {
          "base_uri": "https://localhost:8080/"
        },
        "id": "xerF3LRregI8",
        "outputId": "dea52a06-e478-4aec-bc4b-0427d6174c7d"
      },
      "execution_count": null,
      "outputs": [
        {
          "output_type": "stream",
          "name": "stdout",
          "text": [
            "69.49509116409537\n"
          ]
        }
      ]
    },
    {
      "cell_type": "code",
      "source": [
        "#Percent of away wins where away team had better second half rating\n",
        "Dif = 0\n",
        "no = 0\n",
        "for (i,x) in zip(AwayWin['Away_Team_Second_Half_Rating'],AwayWin['Home_Team_Second_Half_Rating']):\n",
        "  if i > x:\n",
        "    Dif = Dif +1\n",
        "  else:\n",
        "    no = no +1\n",
        "Total = Dif + no\n",
        "print((Dif/Total)*100)"
      ],
      "metadata": {
        "colab": {
          "base_uri": "https://localhost:8080/"
        },
        "id": "QuNSp2R7eyl9",
        "outputId": "fae039ba-d74c-4e3a-f882-412983c2fff1"
      },
      "execution_count": null,
      "outputs": [
        {
          "output_type": "stream",
          "name": "stdout",
          "text": [
            "69.7054698457223\n"
          ]
        }
      ]
    },
    {
      "cell_type": "code",
      "source": [
        "#Percent of away wins where away team had better defensive efficiency of last 3 games\n",
        "Dif = 0\n",
        "no = 0\n",
        "for (i,x) in zip(AwayWin['Away_OffEff_Last3'],AwayWin['Home_OffEff_Last3']):\n",
        "  if i < x:\n",
        "    Dif = Dif +1\n",
        "  else:\n",
        "    no = no +1\n",
        "Total = Dif + no\n",
        "print((Dif/Total)*100)"
      ],
      "metadata": {
        "colab": {
          "base_uri": "https://localhost:8080/"
        },
        "id": "WhDRQNnzfTCV",
        "outputId": "ae1dfcbb-14aa-4a09-8ed4-f043067234a7"
      },
      "execution_count": null,
      "outputs": [
        {
          "output_type": "stream",
          "name": "stdout",
          "text": [
            "36.81626928471248\n"
          ]
        }
      ]
    },
    {
      "cell_type": "code",
      "source": [
        "#Percent of away wins where away team had better Turn per poss last 3\n",
        "Dif = 0\n",
        "no = 0\n",
        "for (i,x) in zip(AwayWin['Away_Turn_PerPoss_Last3'],AwayWin['Home_Turn_PerPoss_Last3']):\n",
        "  if i > x:\n",
        "    Dif = Dif +1\n",
        "  else:\n",
        "    no = no +1\n",
        "Total = Dif + no\n",
        "print((Dif/Total)*100)"
      ],
      "metadata": {
        "colab": {
          "base_uri": "https://localhost:8080/"
        },
        "id": "L3CoIw2JgE75",
        "outputId": "d9297c64-9823-4afe-9aae-04f8d7cfe47a"
      },
      "execution_count": null,
      "outputs": [
        {
          "output_type": "stream",
          "name": "stdout",
          "text": [
            "44.60028050490884\n"
          ]
        }
      ]
    },
    {
      "cell_type": "code",
      "source": [
        "#Percent of away wins where away team had harder SOS\n",
        "Dif = 0\n",
        "no = 0\n",
        "for (i,x) in zip(AwayWin['Away_Team_SOS'],AwayWin['Home_Team_SOS']):\n",
        "  if i > x:\n",
        "    Dif = Dif +1\n",
        "  else:\n",
        "    no = no +1\n",
        "Total = Dif + no\n",
        "print((Dif/Total)*100)"
      ],
      "metadata": {
        "colab": {
          "base_uri": "https://localhost:8080/"
        },
        "id": "eieYp80DgmEc",
        "outputId": "7f538791-9467-494e-e93f-3d080f091ef4"
      },
      "execution_count": null,
      "outputs": [
        {
          "output_type": "stream",
          "name": "stdout",
          "text": [
            "66.90042075736325\n"
          ]
        }
      ]
    },
    {
      "cell_type": "code",
      "source": [
        "#Percent of Home wins where home team had harder SOS\n",
        "Dif = 0\n",
        "no = 0\n",
        "for (i,x) in zip(HomeWin['Home_Team_SOS'],HomeWin['Away_Team_SOS']):\n",
        "  if i > x:\n",
        "    Dif = Dif +1\n",
        "  else:\n",
        "    no = no +1\n",
        "Total = Dif + no\n",
        "print((Dif/Total)*100)"
      ],
      "metadata": {
        "colab": {
          "base_uri": "https://localhost:8080/"
        },
        "id": "SkFgMCrqgzJX",
        "outputId": "95fb471f-0981-4b97-cc64-1fdd01a695e6"
      },
      "execution_count": null,
      "outputs": [
        {
          "output_type": "stream",
          "name": "stdout",
          "text": [
            "67.34979040521658\n"
          ]
        }
      ]
    },
    {
      "cell_type": "code",
      "source": [
        "#Percent of home wins where home team had better offensive efficiency\n",
        "Dif = 0\n",
        "no = 0\n",
        "for (i,x) in zip(HomeWin['Home_OffEff_Home'],HomeWin['Away_OffEff_Away']):\n",
        "  if i > x:\n",
        "    Dif = Dif +1\n",
        "  else:\n",
        "    no = no +1\n",
        "Total = Dif + no\n",
        "print((Dif/Total)*100)"
      ],
      "metadata": {
        "colab": {
          "base_uri": "https://localhost:8080/"
        },
        "id": "vx5ssy_qg-m5",
        "outputId": "47b9e2a9-7e59-4cae-87c4-b2b754414511"
      },
      "execution_count": null,
      "outputs": [
        {
          "output_type": "stream",
          "name": "stdout",
          "text": [
            "84.95575221238938\n"
          ]
        }
      ]
    },
    {
      "cell_type": "code",
      "source": [
        "#Percent of home wins where home team had better defensive efficiency\n",
        "Dif = 0\n",
        "no = 0\n",
        "for (i,x) in zip(HomeWin['Home_Def_Eff_Home'],HomeWin['Away_Def_Eff_Away']):\n",
        "  if i < x:\n",
        "    Dif = Dif +1\n",
        "  else:\n",
        "    no = no +1\n",
        "Total = Dif + no\n",
        "print((Dif/Total)*100)"
      ],
      "metadata": {
        "colab": {
          "base_uri": "https://localhost:8080/"
        },
        "id": "iEMGjH4thY0b",
        "outputId": "f94f6de3-61a4-42be-e9ef-bc05c0f52618"
      },
      "execution_count": null,
      "outputs": [
        {
          "output_type": "stream",
          "name": "stdout",
          "text": [
            "86.02701443875175\n"
          ]
        }
      ]
    },
    {
      "cell_type": "code",
      "source": [
        "#Percent of away wins where away team had better offensive efficiency of last 3 games\n",
        "Dif = 0\n",
        "no = 0\n",
        "for (i,x) in zip(AwayWin['Away_OffEff_Away'],AwayWin['Home_OffEff_Home']):\n",
        "  if i > x:\n",
        "    Dif = Dif +1\n",
        "  else:\n",
        "    no = no +1\n",
        "Total = Dif + no\n",
        "print((Dif/Total)*100)"
      ],
      "metadata": {
        "id": "kMIP-5cvf0CW",
        "colab": {
          "base_uri": "https://localhost:8080/"
        },
        "outputId": "38a0e713-61ff-400e-9a80-d365f0942ff3"
      },
      "execution_count": null,
      "outputs": [
        {
          "output_type": "stream",
          "name": "stdout",
          "text": [
            "32.46844319775596\n"
          ]
        }
      ]
    },
    {
      "cell_type": "code",
      "source": [
        "#Percent of away wins where away team had better Three pt\n",
        "Dif = 0\n",
        "no = 0\n",
        "for (i,x) in zip(AwayWin['Away_Three_Pt_Rate_Away'],AwayWin['Home_Three_Pt_Rate_Home']):\n",
        "  if i > x:\n",
        "    Dif = Dif +1\n",
        "  else:\n",
        "    no = no +1\n",
        "Total = Dif + no\n",
        "print((Dif/Total)*100)"
      ],
      "metadata": {
        "colab": {
          "base_uri": "https://localhost:8080/"
        },
        "id": "q8Op5hPErCNS",
        "outputId": "3726bd6d-9532-4973-a27a-812d1fccaaf1"
      },
      "execution_count": null,
      "outputs": [
        {
          "output_type": "stream",
          "name": "stdout",
          "text": [
            "48.5273492286115\n"
          ]
        }
      ]
    },
    {
      "cell_type": "code",
      "source": [
        "#Percent of away wins where away team had better Three pt\n",
        "Dif = 0\n",
        "no = 0\n",
        "for (i,x) in zip(AwayWin['Away_Three_Pt_Rate_Last3'],AwayWin['Home_Three_Pt_Rate_Last3']):\n",
        "  if i > x:\n",
        "    Dif = Dif +1\n",
        "  else:\n",
        "    no = no +1\n",
        "Total = Dif + no\n",
        "print((Dif/Total)*100)"
      ],
      "metadata": {
        "colab": {
          "base_uri": "https://localhost:8080/"
        },
        "id": "vUmYAzh9rdVT",
        "outputId": "ad6b4cc5-6cdd-4458-fd03-6ff8e0cfef5f"
      },
      "execution_count": null,
      "outputs": [
        {
          "output_type": "stream",
          "name": "stdout",
          "text": [
            "49.78962131837307\n"
          ]
        }
      ]
    },
    {
      "cell_type": "code",
      "source": [
        "#Home vs Away shooting\n",
        "\n",
        "plt.hist(NCAA['Home_FloorPercent_Home'], \n",
        "         label='Home Shooting')\n",
        "  \n",
        "plt.hist(NCAA['Away_FloorPercent_Away'], \n",
        "         label='Away Shooting')\n",
        "  \n",
        "plt.legend(loc='upper right')\n",
        "plt.title('Home vs Away Shooting Performance')\n",
        "plt.show()"
      ],
      "metadata": {
        "colab": {
          "base_uri": "https://localhost:8080/",
          "height": 281
        },
        "id": "gK3eS7SGaBdR",
        "outputId": "fba14b0d-62f6-4a06-97b2-5dbc2cc676a3"
      },
      "execution_count": null,
      "outputs": [
        {
          "output_type": "display_data",
          "data": {
            "text/plain": [
              "<Figure size 432x288 with 1 Axes>"
            ],
            "image/png": "[encoded data removed]"
          },
          "metadata": {
            "needs_background": "light"
          }
        }
      ]
    },
    {
      "cell_type": "code",
      "source": [
        "plt.hist(NCAA['Away_Turn_PerPoss_Away'], \n",
        "         label='Away Turnovers')\n",
        "\n",
        "plt.hist(NCAA['Home_Turn_PerPoss_Home'], \n",
        "         label='Home Turnovers')\n",
        "  \n",
        "plt.legend(loc='upper right')\n",
        "plt.title('Home vs Away Turnover Performance')\n",
        "plt.show()"
      ],
      "metadata": {
        "colab": {
          "base_uri": "https://localhost:8080/",
          "height": 281
        },
        "id": "A4A4fzx9bdPL",
        "outputId": "e9c9fc12-d85b-4c92-d17e-803a2d821a7e"
      },
      "execution_count": null,
      "outputs": [
        {
          "output_type": "display_data",
          "data": {
            "text/plain": [
              "<Figure size 432x288 with 1 Axes>"
            ],
            "image/png": "[encoded data removed]"
          },
          "metadata": {
            "needs_background": "light"
          }
        }
      ]
    },
    {
      "cell_type": "code",
      "source": [
        "plt.hist(NCAA['Home_Def_Eff_Home'], \n",
        "         label='Home Defense')\n",
        "\n",
        "plt.hist(NCAA['Away_Def_Eff_Away'], \n",
        "         label='Away Defense')\n",
        "\n",
        "\n",
        "plt.legend(loc='upper right')\n",
        "plt.title('Home vs Away Defensive Performance')\n",
        "plt.show()"
      ],
      "metadata": {
        "colab": {
          "base_uri": "https://localhost:8080/",
          "height": 281
        },
        "id": "sWNDIdvbb3Xo",
        "outputId": "4b15de8f-815b-436a-a5fd-057006e73359"
      },
      "execution_count": null,
      "outputs": [
        {
          "output_type": "display_data",
          "data": {
            "text/plain": [
              "<Figure size 432x288 with 1 Axes>"
            ],
            "image/png": "[encoded data removed]"
          },
          "metadata": {
            "needs_background": "light"
          }
        }
      ]
    },
    {
      "cell_type": "code",
      "source": [
        "plt.hist(AwayWin['Home_Def_RB_Pct_Home'], \n",
        "         label='Home Defense')\n",
        "\n",
        "plt.hist(AwayWin['Away_Def_RB_Pct_Away'], \n",
        "         label='Away Defense')\n",
        "\n",
        "\n",
        "plt.legend(loc='upper right')\n",
        "plt.title('Home vs Away Defensive Performance')\n",
        "plt.show()"
      ],
      "metadata": {
        "colab": {
          "base_uri": "https://localhost:8080/",
          "height": 281
        },
        "id": "FAQshexctriM",
        "outputId": "191e8972-bf05-43d2-898e-0fb79588975c"
      },
      "execution_count": null,
      "outputs": [
        {
          "output_type": "display_data",
          "data": {
            "text/plain": [
              "<Figure size 432x288 with 1 Axes>"
            ],
            "image/png": "[encoded data removed]"
          },
          "metadata": {
            "needs_background": "light"
          }
        }
      ]
    },
    {
      "cell_type": "code",
      "source": [
        "plt.hist(HomeWin['Home_Off_RB_Pct_Home'], \n",
        "         label='Home Defense')\n",
        "\n",
        "plt.hist(HomeWin['Away_Off_RB_Pct_Away'], \n",
        "         label='Away Defense')\n",
        "\n",
        "\n",
        "plt.legend(loc='upper right')\n",
        "plt.title('Home vs Away Defensive Performance')\n",
        "plt.show()"
      ],
      "metadata": {
        "colab": {
          "base_uri": "https://localhost:8080/",
          "height": 281
        },
        "id": "569xqMqbvPk5",
        "outputId": "9a56f94d-2838-418c-cfa4-240356dbba12"
      },
      "execution_count": null,
      "outputs": [
        {
          "output_type": "display_data",
          "data": {
            "text/plain": [
              "<Figure size 432x288 with 1 Axes>"
            ],
            "image/png": "[encoded data removed]"
          },
          "metadata": {
            "needs_background": "light"
          }
        }
      ]
    },
    {
      "cell_type": "code",
      "source": [
        "plt.hist(NCAA['Home_FTpct_Home'], \n",
        "         label='Home FT Pct')\n",
        "\n",
        "plt.hist(NCAA['Away_FTpct_Away'], \n",
        "         label='Away FT Pct')\n",
        "\n",
        "\n",
        "plt.legend(loc='upper right')\n",
        "plt.title('Home vs Away FT Pct')\n",
        "plt.show()"
      ],
      "metadata": {
        "colab": {
          "base_uri": "https://localhost:8080/",
          "height": 281
        },
        "id": "rk6I6sOlrrR_",
        "outputId": "fe443e1f-88b7-412d-8125-5fb3487312e2"
      },
      "execution_count": null,
      "outputs": [
        {
          "output_type": "display_data",
          "data": {
            "text/plain": [
              "<Figure size 432x288 with 1 Axes>"
            ],
            "image/png": "[encoded data removed]"
          },
          "metadata": {
            "needs_background": "light"
          }
        }
      ]
    },
    {
      "cell_type": "code",
      "source": [
        "#Percent of away wins when having better turnover\n",
        "\n",
        "AwayTurnBetter = NCAA[NCAA['Away_Turn_PerPoss_Away'] < NCAA['Home_Turn_PerPoss_Home']]\n",
        "AwayTurnBetterWins = AwayTurnBetter[AwayTurnBetter['Home_Win/Lose_Pt'] < 0]\n",
        "PercentAwayTurn = (AwayTurnBetterWins.shape[0] / AwayTurnBetter.shape[0]) * 100\n",
        "PercentAwayTurn "
      ],
      "metadata": {
        "colab": {
          "base_uri": "https://localhost:8080/"
        },
        "id": "KqFdpzNih2Tq",
        "outputId": "84fddf62-75c5-4789-e84a-f2d61c62be26"
      },
      "execution_count": null,
      "outputs": [
        {
          "output_type": "execute_result",
          "data": {
            "text/plain": [
              "48.278688524590166"
            ]
          },
          "metadata": {},
          "execution_count": 45
        }
      ]
    },
    {
      "cell_type": "code",
      "source": [
        "#Percent of away wins when had better turnover and Def Eff\n",
        "AwayTD = NCAA[(NCAA['Away_Turn_PerPoss_Away'] < NCAA['Home_Turn_PerPoss_Home']) & (NCAA['Away_Def_Eff_Away'] < NCAA['Home_Def_Eff_Home'])]\n",
        "AwayTDWins = AwayTD[AwayTD['Home_Win/Lose_Pt'] < 0]\n",
        "PercentAwayTD = (AwayTDWins.shape[0] / AwayTD.shape[0]) * 100\n",
        "PercentAwayTD "
      ],
      "metadata": {
        "colab": {
          "base_uri": "https://localhost:8080/"
        },
        "id": "UrgTX1rrj09I",
        "outputId": "6025bb5e-bd21-4727-a06c-6603bce618fa"
      },
      "execution_count": null,
      "outputs": [
        {
          "output_type": "execute_result",
          "data": {
            "text/plain": [
              "63.60294117647059"
            ]
          },
          "metadata": {},
          "execution_count": 46
        }
      ]
    },
    {
      "cell_type": "code",
      "source": [
        "#Percent of away wins when had better Last5 and Def Eff\n",
        "AwayT5 = NCAA[(NCAA['Away_Team_Last5'] > NCAA['Home_Team_Last5']) & (NCAA['Away_Def_Eff_Away'] < NCAA['Home_Def_Eff_Home'])]\n",
        "AwayT5Wins = AwayT5[AwayT5['Home_Win/Lose_Pt'] < 0]\n",
        "PercentAwayT5 = (AwayT5Wins.shape[0] / AwayT5.shape[0]) * 100\n",
        "PercentAwayT5"
      ],
      "metadata": {
        "colab": {
          "base_uri": "https://localhost:8080/"
        },
        "id": "eJ_PpEexlouy",
        "outputId": "9b4beda0-4f67-4624-db23-9bb817d27cb2"
      },
      "execution_count": null,
      "outputs": [
        {
          "output_type": "execute_result",
          "data": {
            "text/plain": [
              "65.2751423149905"
            ]
          },
          "metadata": {},
          "execution_count": 47
        }
      ]
    },
    {
      "cell_type": "code",
      "source": [
        "#Percent of away wins when having better defense eff\n",
        "\n",
        "AwayDB = NCAA[NCAA['Away_Def_Eff_Away'] < NCAA['Home_Def_Eff_Home']]\n",
        "AwayDBWins = AwayDB[AwayDB['Home_Win/Lose_Pt'] < 0]\n",
        "PercentAwayDB = (AwayDBWins.shape[0] / AwayDB.shape[0]) * 100\n",
        "PercentAwayDB"
      ],
      "metadata": {
        "colab": {
          "base_uri": "https://localhost:8080/"
        },
        "id": "C3UKm9tTmgNK",
        "outputId": "84759342-59f6-4c22-fe4d-1bbd5b51a0da"
      },
      "execution_count": null,
      "outputs": [
        {
          "output_type": "execute_result",
          "data": {
            "text/plain": [
              "57.7524893314367"
            ]
          },
          "metadata": {},
          "execution_count": 48
        }
      ]
    },
    {
      "cell_type": "code",
      "source": [
        "#Percent of away wins when had better Last5 and Def Eff\n",
        "AwayT5 = NCAA[(NCAA['Away_Team_Last5'] > NCAA['Home_Team_Last5']) & (NCAA['Away_Def_Eff_Last3'] < NCAA['Home_Def_Eff_Last3'])]\n",
        "AwayT5Wins = AwayT5[AwayT5['Home_Win/Lose_Pt'] < 0]\n",
        "PercentAwayT5 = (AwayT5Wins.shape[0] / AwayT5.shape[0]) * 100\n",
        "PercentAwayT5"
      ],
      "metadata": {
        "colab": {
          "base_uri": "https://localhost:8080/"
        },
        "id": "Dho9sPrsooMk",
        "outputId": "17856399-330d-42a1-cc07-33369be137e3"
      },
      "execution_count": null,
      "outputs": [
        {
          "output_type": "execute_result",
          "data": {
            "text/plain": [
              "61.179577464788736"
            ]
          },
          "metadata": {},
          "execution_count": 49
        }
      ]
    },
    {
      "cell_type": "code",
      "source": [
        "#Percent of away wins when had better Last5 and Def reb\n",
        "AwayRD5 = NCAA[(NCAA['Away_Team_Last5'] > NCAA['Home_Team_Last5']) & (NCAA['Away_Def_RB_Pct_Away'] > NCAA['Home_Def_RB_Pct_Home'])]\n",
        "AwayRD5Wins = AwayRD5[AwayRD5['Home_Win/Lose_Pt'] < 0]\n",
        "PercentAwayRD5 = (AwayRD5Wins.shape[0] / AwayRD5.shape[0]) * 100\n",
        "PercentAwayRD5"
      ],
      "metadata": {
        "colab": {
          "base_uri": "https://localhost:8080/"
        },
        "id": "TIPYYPoUzFvI",
        "outputId": "78557fb5-f237-41e5-d67d-ba213a33d767"
      },
      "execution_count": null,
      "outputs": [
        {
          "output_type": "execute_result",
          "data": {
            "text/plain": [
              "62.46458923512748"
            ]
          },
          "metadata": {},
          "execution_count": 25
        }
      ]
    },
    {
      "cell_type": "code",
      "source": [
        "#Percent of away wins when had better Last5 and Def reb\n",
        "AwayRO5 = NCAA[(NCAA['Away_Team_Last5'] > NCAA['Home_Team_Last5']) & (NCAA['Away_Off_RB_Pct_Away'] > NCAA['Home_Off_RB_Pct_Home'])]\n",
        "AwayRO5Wins = AwayRO5[AwayRO5['Home_Win/Lose_Pt'] < 0]\n",
        "PercentAwayRO5 = (AwayRO5Wins.shape[0] / AwayRO5.shape[0]) * 100\n",
        "PercentAwayRO5"
      ],
      "metadata": {
        "colab": {
          "base_uri": "https://localhost:8080/"
        },
        "id": "-WCWMQR2znwR",
        "outputId": "f96c34ac-30c0-49e3-91ee-4469a5ed84a4"
      },
      "execution_count": null,
      "outputs": [
        {
          "output_type": "execute_result",
          "data": {
            "text/plain": [
              "62.5"
            ]
          },
          "metadata": {},
          "execution_count": 27
        }
      ]
    },
    {
      "cell_type": "code",
      "source": [
        "#Percent of away wins when had better Last5 and SOS\n",
        "AwayRO5 = NCAA[(NCAA['Away_Team_Last5'] > NCAA['Home_Team_Last5']) & (NCAA['Away_Team_SOS'] > NCAA['Home_Team_SOS'])]\n",
        "AwayRO5Wins = AwayRO5[AwayRO5['Home_Win/Lose_Pt'] < 0]\n",
        "PercentAwayRO5 = (AwayRO5Wins.shape[0] / AwayRO5.shape[0]) * 100\n",
        "PercentAwayRO5"
      ],
      "metadata": {
        "colab": {
          "base_uri": "https://localhost:8080/"
        },
        "id": "fCksMe4d0uiF",
        "outputId": "b5611d62-fa52-40cd-f980-be5e6476258d"
      },
      "execution_count": null,
      "outputs": [
        {
          "output_type": "execute_result",
          "data": {
            "text/plain": [
              "65.7762938230384"
            ]
          },
          "metadata": {},
          "execution_count": 29
        }
      ]
    },
    {
      "cell_type": "code",
      "source": [
        "#Percent of away wins when had better Last5 and Def reb\n",
        "AwayRO5 = NCAA[(NCAA['Away_Team_Last5'] > NCAA['Home_Team_Last5']) & (NCAA['Away_Off_RB_Pct_Away'] > NCAA['Home_Off_RB_Pct_Home']) & (NCAA['Away_Def_RB_Pct_Away'] > NCAA['Home_Def_RB_Pct_Home']) & (NCAA['Away_Team_SOS'] > NCAA['Home_Team_SOS']) & (NCAA['Away_Def_Eff_Away'] < NCAA['Home_Def_Eff_Home'])]\n",
        "AwayRO5Wins = AwayRO5[AwayRD5['Home_Win/Lose_Pt'] < 0]\n",
        "PercentAwayRO5 = (AwayRO5Wins.shape[0] / AwayRO5.shape[0]) * 100\n",
        "PercentAwayRO5"
      ],
      "metadata": {
        "colab": {
          "base_uri": "https://localhost:8080/"
        },
        "id": "J5_FdQ5W2bPv",
        "outputId": "675f13f4-cfbf-405f-8431-9051098c1404"
      },
      "execution_count": null,
      "outputs": [
        {
          "output_type": "stream",
          "name": "stderr",
          "text": [
            "/usr/local/lib/python3.7/dist-packages/ipykernel_launcher.py:3: UserWarning: Boolean Series key will be reindexed to match DataFrame index.\n",
            "  This is separate from the ipykernel package so we can avoid doing imports until\n"
          ]
        },
        {
          "output_type": "execute_result",
          "data": {
            "text/plain": [
              "77.27272727272727"
            ]
          },
          "metadata": {},
          "execution_count": 30
        }
      ]
    }
  ]
}