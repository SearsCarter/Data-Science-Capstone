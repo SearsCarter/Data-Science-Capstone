{
  "nbformat": 4,
  "nbformat_minor": 0,
  "metadata": {
    "colab": {
      "name": "Capstone.ipynb",
      "provenance": [],
      "collapsed_sections": []
    },
    "kernelspec": {
      "name": "python3",
      "display_name": "Python 3"
    },
    "language_info": {
      "name": "python"
    }
  },
  "cells": [
    {
      "cell_type": "code",
      "execution_count": null,
      "metadata": {
        "id": "WjjdpI8CiKR6"
      },
      "outputs": [],
      "source": [
        "import pandas as pd\n",
        "from google.colab import drive\n",
        "import numpy as np\n",
        "import matplotlib.pyplot as plt\n",
        "from sklearn.metrics import r2_score\n",
        "from sklearn.linear_model import LinearRegression\n",
        "from sklearn.preprocessing import StandardScaler\n",
        "from sklearn.model_selection import train_test_split\n",
        "from sklearn.linear_model import LogisticRegression\n",
        "from sklearn.svm import SVC\n",
        "import sklearn.metrics\n",
        "from sklearn.metrics import precision_recall_curve"
      ]
    },
    {
      "cell_type": "code",
      "source": [
        "drive.mount(\"/content/gdrive\")"
      ],
      "metadata": {
        "id": "cpbZkPTvid4M",
        "colab": {
          "base_uri": "https://localhost:8080/"
        },
        "outputId": "f1b49ca2-5019-48d2-ceba-f209c8799319"
      },
      "execution_count": null,
      "outputs": [
        {
          "output_type": "stream",
          "name": "stdout",
          "text": [
            "Mounted at /content/gdrive\n"
          ]
        }
      ]
    },
    {
      "cell_type": "code",
      "source": [
        "NCAA = pd.read_csv('/content/gdrive/MyDrive/Capstone_Original_Dataset.csv')"
      ],
      "metadata": {
        "id": "gij9b0D6lGDf"
      },
      "execution_count": null,
      "outputs": []
    },
    {
      "cell_type": "code",
      "source": [
        "#Removing games where the Home or Away team has 0 values for Home or Away stats\n",
        "NCAA = NCAA.loc[(NCAA[['Home_Points_Home', 'Home_Points_Away','Away_Points_Home', 'Away_Points_Away']] != 0).all(axis=1)]"
      ],
      "metadata": {
        "id": "Uqjyr7_smjsd"
      },
      "execution_count": null,
      "outputs": []
    },
    {
      "cell_type": "code",
      "source": [
        "NCAA"
      ],
      "metadata": {
        "colab": {
          "base_uri": "https://localhost:8080/",
          "height": 557
        },
        "id": "6hGmhJ-cmlpo",
        "outputId": "a0c5c02e-ff1e-49a9-ced0-1b2e85613a9a"
      },
      "execution_count": null,
      "outputs": [
        {
          "output_type": "execute_result",
          "data": {
            "text/plain": [
              "                Home_Team            Away_Team  Home_TurnAst_Last3  \\\n",
              "0            San Jose St.         South Dakota               0.745   \n",
              "1           San Diego St.       Long Beach St.               0.971   \n",
              "2                  Nevada           Pepperdine               1.024   \n",
              "3                Ohio St.                 Duke               0.951   \n",
              "4               Boise St.          Saint Louis               1.024   \n",
              "...                   ...                  ...                 ...   \n",
              "3721           Coppin St.         Delaware St.               0.761   \n",
              "3722              Hofstra           Charleston               1.652   \n",
              "3723              Fordham        Massachusetts               0.587   \n",
              "3724       North Carolina             Syracuse               0.864   \n",
              "3725  Fairleigh Dickinson  Central Connecticut               1.025   \n",
              "\n",
              "      Home_TurnAst_Home  Home_TurnAst_Away  Home_Pts_Last3  Home_Points_Home  \\\n",
              "0                 1.304              0.549            62.0              76.5   \n",
              "1                 0.775              1.034            61.3              66.3   \n",
              "2                 2.000              1.119            81.3              79.5   \n",
              "3                 1.667              0.951            70.7              80.0   \n",
              "4                 0.739              1.174            60.3              57.5   \n",
              "...                 ...                ...             ...               ...   \n",
              "3721              0.764              0.752            65.0              68.7   \n",
              "3722              1.935              1.206            71.3              78.2   \n",
              "3723              1.084              0.744            51.7              67.9   \n",
              "3724              1.331              1.046            73.0              77.6   \n",
              "3725              1.133              0.733            86.0              71.6   \n",
              "\n",
              "      Home_Points_Away  Home_Avg_Scoring_Margin_Last3  \\\n",
              "0                 57.7                          -11.3   \n",
              "1                 58.7                            2.7   \n",
              "2                 77.6                            3.7   \n",
              "3                 70.7                           -2.0   \n",
              "4                 63.3                            7.7   \n",
              "...                ...                            ...   \n",
              "3721              66.4                          -15.3   \n",
              "3722              75.3                           -2.3   \n",
              "3723              64.1                           -4.0   \n",
              "3724              77.9                            8.3   \n",
              "3725              65.2                           -5.7   \n",
              "\n",
              "      Home_Avg_Scoring_Margin_Home  ...  Away_Opp_Eff_Poss_Last3  \\\n",
              "0                              1.5  ...                    0.917   \n",
              "1                              7.0  ...                    0.933   \n",
              "2                              4.0  ...                    0.936   \n",
              "3                             14.0  ...                    0.893   \n",
              "4                              6.5  ...                    0.893   \n",
              "...                            ...  ...                      ...   \n",
              "3721                          -4.9  ...                    1.017   \n",
              "3722                           3.4  ...                    0.916   \n",
              "3723                           3.9  ...                    0.909   \n",
              "3724                          11.9  ...                    1.028   \n",
              "3725                          -2.4  ...                    0.953   \n",
              "\n",
              "      Away_Opp_Eff_Poss_Home  Away_Opp_Eff_Poss_Away  Away_Team_Luck  \\\n",
              "0                      0.882                   0.920             0.7   \n",
              "1                      0.949                   0.936             0.7   \n",
              "2                      0.887                   0.971            -0.7   \n",
              "3                      0.886                   0.961             1.2   \n",
              "4                      0.848                   0.859             0.2   \n",
              "...                      ...                     ...             ...   \n",
              "3721                   0.945                   0.999            -3.1   \n",
              "3722                   0.905                   0.904             0.7   \n",
              "3723                   0.927                   0.950             0.4   \n",
              "3724                   0.937                   1.002            -1.0   \n",
              "3725                   0.947                   0.948             0.6   \n",
              "\n",
              "      Away_Team_SOS  Away_Team_Consis  Away_Team_First_Half_Rating  \\\n",
              "0              -5.1              12.3                          1.3   \n",
              "1              -3.1              13.3                         -8.1   \n",
              "2               0.2               7.4                          0.0   \n",
              "3               9.7               8.9                          9.4   \n",
              "4               4.0              10.7                          7.5   \n",
              "...             ...               ...                          ...   \n",
              "3721          -11.1              11.7                        -10.5   \n",
              "3722           -0.3               9.5                          1.4   \n",
              "3723            1.5              10.5                         -3.7   \n",
              "3724            7.4              10.8                          5.8   \n",
              "3725           -5.6              10.5                        -10.0   \n",
              "\n",
              "      Away_Team_Second_Half_Rating  Away_Team_Last5  Home_Win/Lose_Pt  \n",
              "0                             -7.2             -5.1                 9  \n",
              "1                             -0.9             -9.6                25  \n",
              "2                             -7.5             -7.0                13  \n",
              "3                             12.7             21.9                 5  \n",
              "4                              6.3              9.5                -4  \n",
              "...                            ...              ...               ...  \n",
              "3721                          -9.2            -13.0                13  \n",
              "3722                          -0.5              1.8                 5  \n",
              "3723                           2.4             -3.7                12  \n",
              "3724                           2.9              3.8                 9  \n",
              "3725                          -3.5            -20.1                -1  \n",
              "\n",
              "[3573 rows x 219 columns]"
            ],
            "text/html": [
              "\n",
              "  <div id=\"df-56950255-01e9-4e4d-b3c9-985b1f2a81ee\">\n",
              "    <div class=\"colab-df-container\">\n",
              "      <div>\n",
              "<style scoped>\n",
              "    .dataframe tbody tr th:only-of-type {\n",
              "        vertical-align: middle;\n",
              "    }\n",
              "\n",
              "    .dataframe tbody tr th {\n",
              "        vertical-align: top;\n",
              "    }\n",
              "\n",
              "    .dataframe thead th {\n",
              "        text-align: right;\n",
              "    }\n",
              "</style>\n",
              "<table border=\"1\" class=\"dataframe\">\n",
              "  <thead>\n",
              "    <tr style=\"text-align: right;\">\n",
              "      <th></th>\n",
              "      <th>Home_Team</th>\n",
              "      <th>Away_Team</th>\n",
              "      <th>Home_TurnAst_Last3</th>\n",
              "      <th>Home_TurnAst_Home</th>\n",
              "      <th>Home_TurnAst_Away</th>\n",
              "      <th>Home_Pts_Last3</th>\n",
              "      <th>Home_Points_Home</th>\n",
              "      <th>Home_Points_Away</th>\n",
              "      <th>Home_Avg_Scoring_Margin_Last3</th>\n",
              "      <th>Home_Avg_Scoring_Margin_Home</th>\n",
              "      <th>...</th>\n",
              "      <th>Away_Opp_Eff_Poss_Last3</th>\n",
              "      <th>Away_Opp_Eff_Poss_Home</th>\n",
              "      <th>Away_Opp_Eff_Poss_Away</th>\n",
              "      <th>Away_Team_Luck</th>\n",
              "      <th>Away_Team_SOS</th>\n",
              "      <th>Away_Team_Consis</th>\n",
              "      <th>Away_Team_First_Half_Rating</th>\n",
              "      <th>Away_Team_Second_Half_Rating</th>\n",
              "      <th>Away_Team_Last5</th>\n",
              "      <th>Home_Win/Lose_Pt</th>\n",
              "    </tr>\n",
              "  </thead>\n",
              "  <tbody>\n",
              "    <tr>\n",
              "      <th>0</th>\n",
              "      <td>San Jose St.</td>\n",
              "      <td>South Dakota</td>\n",
              "      <td>0.745</td>\n",
              "      <td>1.304</td>\n",
              "      <td>0.549</td>\n",
              "      <td>62.0</td>\n",
              "      <td>76.5</td>\n",
              "      <td>57.7</td>\n",
              "      <td>-11.3</td>\n",
              "      <td>1.5</td>\n",
              "      <td>...</td>\n",
              "      <td>0.917</td>\n",
              "      <td>0.882</td>\n",
              "      <td>0.920</td>\n",
              "      <td>0.7</td>\n",
              "      <td>-5.1</td>\n",
              "      <td>12.3</td>\n",
              "      <td>1.3</td>\n",
              "      <td>-7.2</td>\n",
              "      <td>-5.1</td>\n",
              "      <td>9</td>\n",
              "    </tr>\n",
              "    <tr>\n",
              "      <th>1</th>\n",
              "      <td>San Diego St.</td>\n",
              "      <td>Long Beach St.</td>\n",
              "      <td>0.971</td>\n",
              "      <td>0.775</td>\n",
              "      <td>1.034</td>\n",
              "      <td>61.3</td>\n",
              "      <td>66.3</td>\n",
              "      <td>58.7</td>\n",
              "      <td>2.7</td>\n",
              "      <td>7.0</td>\n",
              "      <td>...</td>\n",
              "      <td>0.933</td>\n",
              "      <td>0.949</td>\n",
              "      <td>0.936</td>\n",
              "      <td>0.7</td>\n",
              "      <td>-3.1</td>\n",
              "      <td>13.3</td>\n",
              "      <td>-8.1</td>\n",
              "      <td>-0.9</td>\n",
              "      <td>-9.6</td>\n",
              "      <td>25</td>\n",
              "    </tr>\n",
              "    <tr>\n",
              "      <th>2</th>\n",
              "      <td>Nevada</td>\n",
              "      <td>Pepperdine</td>\n",
              "      <td>1.024</td>\n",
              "      <td>2.000</td>\n",
              "      <td>1.119</td>\n",
              "      <td>81.3</td>\n",
              "      <td>79.5</td>\n",
              "      <td>77.6</td>\n",
              "      <td>3.7</td>\n",
              "      <td>4.0</td>\n",
              "      <td>...</td>\n",
              "      <td>0.936</td>\n",
              "      <td>0.887</td>\n",
              "      <td>0.971</td>\n",
              "      <td>-0.7</td>\n",
              "      <td>0.2</td>\n",
              "      <td>7.4</td>\n",
              "      <td>0.0</td>\n",
              "      <td>-7.5</td>\n",
              "      <td>-7.0</td>\n",
              "      <td>13</td>\n",
              "    </tr>\n",
              "    <tr>\n",
              "      <th>3</th>\n",
              "      <td>Ohio St.</td>\n",
              "      <td>Duke</td>\n",
              "      <td>0.951</td>\n",
              "      <td>1.667</td>\n",
              "      <td>0.951</td>\n",
              "      <td>70.7</td>\n",
              "      <td>80.0</td>\n",
              "      <td>70.7</td>\n",
              "      <td>-2.0</td>\n",
              "      <td>14.0</td>\n",
              "      <td>...</td>\n",
              "      <td>0.893</td>\n",
              "      <td>0.886</td>\n",
              "      <td>0.961</td>\n",
              "      <td>1.2</td>\n",
              "      <td>9.7</td>\n",
              "      <td>8.9</td>\n",
              "      <td>9.4</td>\n",
              "      <td>12.7</td>\n",
              "      <td>21.9</td>\n",
              "      <td>5</td>\n",
              "    </tr>\n",
              "    <tr>\n",
              "      <th>4</th>\n",
              "      <td>Boise St.</td>\n",
              "      <td>Saint Louis</td>\n",
              "      <td>1.024</td>\n",
              "      <td>0.739</td>\n",
              "      <td>1.174</td>\n",
              "      <td>60.3</td>\n",
              "      <td>57.5</td>\n",
              "      <td>63.3</td>\n",
              "      <td>7.7</td>\n",
              "      <td>6.5</td>\n",
              "      <td>...</td>\n",
              "      <td>0.893</td>\n",
              "      <td>0.848</td>\n",
              "      <td>0.859</td>\n",
              "      <td>0.2</td>\n",
              "      <td>4.0</td>\n",
              "      <td>10.7</td>\n",
              "      <td>7.5</td>\n",
              "      <td>6.3</td>\n",
              "      <td>9.5</td>\n",
              "      <td>-4</td>\n",
              "    </tr>\n",
              "    <tr>\n",
              "      <th>...</th>\n",
              "      <td>...</td>\n",
              "      <td>...</td>\n",
              "      <td>...</td>\n",
              "      <td>...</td>\n",
              "      <td>...</td>\n",
              "      <td>...</td>\n",
              "      <td>...</td>\n",
              "      <td>...</td>\n",
              "      <td>...</td>\n",
              "      <td>...</td>\n",
              "      <td>...</td>\n",
              "      <td>...</td>\n",
              "      <td>...</td>\n",
              "      <td>...</td>\n",
              "      <td>...</td>\n",
              "      <td>...</td>\n",
              "      <td>...</td>\n",
              "      <td>...</td>\n",
              "      <td>...</td>\n",
              "      <td>...</td>\n",
              "      <td>...</td>\n",
              "    </tr>\n",
              "    <tr>\n",
              "      <th>3721</th>\n",
              "      <td>Coppin St.</td>\n",
              "      <td>Delaware St.</td>\n",
              "      <td>0.761</td>\n",
              "      <td>0.764</td>\n",
              "      <td>0.752</td>\n",
              "      <td>65.0</td>\n",
              "      <td>68.7</td>\n",
              "      <td>66.4</td>\n",
              "      <td>-15.3</td>\n",
              "      <td>-4.9</td>\n",
              "      <td>...</td>\n",
              "      <td>1.017</td>\n",
              "      <td>0.945</td>\n",
              "      <td>0.999</td>\n",
              "      <td>-3.1</td>\n",
              "      <td>-11.1</td>\n",
              "      <td>11.7</td>\n",
              "      <td>-10.5</td>\n",
              "      <td>-9.2</td>\n",
              "      <td>-13.0</td>\n",
              "      <td>13</td>\n",
              "    </tr>\n",
              "    <tr>\n",
              "      <th>3722</th>\n",
              "      <td>Hofstra</td>\n",
              "      <td>Charleston</td>\n",
              "      <td>1.652</td>\n",
              "      <td>1.935</td>\n",
              "      <td>1.206</td>\n",
              "      <td>71.3</td>\n",
              "      <td>78.2</td>\n",
              "      <td>75.3</td>\n",
              "      <td>-2.3</td>\n",
              "      <td>3.4</td>\n",
              "      <td>...</td>\n",
              "      <td>0.916</td>\n",
              "      <td>0.905</td>\n",
              "      <td>0.904</td>\n",
              "      <td>0.7</td>\n",
              "      <td>-0.3</td>\n",
              "      <td>9.5</td>\n",
              "      <td>1.4</td>\n",
              "      <td>-0.5</td>\n",
              "      <td>1.8</td>\n",
              "      <td>5</td>\n",
              "    </tr>\n",
              "    <tr>\n",
              "      <th>3723</th>\n",
              "      <td>Fordham</td>\n",
              "      <td>Massachusetts</td>\n",
              "      <td>0.587</td>\n",
              "      <td>1.084</td>\n",
              "      <td>0.744</td>\n",
              "      <td>51.7</td>\n",
              "      <td>67.9</td>\n",
              "      <td>64.1</td>\n",
              "      <td>-4.0</td>\n",
              "      <td>3.9</td>\n",
              "      <td>...</td>\n",
              "      <td>0.909</td>\n",
              "      <td>0.927</td>\n",
              "      <td>0.950</td>\n",
              "      <td>0.4</td>\n",
              "      <td>1.5</td>\n",
              "      <td>10.5</td>\n",
              "      <td>-3.7</td>\n",
              "      <td>2.4</td>\n",
              "      <td>-3.7</td>\n",
              "      <td>12</td>\n",
              "    </tr>\n",
              "    <tr>\n",
              "      <th>3724</th>\n",
              "      <td>North Carolina</td>\n",
              "      <td>Syracuse</td>\n",
              "      <td>0.864</td>\n",
              "      <td>1.331</td>\n",
              "      <td>1.046</td>\n",
              "      <td>73.0</td>\n",
              "      <td>77.6</td>\n",
              "      <td>77.9</td>\n",
              "      <td>8.3</td>\n",
              "      <td>11.9</td>\n",
              "      <td>...</td>\n",
              "      <td>1.028</td>\n",
              "      <td>0.937</td>\n",
              "      <td>1.002</td>\n",
              "      <td>-1.0</td>\n",
              "      <td>7.4</td>\n",
              "      <td>10.8</td>\n",
              "      <td>5.8</td>\n",
              "      <td>2.9</td>\n",
              "      <td>3.8</td>\n",
              "      <td>9</td>\n",
              "    </tr>\n",
              "    <tr>\n",
              "      <th>3725</th>\n",
              "      <td>Fairleigh Dickinson</td>\n",
              "      <td>Central Connecticut</td>\n",
              "      <td>1.025</td>\n",
              "      <td>1.133</td>\n",
              "      <td>0.733</td>\n",
              "      <td>86.0</td>\n",
              "      <td>71.6</td>\n",
              "      <td>65.2</td>\n",
              "      <td>-5.7</td>\n",
              "      <td>-2.4</td>\n",
              "      <td>...</td>\n",
              "      <td>0.953</td>\n",
              "      <td>0.947</td>\n",
              "      <td>0.948</td>\n",
              "      <td>0.6</td>\n",
              "      <td>-5.6</td>\n",
              "      <td>10.5</td>\n",
              "      <td>-10.0</td>\n",
              "      <td>-3.5</td>\n",
              "      <td>-20.1</td>\n",
              "      <td>-1</td>\n",
              "    </tr>\n",
              "  </tbody>\n",
              "</table>\n",
              "<p>3573 rows × 219 columns</p>\n",
              "</div>\n",
              "      <button class=\"colab-df-convert\" onclick=\"convertToInteractive('df-56950255-01e9-4e4d-b3c9-985b1f2a81ee')\"\n",
              "              title=\"Convert this dataframe to an interactive table.\"\n",
              "              style=\"display:none;\">\n",
              "        \n",
              "  <svg xmlns=\"http://www.w3.org/2000/svg\" height=\"24px\"viewBox=\"0 0 24 24\"\n",
              "       width=\"24px\">\n",
              "    <path d=\"M0 0h24v24H0V0z\" fill=\"none\"/>\n",
              "    <path d=\"M18.56 5.44l.94 2.06.94-2.06 2.06-.94-2.06-.94-.94-2.06-.94 2.06-2.06.94zm-11 1L8.5 8.5l.94-2.06 2.06-.94-2.06-.94L8.5 2.5l-.94 2.06-2.06.94zm10 10l.94 2.06.94-2.06 2.06-.94-2.06-.94-.94-2.06-.94 2.06-2.06.94z\"/><path d=\"M17.41 7.96l-1.37-1.37c-.4-.4-.92-.59-1.43-.59-.52 0-1.04.2-1.43.59L10.3 9.45l-7.72 7.72c-.78.78-.78 2.05 0 2.83L4 21.41c.39.39.9.59 1.41.59.51 0 1.02-.2 1.41-.59l7.78-7.78 2.81-2.81c.8-.78.8-2.07 0-2.86zM5.41 20L4 18.59l7.72-7.72 1.47 1.35L5.41 20z\"/>\n",
              "  </svg>\n",
              "      </button>\n",
              "      \n",
              "  <style>\n",
              "    .colab-df-container {\n",
              "      display:flex;\n",
              "      flex-wrap:wrap;\n",
              "      gap: 12px;\n",
              "    }\n",
              "\n",
              "    .colab-df-convert {\n",
              "      background-color: #E8F0FE;\n",
              "      border: none;\n",
              "      border-radius: 50%;\n",
              "      cursor: pointer;\n",
              "      display: none;\n",
              "      fill: #1967D2;\n",
              "      height: 32px;\n",
              "      padding: 0 0 0 0;\n",
              "      width: 32px;\n",
              "    }\n",
              "\n",
              "    .colab-df-convert:hover {\n",
              "      background-color: #E2EBFA;\n",
              "      box-shadow: 0px 1px 2px rgba(60, 64, 67, 0.3), 0px 1px 3px 1px rgba(60, 64, 67, 0.15);\n",
              "      fill: #174EA6;\n",
              "    }\n",
              "\n",
              "    [theme=dark] .colab-df-convert {\n",
              "      background-color: #3B4455;\n",
              "      fill: #D2E3FC;\n",
              "    }\n",
              "\n",
              "    [theme=dark] .colab-df-convert:hover {\n",
              "      background-color: #434B5C;\n",
              "      box-shadow: 0px 1px 3px 1px rgba(0, 0, 0, 0.15);\n",
              "      filter: drop-shadow(0px 1px 2px rgba(0, 0, 0, 0.3));\n",
              "      fill: #FFFFFF;\n",
              "    }\n",
              "  </style>\n",
              "\n",
              "      <script>\n",
              "        const buttonEl =\n",
              "          document.querySelector('#df-56950255-01e9-4e4d-b3c9-985b1f2a81ee button.colab-df-convert');\n",
              "        buttonEl.style.display =\n",
              "          google.colab.kernel.accessAllowed ? 'block' : 'none';\n",
              "\n",
              "        async function convertToInteractive(key) {\n",
              "          const element = document.querySelector('#df-56950255-01e9-4e4d-b3c9-985b1f2a81ee');\n",
              "          const dataTable =\n",
              "            await google.colab.kernel.invokeFunction('convertToInteractive',\n",
              "                                                     [key], {});\n",
              "          if (!dataTable) return;\n",
              "\n",
              "          const docLinkHtml = 'Like what you see? Visit the ' +\n",
              "            '<a target=\"_blank\" href=https://colab.research.google.com/notebooks/data_table.ipynb>data table notebook</a>'\n",
              "            + ' to learn more about interactive tables.';\n",
              "          element.innerHTML = '';\n",
              "          dataTable['output_type'] = 'display_data';\n",
              "          await google.colab.output.renderOutput(dataTable, element);\n",
              "          const docLink = document.createElement('div');\n",
              "          docLink.innerHTML = docLinkHtml;\n",
              "          element.appendChild(docLink);\n",
              "        }\n",
              "      </script>\n",
              "    </div>\n",
              "  </div>\n",
              "  "
            ]
          },
          "metadata": {},
          "execution_count": 6
        }
      ]
    },
    {
      "cell_type": "code",
      "source": [
        "turnovers = np.array(NCAA['Away_Turn_PerPoss_Away'])\n",
        "plt.hist(turnovers)\n",
        "\n",
        "turnovers = np.array(NCAA['Away_Turn_PerPoss_Home'])\n",
        "plt.hist(turnovers)"
      ],
      "metadata": {
        "colab": {
          "base_uri": "https://localhost:8080/",
          "height": 352
        },
        "id": "wHGGw9ZVpblO",
        "outputId": "f3aabcab-b197-4295-b3cb-97f25d0b85bd"
      },
      "execution_count": null,
      "outputs": [
        {
          "output_type": "execute_result",
          "data": {
            "text/plain": [
              "(array([  35.,  196.,  814., 1342.,  850.,  217.,   83.,   32.,    0.,\n",
              "           4.]),\n",
              " array([ 8.9 , 11.37, 13.84, 16.31, 18.78, 21.25, 23.72, 26.19, 28.66,\n",
              "        31.13, 33.6 ]),\n",
              " <a list of 10 Patch objects>)"
            ]
          },
          "metadata": {},
          "execution_count": 53
        },
        {
          "output_type": "display_data",
          "data": {
            "text/plain": [
              "<Figure size 432x288 with 1 Axes>"
            ],
            "image/png": "[encoded data removed]"
          },
          "metadata": {
            "needs_background": "light"
          }
        }
      ]
    },
    {
      "cell_type": "code",
      "source": [
        "floor = np.array(NCAA['Away_FloorPercent_Away'])\n",
        "plt.hist(turnovers)\n",
        "\n"
      ],
      "metadata": {
        "colab": {
          "base_uri": "https://localhost:8080/",
          "height": 352
        },
        "id": "IVe5nwyrqv1Q",
        "outputId": "3a310c6e-e0fa-4b66-97ff-af813178bbbb"
      },
      "execution_count": null,
      "outputs": [
        {
          "output_type": "execute_result",
          "data": {
            "text/plain": [
              "(array([   6.,   47.,  378., 1155., 1361.,  464.,  121.,   32.,    3.,\n",
              "           6.]),\n",
              " array([ 6.5 ,  9.21, 11.92, 14.63, 17.34, 20.05, 22.76, 25.47, 28.18,\n",
              "        30.89, 33.6 ]),\n",
              " <a list of 10 Patch objects>)"
            ]
          },
          "metadata": {},
          "execution_count": 50
        },
        {
          "output_type": "display_data",
          "data": {
            "text/plain": [
              "<Figure size 432x288 with 1 Axes>"
            ],
            "image/png": "[encoded data removed]"
          },
          "metadata": {
            "needs_background": "light"
          }
        }
      ]
    },
    {
      "cell_type": "code",
      "source": [
        "\n",
        "floor = np.array(NCAA['Home_FloorPercent_Home'])\n",
        "plt.hist(turnovers)"
      ],
      "metadata": {
        "colab": {
          "base_uri": "https://localhost:8080/",
          "height": 352
        },
        "id": "3SEUIy5GrO2Z",
        "outputId": "892b132e-ee66-48e3-f596-875962b48710"
      },
      "execution_count": null,
      "outputs": [
        {
          "output_type": "execute_result",
          "data": {
            "text/plain": [
              "(array([   6.,   47.,  378., 1155., 1361.,  464.,  121.,   32.,    3.,\n",
              "           6.]),\n",
              " array([ 6.5 ,  9.21, 11.92, 14.63, 17.34, 20.05, 22.76, 25.47, 28.18,\n",
              "        30.89, 33.6 ]),\n",
              " <a list of 10 Patch objects>)"
            ]
          },
          "metadata": {},
          "execution_count": 51
        },
        {
          "output_type": "display_data",
          "data": {
            "text/plain": [
              "<Figure size 432x288 with 1 Axes>"
            ],
            "image/png": "[encoded data removed]"
          },
          "metadata": {
            "needs_background": "light"
          }
        }
      ]
    },
    {
      "cell_type": "code",
      "source": [
        "x = np.array(NCAA['Home_Team_Last5'])\n",
        "y = np.array(NCAA['Home_Win/Lose_Pt'])\n",
        "a, b = np.polyfit(x, y, 1)\n",
        "#add points to plot\n",
        "plt.scatter(x, y)\n",
        "#add line of best fit to plot\n",
        "plt.plot(x, a*x+b, color='red')"
      ],
      "metadata": {
        "colab": {
          "base_uri": "https://localhost:8080/",
          "height": 282
        },
        "id": "GiP027Z5sraY",
        "outputId": "5c291392-84a5-42ef-a68f-6e11a07ecaa7"
      },
      "execution_count": null,
      "outputs": [
        {
          "output_type": "execute_result",
          "data": {
            "text/plain": [
              "[<matplotlib.lines.Line2D at 0x7fb2b08fcb90>]"
            ]
          },
          "metadata": {},
          "execution_count": 55
        },
        {
          "output_type": "display_data",
          "data": {
            "text/plain": [
              "<Figure size 432x288 with 1 Axes>"
            ],
            "image/png": "[encoded data removed]"
          },
          "metadata": {
            "needs_background": "light"
          }
        }
      ]
    },
    {
      "cell_type": "code",
      "source": [
        "NCAA['Home_Turn_PerPoss_Home']"
      ],
      "metadata": {
        "colab": {
          "base_uri": "https://localhost:8080/"
        },
        "id": "N4-vr20jqQvY",
        "outputId": "51a14486-3077-4752-bc82-f6ed14a5db93"
      },
      "execution_count": null,
      "outputs": [
        {
          "output_type": "execute_result",
          "data": {
            "text/plain": [
              "0       17.0\n",
              "1       19.2\n",
              "2       14.0\n",
              "3       15.7\n",
              "4       17.6\n",
              "        ... \n",
              "3721    19.5\n",
              "3722    11.7\n",
              "3723    18.2\n",
              "3724    16.1\n",
              "3725    17.3\n",
              "Name: Home_Turn_PerPoss_Home, Length: 3573, dtype: float64"
            ]
          },
          "metadata": {},
          "execution_count": 45
        }
      ]
    },
    {
      "cell_type": "code",
      "source": [
        "#Home Team win/loss percentage\n",
        "HomeWins = NCAA[NCAA['Home_Win/Lose_Pt'] > 0]\n",
        "HomeWins1 = HomeWins.count()[0]\n",
        "HomeWinPercent = round((HomeWins1 / 3573) * 100, 1)\n",
        "print('The Home Team won',HomeWinPercent, 'percent of the time in the games collected.')"
      ],
      "metadata": {
        "id": "PlO_AROduEkn",
        "colab": {
          "base_uri": "https://localhost:8080/"
        },
        "outputId": "6f55089d-3c91-48cd-8214-957e691637ef"
      },
      "execution_count": null,
      "outputs": [
        {
          "output_type": "stream",
          "name": "stdout",
          "text": [
            "The Home Team won 60.1 percent of the time in the games collected.\n"
          ]
        }
      ]
    },
    {
      "cell_type": "code",
      "source": [
        "NCAA.describe()"
      ],
      "metadata": {
        "colab": {
          "base_uri": "https://localhost:8080/",
          "height": 393
        },
        "id": "jhoRfT_XniA-",
        "outputId": "5a32aa07-136b-45df-bea2-b91c7ad1c62d"
      },
      "execution_count": null,
      "outputs": [
        {
          "output_type": "execute_result",
          "data": {
            "text/plain": [
              "       Home_TurnAst_Last3  Home_TurnAst_Home  Home_TurnAst_Away  \\\n",
              "count         3573.000000        3573.000000        3573.000000   \n",
              "mean             1.065482           1.146053           0.916338   \n",
              "std              0.344483           0.317500           0.225095   \n",
              "min              0.333000           0.280000           0.261000   \n",
              "25%              0.813000           0.935000           0.754000   \n",
              "50%              1.022000           1.111000           0.881000   \n",
              "75%              1.250000           1.321000           1.043000   \n",
              "max              3.125000           3.071000           2.000000   \n",
              "\n",
              "       Home_Pts_Last3  Home_Points_Home  Home_Points_Away  \\\n",
              "count     3573.000000       3573.000000       3573.000000   \n",
              "mean        69.991548         73.269549         67.727484   \n",
              "std          7.645490          7.506741          6.307165   \n",
              "min         41.000000         40.000000         44.000000   \n",
              "25%         64.700000         68.600000         63.800000   \n",
              "50%         69.700000         73.000000         67.600000   \n",
              "75%         75.000000         78.000000         71.900000   \n",
              "max        114.000000        104.000000        110.000000   \n",
              "\n",
              "       Home_Avg_Scoring_Margin_Last3  Home_Avg_Scoring_Margin_Home  \\\n",
              "count                    3573.000000                   3573.000000   \n",
              "mean                        0.115561                      6.644472   \n",
              "std                         9.609085                      9.505271   \n",
              "min                       -41.000000                    -28.500000   \n",
              "25%                        -6.000000                      0.300000   \n",
              "50%                         0.300000                      6.400000   \n",
              "75%                         6.300000                     12.300000   \n",
              "max                        36.700000                     45.300000   \n",
              "\n",
              "       Home_Avg_Scoring_Margin_Away  Home_OffEff_Last3  ...  \\\n",
              "count                   3573.000000        3573.000000  ...   \n",
              "mean                      -4.503219           1.000539  ...   \n",
              "std                        7.753810           0.094128  ...   \n",
              "min                      -33.700000           0.656000  ...   \n",
              "25%                       -9.600000           0.940000  ...   \n",
              "50%                       -4.000000           1.000000  ...   \n",
              "75%                        0.700000           1.062000  ...   \n",
              "max                       35.000000           1.341000  ...   \n",
              "\n",
              "       Away_Opp_Eff_Poss_Last3  Away_Opp_Eff_Poss_Home  \\\n",
              "count              3573.000000             3573.000000   \n",
              "mean                  0.937294                0.923046   \n",
              "std                   0.047033                0.041390   \n",
              "min                   0.760000                0.646000   \n",
              "25%                   0.906000                0.900000   \n",
              "50%                   0.937000                0.925000   \n",
              "75%                   0.970000                0.949000   \n",
              "max                   1.104000                1.124000   \n",
              "\n",
              "       Away_Opp_Eff_Poss_Away  Away_Team_Luck  Away_Team_SOS  \\\n",
              "count             3573.000000     3573.000000    3573.000000   \n",
              "mean                 0.944451        0.002771      -0.180213   \n",
              "std                  0.034991        1.385140       5.455612   \n",
              "min                  0.739000       -4.600000     -12.800000   \n",
              "25%                  0.921000       -0.900000      -4.200000   \n",
              "50%                  0.945000       -0.100000      -1.700000   \n",
              "75%                  0.967000        0.900000       4.200000   \n",
              "max                  1.081000        5.800000      12.500000   \n",
              "\n",
              "       Away_Team_Consis  Away_Team_First_Half_Rating  \\\n",
              "count       3573.000000                  3573.000000   \n",
              "mean          10.099636                     0.423286   \n",
              "std            1.795700                     5.108504   \n",
              "min            2.000000                   -13.300000   \n",
              "25%            9.000000                    -3.100000   \n",
              "50%           10.200000                     0.000000   \n",
              "75%           11.200000                     3.800000   \n",
              "max           16.800000                    18.400000   \n",
              "\n",
              "       Away_Team_Second_Half_Rating  Away_Team_Last5  Home_Win/Lose_Pt  \n",
              "count                   3573.000000      3573.000000       3573.000000  \n",
              "mean                       0.260593         0.512734          3.499860  \n",
              "std                        4.645670         9.671621         13.623386  \n",
              "min                      -16.000000       -32.800000        -42.000000  \n",
              "25%                       -2.800000        -6.600000         -6.000000  \n",
              "50%                        0.200000         0.000000          4.000000  \n",
              "75%                        3.400000         7.400000         12.000000  \n",
              "max                       14.700000        33.800000         67.000000  \n",
              "\n",
              "[8 rows x 217 columns]"
            ],
            "text/html": [
              "\n",
              "  <div id=\"df-ae078c43-ecbf-476b-8929-1b858aa25058\">\n",
              "    <div class=\"colab-df-container\">\n",
              "      <div>\n",
              "<style scoped>\n",
              "    .dataframe tbody tr th:only-of-type {\n",
              "        vertical-align: middle;\n",
              "    }\n",
              "\n",
              "    .dataframe tbody tr th {\n",
              "        vertical-align: top;\n",
              "    }\n",
              "\n",
              "    .dataframe thead th {\n",
              "        text-align: right;\n",
              "    }\n",
              "</style>\n",
              "<table border=\"1\" class=\"dataframe\">\n",
              "  <thead>\n",
              "    <tr style=\"text-align: right;\">\n",
              "      <th></th>\n",
              "      <th>Home_TurnAst_Last3</th>\n",
              "      <th>Home_TurnAst_Home</th>\n",
              "      <th>Home_TurnAst_Away</th>\n",
              "      <th>Home_Pts_Last3</th>\n",
              "      <th>Home_Points_Home</th>\n",
              "      <th>Home_Points_Away</th>\n",
              "      <th>Home_Avg_Scoring_Margin_Last3</th>\n",
              "      <th>Home_Avg_Scoring_Margin_Home</th>\n",
              "      <th>Home_Avg_Scoring_Margin_Away</th>\n",
              "      <th>Home_OffEff_Last3</th>\n",
              "      <th>...</th>\n",
              "      <th>Away_Opp_Eff_Poss_Last3</th>\n",
              "      <th>Away_Opp_Eff_Poss_Home</th>\n",
              "      <th>Away_Opp_Eff_Poss_Away</th>\n",
              "      <th>Away_Team_Luck</th>\n",
              "      <th>Away_Team_SOS</th>\n",
              "      <th>Away_Team_Consis</th>\n",
              "      <th>Away_Team_First_Half_Rating</th>\n",
              "      <th>Away_Team_Second_Half_Rating</th>\n",
              "      <th>Away_Team_Last5</th>\n",
              "      <th>Home_Win/Lose_Pt</th>\n",
              "    </tr>\n",
              "  </thead>\n",
              "  <tbody>\n",
              "    <tr>\n",
              "      <th>count</th>\n",
              "      <td>3573.000000</td>\n",
              "      <td>3573.000000</td>\n",
              "      <td>3573.000000</td>\n",
              "      <td>3573.000000</td>\n",
              "      <td>3573.000000</td>\n",
              "      <td>3573.000000</td>\n",
              "      <td>3573.000000</td>\n",
              "      <td>3573.000000</td>\n",
              "      <td>3573.000000</td>\n",
              "      <td>3573.000000</td>\n",
              "      <td>...</td>\n",
              "      <td>3573.000000</td>\n",
              "      <td>3573.000000</td>\n",
              "      <td>3573.000000</td>\n",
              "      <td>3573.000000</td>\n",
              "      <td>3573.000000</td>\n",
              "      <td>3573.000000</td>\n",
              "      <td>3573.000000</td>\n",
              "      <td>3573.000000</td>\n",
              "      <td>3573.000000</td>\n",
              "      <td>3573.000000</td>\n",
              "    </tr>\n",
              "    <tr>\n",
              "      <th>mean</th>\n",
              "      <td>1.065482</td>\n",
              "      <td>1.146053</td>\n",
              "      <td>0.916338</td>\n",
              "      <td>69.991548</td>\n",
              "      <td>73.269549</td>\n",
              "      <td>67.727484</td>\n",
              "      <td>0.115561</td>\n",
              "      <td>6.644472</td>\n",
              "      <td>-4.503219</td>\n",
              "      <td>1.000539</td>\n",
              "      <td>...</td>\n",
              "      <td>0.937294</td>\n",
              "      <td>0.923046</td>\n",
              "      <td>0.944451</td>\n",
              "      <td>0.002771</td>\n",
              "      <td>-0.180213</td>\n",
              "      <td>10.099636</td>\n",
              "      <td>0.423286</td>\n",
              "      <td>0.260593</td>\n",
              "      <td>0.512734</td>\n",
              "      <td>3.499860</td>\n",
              "    </tr>\n",
              "    <tr>\n",
              "      <th>std</th>\n",
              "      <td>0.344483</td>\n",
              "      <td>0.317500</td>\n",
              "      <td>0.225095</td>\n",
              "      <td>7.645490</td>\n",
              "      <td>7.506741</td>\n",
              "      <td>6.307165</td>\n",
              "      <td>9.609085</td>\n",
              "      <td>9.505271</td>\n",
              "      <td>7.753810</td>\n",
              "      <td>0.094128</td>\n",
              "      <td>...</td>\n",
              "      <td>0.047033</td>\n",
              "      <td>0.041390</td>\n",
              "      <td>0.034991</td>\n",
              "      <td>1.385140</td>\n",
              "      <td>5.455612</td>\n",
              "      <td>1.795700</td>\n",
              "      <td>5.108504</td>\n",
              "      <td>4.645670</td>\n",
              "      <td>9.671621</td>\n",
              "      <td>13.623386</td>\n",
              "    </tr>\n",
              "    <tr>\n",
              "      <th>min</th>\n",
              "      <td>0.333000</td>\n",
              "      <td>0.280000</td>\n",
              "      <td>0.261000</td>\n",
              "      <td>41.000000</td>\n",
              "      <td>40.000000</td>\n",
              "      <td>44.000000</td>\n",
              "      <td>-41.000000</td>\n",
              "      <td>-28.500000</td>\n",
              "      <td>-33.700000</td>\n",
              "      <td>0.656000</td>\n",
              "      <td>...</td>\n",
              "      <td>0.760000</td>\n",
              "      <td>0.646000</td>\n",
              "      <td>0.739000</td>\n",
              "      <td>-4.600000</td>\n",
              "      <td>-12.800000</td>\n",
              "      <td>2.000000</td>\n",
              "      <td>-13.300000</td>\n",
              "      <td>-16.000000</td>\n",
              "      <td>-32.800000</td>\n",
              "      <td>-42.000000</td>\n",
              "    </tr>\n",
              "    <tr>\n",
              "      <th>25%</th>\n",
              "      <td>0.813000</td>\n",
              "      <td>0.935000</td>\n",
              "      <td>0.754000</td>\n",
              "      <td>64.700000</td>\n",
              "      <td>68.600000</td>\n",
              "      <td>63.800000</td>\n",
              "      <td>-6.000000</td>\n",
              "      <td>0.300000</td>\n",
              "      <td>-9.600000</td>\n",
              "      <td>0.940000</td>\n",
              "      <td>...</td>\n",
              "      <td>0.906000</td>\n",
              "      <td>0.900000</td>\n",
              "      <td>0.921000</td>\n",
              "      <td>-0.900000</td>\n",
              "      <td>-4.200000</td>\n",
              "      <td>9.000000</td>\n",
              "      <td>-3.100000</td>\n",
              "      <td>-2.800000</td>\n",
              "      <td>-6.600000</td>\n",
              "      <td>-6.000000</td>\n",
              "    </tr>\n",
              "    <tr>\n",
              "      <th>50%</th>\n",
              "      <td>1.022000</td>\n",
              "      <td>1.111000</td>\n",
              "      <td>0.881000</td>\n",
              "      <td>69.700000</td>\n",
              "      <td>73.000000</td>\n",
              "      <td>67.600000</td>\n",
              "      <td>0.300000</td>\n",
              "      <td>6.400000</td>\n",
              "      <td>-4.000000</td>\n",
              "      <td>1.000000</td>\n",
              "      <td>...</td>\n",
              "      <td>0.937000</td>\n",
              "      <td>0.925000</td>\n",
              "      <td>0.945000</td>\n",
              "      <td>-0.100000</td>\n",
              "      <td>-1.700000</td>\n",
              "      <td>10.200000</td>\n",
              "      <td>0.000000</td>\n",
              "      <td>0.200000</td>\n",
              "      <td>0.000000</td>\n",
              "      <td>4.000000</td>\n",
              "    </tr>\n",
              "    <tr>\n",
              "      <th>75%</th>\n",
              "      <td>1.250000</td>\n",
              "      <td>1.321000</td>\n",
              "      <td>1.043000</td>\n",
              "      <td>75.000000</td>\n",
              "      <td>78.000000</td>\n",
              "      <td>71.900000</td>\n",
              "      <td>6.300000</td>\n",
              "      <td>12.300000</td>\n",
              "      <td>0.700000</td>\n",
              "      <td>1.062000</td>\n",
              "      <td>...</td>\n",
              "      <td>0.970000</td>\n",
              "      <td>0.949000</td>\n",
              "      <td>0.967000</td>\n",
              "      <td>0.900000</td>\n",
              "      <td>4.200000</td>\n",
              "      <td>11.200000</td>\n",
              "      <td>3.800000</td>\n",
              "      <td>3.400000</td>\n",
              "      <td>7.400000</td>\n",
              "      <td>12.000000</td>\n",
              "    </tr>\n",
              "    <tr>\n",
              "      <th>max</th>\n",
              "      <td>3.125000</td>\n",
              "      <td>3.071000</td>\n",
              "      <td>2.000000</td>\n",
              "      <td>114.000000</td>\n",
              "      <td>104.000000</td>\n",
              "      <td>110.000000</td>\n",
              "      <td>36.700000</td>\n",
              "      <td>45.300000</td>\n",
              "      <td>35.000000</td>\n",
              "      <td>1.341000</td>\n",
              "      <td>...</td>\n",
              "      <td>1.104000</td>\n",
              "      <td>1.124000</td>\n",
              "      <td>1.081000</td>\n",
              "      <td>5.800000</td>\n",
              "      <td>12.500000</td>\n",
              "      <td>16.800000</td>\n",
              "      <td>18.400000</td>\n",
              "      <td>14.700000</td>\n",
              "      <td>33.800000</td>\n",
              "      <td>67.000000</td>\n",
              "    </tr>\n",
              "  </tbody>\n",
              "</table>\n",
              "<p>8 rows × 217 columns</p>\n",
              "</div>\n",
              "      <button class=\"colab-df-convert\" onclick=\"convertToInteractive('df-ae078c43-ecbf-476b-8929-1b858aa25058')\"\n",
              "              title=\"Convert this dataframe to an interactive table.\"\n",
              "              style=\"display:none;\">\n",
              "        \n",
              "  <svg xmlns=\"http://www.w3.org/2000/svg\" height=\"24px\"viewBox=\"0 0 24 24\"\n",
              "       width=\"24px\">\n",
              "    <path d=\"M0 0h24v24H0V0z\" fill=\"none\"/>\n",
              "    <path d=\"M18.56 5.44l.94 2.06.94-2.06 2.06-.94-2.06-.94-.94-2.06-.94 2.06-2.06.94zm-11 1L8.5 8.5l.94-2.06 2.06-.94-2.06-.94L8.5 2.5l-.94 2.06-2.06.94zm10 10l.94 2.06.94-2.06 2.06-.94-2.06-.94-.94-2.06-.94 2.06-2.06.94z\"/><path d=\"M17.41 7.96l-1.37-1.37c-.4-.4-.92-.59-1.43-.59-.52 0-1.04.2-1.43.59L10.3 9.45l-7.72 7.72c-.78.78-.78 2.05 0 2.83L4 21.41c.39.39.9.59 1.41.59.51 0 1.02-.2 1.41-.59l7.78-7.78 2.81-2.81c.8-.78.8-2.07 0-2.86zM5.41 20L4 18.59l7.72-7.72 1.47 1.35L5.41 20z\"/>\n",
              "  </svg>\n",
              "      </button>\n",
              "      \n",
              "  <style>\n",
              "    .colab-df-container {\n",
              "      display:flex;\n",
              "      flex-wrap:wrap;\n",
              "      gap: 12px;\n",
              "    }\n",
              "\n",
              "    .colab-df-convert {\n",
              "      background-color: #E8F0FE;\n",
              "      border: none;\n",
              "      border-radius: 50%;\n",
              "      cursor: pointer;\n",
              "      display: none;\n",
              "      fill: #1967D2;\n",
              "      height: 32px;\n",
              "      padding: 0 0 0 0;\n",
              "      width: 32px;\n",
              "    }\n",
              "\n",
              "    .colab-df-convert:hover {\n",
              "      background-color: #E2EBFA;\n",
              "      box-shadow: 0px 1px 2px rgba(60, 64, 67, 0.3), 0px 1px 3px 1px rgba(60, 64, 67, 0.15);\n",
              "      fill: #174EA6;\n",
              "    }\n",
              "\n",
              "    [theme=dark] .colab-df-convert {\n",
              "      background-color: #3B4455;\n",
              "      fill: #D2E3FC;\n",
              "    }\n",
              "\n",
              "    [theme=dark] .colab-df-convert:hover {\n",
              "      background-color: #434B5C;\n",
              "      box-shadow: 0px 1px 3px 1px rgba(0, 0, 0, 0.15);\n",
              "      filter: drop-shadow(0px 1px 2px rgba(0, 0, 0, 0.3));\n",
              "      fill: #FFFFFF;\n",
              "    }\n",
              "  </style>\n",
              "\n",
              "      <script>\n",
              "        const buttonEl =\n",
              "          document.querySelector('#df-ae078c43-ecbf-476b-8929-1b858aa25058 button.colab-df-convert');\n",
              "        buttonEl.style.display =\n",
              "          google.colab.kernel.accessAllowed ? 'block' : 'none';\n",
              "\n",
              "        async function convertToInteractive(key) {\n",
              "          const element = document.querySelector('#df-ae078c43-ecbf-476b-8929-1b858aa25058');\n",
              "          const dataTable =\n",
              "            await google.colab.kernel.invokeFunction('convertToInteractive',\n",
              "                                                     [key], {});\n",
              "          if (!dataTable) return;\n",
              "\n",
              "          const docLinkHtml = 'Like what you see? Visit the ' +\n",
              "            '<a target=\"_blank\" href=https://colab.research.google.com/notebooks/data_table.ipynb>data table notebook</a>'\n",
              "            + ' to learn more about interactive tables.';\n",
              "          element.innerHTML = '';\n",
              "          dataTable['output_type'] = 'display_data';\n",
              "          await google.colab.output.renderOutput(dataTable, element);\n",
              "          const docLink = document.createElement('div');\n",
              "          docLink.innerHTML = docLinkHtml;\n",
              "          element.appendChild(docLink);\n",
              "        }\n",
              "      </script>\n",
              "    </div>\n",
              "  </div>\n",
              "  "
            ]
          },
          "metadata": {},
          "execution_count": 8
        }
      ]
    },
    {
      "cell_type": "code",
      "source": [
        "x = np.array(NCAA['Away_Team_First_Half_Rating'])\n",
        "y = np.array(NCAA['Home_Win/Lose_Pt']*-1)\n",
        "a, b = np.polyfit(x, y, 1)\n",
        "#add points to plot\n",
        "plt.scatter(x, y)\n",
        "#add line of best fit to plot\n",
        "plt.plot(x, a*x+b, color='red')"
      ],
      "metadata": {
        "colab": {
          "base_uri": "https://localhost:8080/",
          "height": 282
        },
        "id": "yDPAHQhlqF34",
        "outputId": "81773e5e-b90e-4796-c349-e2fbd1edcdbd"
      },
      "execution_count": null,
      "outputs": [
        {
          "output_type": "execute_result",
          "data": {
            "text/plain": [
              "[<matplotlib.lines.Line2D at 0x7fb2b6d6ed50>]"
            ]
          },
          "metadata": {},
          "execution_count": 9
        },
        {
          "output_type": "display_data",
          "data": {
            "text/plain": [
              "<Figure size 432x288 with 1 Axes>"
            ],
            "image/png": "[encoded data removed]"
          },
          "metadata": {
            "needs_background": "light"
          }
        }
      ]
    },
    {
      "cell_type": "code",
      "source": [
        "x = np.array(NCAA['Away_Team_Second_Half_Rating'])\n",
        "y = np.array(NCAA['Home_Win/Lose_Pt']*-1)\n",
        "a, b = np.polyfit(x, y, 1)\n",
        "#add points to plot\n",
        "plt.scatter(x, y)\n",
        "#add line of best fit to plot\n",
        "plt.plot(x, a*x+b, color='red')"
      ],
      "metadata": {
        "colab": {
          "base_uri": "https://localhost:8080/",
          "height": 282
        },
        "id": "cRyxZl-_vr4g",
        "outputId": "5ea730c6-70f0-46f6-d528-5c711661ba53"
      },
      "execution_count": null,
      "outputs": [
        {
          "output_type": "execute_result",
          "data": {
            "text/plain": [
              "[<matplotlib.lines.Line2D at 0x7fb2b6d7f550>]"
            ]
          },
          "metadata": {},
          "execution_count": 10
        },
        {
          "output_type": "display_data",
          "data": {
            "text/plain": [
              "<Figure size 432x288 with 1 Axes>"
            ],
            "image/png": "[encoded data removed]"
          },
          "metadata": {
            "needs_background": "light"
          }
        }
      ]
    },
    {
      "cell_type": "code",
      "source": [
        "x = np.array(NCAA['Home_Team_First_Half_Rating'])\n",
        "y = np.array(NCAA['Home_Win/Lose_Pt'])\n",
        "a, b = np.polyfit(x, y, 1)\n",
        "#add points to plot\n",
        "plt.scatter(x, y)\n",
        "#add line of best fit to plot\n",
        "plt.plot(x, a*x+b, color='red')"
      ],
      "metadata": {
        "colab": {
          "base_uri": "https://localhost:8080/",
          "height": 282
        },
        "id": "Ou3OlRitwIaj",
        "outputId": "d4244990-de7a-492d-f16d-2da4899ba004"
      },
      "execution_count": null,
      "outputs": [
        {
          "output_type": "execute_result",
          "data": {
            "text/plain": [
              "[<matplotlib.lines.Line2D at 0x7fb2b6dce090>]"
            ]
          },
          "metadata": {},
          "execution_count": 11
        },
        {
          "output_type": "display_data",
          "data": {
            "text/plain": [
              "<Figure size 432x288 with 1 Axes>"
            ],
            "image/png": "[encoded data removed]"
          },
          "metadata": {
            "needs_background": "light"
          }
        }
      ]
    },
    {
      "cell_type": "code",
      "source": [
        "x = np.array(NCAA['Home_Team_Second_Half_Rating'])\n",
        "y = np.array(NCAA['Home_Win/Lose_Pt'])\n",
        "a, b = np.polyfit(x, y, 1)\n",
        "#add points to plot\n",
        "plt.scatter(x, y)\n",
        "#add line of best fit to plot\n",
        "plt.plot(x, a*x+b, color='red')"
      ],
      "metadata": {
        "colab": {
          "base_uri": "https://localhost:8080/",
          "height": 282
        },
        "id": "cwdaMosxwUQm",
        "outputId": "8c242c01-f559-4cce-aa50-dd6560f2bc57"
      },
      "execution_count": null,
      "outputs": [
        {
          "output_type": "execute_result",
          "data": {
            "text/plain": [
              "[<matplotlib.lines.Line2D at 0x7fb2b6dfead0>]"
            ]
          },
          "metadata": {},
          "execution_count": 12
        },
        {
          "output_type": "display_data",
          "data": {
            "text/plain": [
              "<Figure size 432x288 with 1 Axes>"
            ],
            "image/png": "[encoded data removed]"
          },
          "metadata": {
            "needs_background": "light"
          }
        }
      ]
    },
    {
      "cell_type": "code",
      "source": [
        "X = NCAA.drop(['Home_Team','Away_Team','Home_Win/Lose_Pt'], axis=1)\n",
        "X = X.to_numpy()\n",
        "y = NCAA[['Home_Win/Lose_Pt']]\n",
        "y = y.to_numpy()\n",
        "y = y.ravel()\n",
        "scale = StandardScaler()\n",
        "\n",
        "#Split data into train and test sets\n",
        "X_train, X_test, y_train, y_test = train_test_split(X, y, test_size=0.25, random_state=2)\n",
        "\n",
        "#Scale Data\n",
        "X_train = scale.fit_transform(X_train)\n",
        "X_test = scale.transform(X_test)"
      ],
      "metadata": {
        "id": "OSCMLV4FK59S"
      },
      "execution_count": null,
      "outputs": []
    },
    {
      "cell_type": "code",
      "source": [
        "LR = LinearRegression()\n",
        "LR.fit(X_train,y_train)\n",
        "pred=LR.predict(X_test)\n",
        "print('LR')\n",
        "print(r2_score(y_test,pred))\n"
      ],
      "metadata": {
        "colab": {
          "base_uri": "https://localhost:8080/"
        },
        "id": "vhuTdZnjj9Qh",
        "outputId": "ed12ad80-9c06-4d54-ce5d-ca21f292fa11"
      },
      "execution_count": null,
      "outputs": [
        {
          "output_type": "stream",
          "name": "stdout",
          "text": [
            "LR\n",
            "0.2990369643949782\n"
          ]
        }
      ]
    },
    {
      "cell_type": "code",
      "source": [
        "for i in NCAA.columns:\n",
        "  print(i)"
      ],
      "metadata": {
        "colab": {
          "base_uri": "https://localhost:8080/"
        },
        "id": "vKGgM2uetmjP",
        "outputId": "5c159f90-c113-4d19-b6c2-37fa3539ef3c"
      },
      "execution_count": null,
      "outputs": [
        {
          "output_type": "stream",
          "name": "stdout",
          "text": [
            "Home_Team\n",
            "Away_Team\n",
            "Home_TurnAst_Last3\n",
            "Home_TurnAst_Home\n",
            "Home_TurnAst_Away\n",
            "Home_Pts_Last3\n",
            "Home_Points_Home\n",
            "Home_Points_Away\n",
            "Home_Avg_Scoring_Margin_Last3\n",
            "Home_Avg_Scoring_Margin_Home\n",
            "Home_Avg_Scoring_Margin_Away\n",
            "Home_OffEff_Last3\n",
            "Home_OffEff_Home\n",
            "Home_OffEff_Away\n",
            "Home_FloorPercent_Last3\n",
            "Home_FloorPercent_Home\n",
            "Home_FloorPercent_Away\n",
            "Home_TrueShooting_Last3\n",
            "Home_TrueShooting_Home\n",
            "Home_TrueShooting_Away\n",
            "Home_EffFGPct_Last3\n",
            "Home_EffFGPct_Home\n",
            "Home_EffFGPct_Away\n",
            "Home_FTpct_Last3\n",
            "Home_FTpct_Home\n",
            "Home_FTpct_Away\n",
            "Home_FT_Rate_Last3\n",
            "Home_FT_Rate_Home\n",
            "Home_FT_Rate_Away\n",
            "Home_Three_Pt_Rate_Last3\n",
            "Home_Three_Pt_Rate_Home\n",
            "Home_Three_Pt_Rate_Away\n",
            "Home_Off_RB_Pct_Last3\n",
            "Home_Off_RB_Pct_Home\n",
            "Home_Off_RB_Pct_Away\n",
            "Home_Def_RB_Pct_Last3\n",
            "Home_Def_RB_Pct_Home\n",
            "Home_Def_RB_Pct_Away\n",
            "Home_Block_Pct_Last3\n",
            "Home_Block_Pct_Home\n",
            "Home_Block_Pct_Away\n",
            "Home_Steals_PerPoss_Last3\n",
            "Home_Steals_PerPoss_Home\n",
            "Home_Steals_PerPoss_Away\n",
            "Home_Turn_PerPoss_Last3\n",
            "Home_Turn_PerPoss_Home\n",
            "Home_Turn_PerPoss_Away\n",
            "Home_Ast_PerPoss_Last3\n",
            "Home_Ast_PerPoss_Home\n",
            "Home_Ast_PerPoss_Away\n",
            "Home_Fouls_PerPoss_Last3\n",
            "Home_Fouls_PerPoss_Home\n",
            "Home_Fouls_PerPoss_Away\n",
            "Home_Points_Allowed_Last3\n",
            "Home_Points_Allowed_Home\n",
            "Home_Points_Allowed_Away\n",
            "Home_Opp_Avg_Scoring_Margin_Last3\n",
            "Home_Opp_Avg_Scoring_Margin_Home\n",
            "Home_Opp_Avg_Scoring_Margin_Away\n",
            "Home_Def_Eff_Last3\n",
            "Home_Def_Eff_Home\n",
            "Home_Def_Eff_Away\n",
            "Home_Opp_Floor_Pct_Last3\n",
            "Home_Opp_Floor_Pct_Home\n",
            "Home_Opp_Floor_Pct_Away\n",
            "Home_Opp_Eff_FG_Pct_Last3\n",
            "Home_Opp_Eff_FG_Pct_Home\n",
            "Home_Opp_Eff_FG_Pct_Away\n",
            "Home_Opp_TrueShooting_Pct_Last3\n",
            "Home_Opp_TrueShooting_Pct_Home\n",
            "Home_Opp_TrueShooting_Pct_Away\n",
            "Home_Opp_Three_Pt_Rate_Last3\n",
            "Home_Opp_Three_Pt_Rate_Home\n",
            "Home_Opp_Three_Pt_Rate_Away\n",
            "Home_Opp_FT_Rate_Last3\n",
            "Home_Opp_FT_Rate_Home\n",
            "Home_Opp_FT_Rate_Away\n",
            "Home_Opp_Block_Pct_Last3\n",
            "Home_Opp_Block_Pct_Home\n",
            "Home_Opp_Block_Pct_Away\n",
            "Home_Opp_Steals_PerPoss_Last3\n",
            "Home_Opp_Steals_PerPoss_Home\n",
            "Home_Opp_Steals_PerPoss_Away\n",
            "Home_Opp_AstTurn_Ratio_Last3\n",
            "Home_Opp_AstTurn_Ratio_Home\n",
            "Home_Opp_AstTurn_Ratio_Away\n",
            "Home_Opp_Ast_PerPoss_Last3\n",
            "Home_Opp_Ast_PerPoss_Home\n",
            "Home_Opp_Ast_PerPoss_Away\n",
            "Home_Opp_Turn_PerPoss_Last3\n",
            "Home_Opp_Turn_PerPoss_Home\n",
            "Home_Opp_Turn_PerPoss_Away\n",
            "Home_Opp_Fouls_PerPoss_Last3\n",
            "Home_Opp_Fouls_PerPoss_Home\n",
            "Home_Opp_Fouls_PerPoss_Away\n",
            "Home_Poss_Per_Game_Last3\n",
            "Home_Poss_Per_Game_Home\n",
            "Home_Poss_Per_Game_Away\n",
            "Home_Eff_Poss_Last3\n",
            "Home_Eff_Poss_Home\n",
            "Home_Eff_Poss_Away\n",
            "Home_Opp_Eff_Poss_Last3\n",
            "Home_Opp_Eff_Poss_Home\n",
            "Home_Opp_Eff_Poss_Away\n",
            "Home_Team_Luck\n",
            "Home_Team_SOS\n",
            "Home_Team_Consis\n",
            "Home_Team_First_Half_Rating\n",
            "Home_Team_Second_Half_Rating\n",
            "Home_Team_Last5\n",
            "Away_TurnAst_Last3\n",
            "Away_TurnAst_Home\n",
            "Away_TurnAst_Away\n",
            "Away_Pts_Last3\n",
            "Away_Points_Home\n",
            "Away_Points_Away\n",
            "Away_Avg_Scoring_Margin_Last3\n",
            "Away_Avg_Scoring_Margin_Home\n",
            "Away_Avg_Scoring_Margin_Away\n",
            "Away_OffEff_Last3\n",
            "Away_OffEff_Home\n",
            "Away_OffEff_Away\n",
            "Away_FloorPercent_Last3\n",
            "Away_FloorPercent_Home\n",
            "Away_FloorPercent_Away\n",
            "Away_TrueShooting_Last3\n",
            "Away_TrueShooting_Home\n",
            "Away_TrueShooting_Away\n",
            "Away_EffFGPct_Last3\n",
            "Away_EffFGPct_Home\n",
            "Away_EffFGPct_Away\n",
            "Away_FTpct_Last3\n",
            "Away_FTpct_Home\n",
            "Away_FTpct_Away\n",
            "Away_FT_Rate_Last3\n",
            "Away_FT_Rate_Home\n",
            "Away_FT_Rate_Away\n",
            "Away_Three_Pt_Rate_Last3\n",
            "Away_Three_Pt_Rate_Home\n",
            "Away_Three_Pt_Rate_Away\n",
            "Away_Off_RB_Pct_Last3\n",
            "Away_Off_RB_Pct_Home\n",
            "Away_Off_RB_Pct_Away\n",
            "Away_Def_RB_Pct_Last3\n",
            "Away_Def_RB_Pct_Home\n",
            "Away_Def_RB_Pct_Away\n",
            "Away_Block_Pct_Last3\n",
            "Away_Block_Pct_Home\n",
            "Away_Block_Pct_Away\n",
            "Away_Steals_PerPoss_Last3\n",
            "Away_Steals_PerPoss_Home\n",
            "Away_Steals_PerPoss_Away\n",
            "Away_Turn_PerPoss_Last3\n",
            "Away_Turn_PerPoss_Home\n",
            "Away_Turn_PerPoss_Away\n",
            "Away_Ast_PerPoss_Last3\n",
            "Away_Ast_PerPoss_Home\n",
            "Away_Ast_PerPoss_Away\n",
            "Away_Fouls_PerPoss_Last3\n",
            "Away_Fouls_PerPoss_Home\n",
            "Away_Fouls_PerPoss_Away\n",
            "Away_Points_Allowed_Last3\n",
            "Away_Points_Allowed_Home\n",
            "Away_Points_Allowed_Away\n",
            "Away_Opp_Avg_Scoring_Margin_Last3\n",
            "Away_Opp_Avg_Scoring_Margin_Home\n",
            "Away_Opp_Avg_Scoring_Margin_Away\n",
            "Away_Def_Eff_Last3\n",
            "Away_Def_Eff_Home\n",
            "Away_Def_Eff_Away\n",
            "Away_Opp_Floor_Pct_Last3\n",
            "Away_Opp_Floor_Pct_Home\n",
            "Away_Opp_Floor_Pct_Away\n",
            "Away_Opp_Eff_FG_Pct_Last3\n",
            "Away_Opp_Eff_FG_Pct_Home\n",
            "Away_Opp_Eff_FG_Pct_Away\n",
            "Away_Opp_TrueShooting_Pct_Last3\n",
            "Away_Opp_TrueShooting_Pct_Home\n",
            "Away_Opp_TrueShooting_Pct_Away\n",
            "Away_Opp_Three_Pt_Rate_Last3\n",
            "Away_Opp_Three_Pt_Rate_Home\n",
            "Away_Opp_Three_Pt_Rate_Away\n",
            "Away_Opp_FT_Rate_Last3\n",
            "Away_Opp_FT_Rate_Home\n",
            "Away_Opp_FT_Rate_Away\n",
            "Away_Opp_Block_Pct_Last3\n",
            "Away_Opp_Block_Pct_Home\n",
            "Away_Opp_Block_Pct_Away\n",
            "Away_Opp_Steals_PerPoss_Last3\n",
            "Away_Opp_Steals_PerPoss_Home\n",
            "Away_Opp_Steals_PerPoss_Away\n",
            "Away_Opp_AstTurn_Ratio_Last3\n",
            "Away_Opp_AstTurn_Ratio_Home\n",
            "Away_Opp_AstTurn_Ratio_Away\n",
            "Away_Opp_Ast_PerPoss_Last3\n",
            "Away_Opp_Ast_PerPoss_Home\n",
            "Away_Opp_Ast_PerPoss_Away\n",
            "Away_Opp_Turn_PerPoss_Last3\n",
            "Away_Opp_Turn_PerPoss_Home\n",
            "Away_Opp_Turn_PerPoss_Away\n",
            "Away_Opp_Fouls_PerPoss_Last3\n",
            "Away_Opp_Fouls_PerPoss_Home\n",
            "Away_Opp_Fouls_PerPoss_Away\n",
            "Away_Poss_Per_Game_Last3\n",
            "Away_Poss_Per_Game_Home\n",
            "Away_Poss_Per_Game_Away\n",
            "Away_Eff_Poss_Last3\n",
            "Away_Eff_Poss_Home\n",
            "Away_Eff_Poss_Away\n",
            "Away_Opp_Eff_Poss_Last3\n",
            "Away_Opp_Eff_Poss_Home\n",
            "Away_Opp_Eff_Poss_Away\n",
            "Away_Team_Luck\n",
            "Away_Team_SOS\n",
            "Away_Team_Consis\n",
            "Away_Team_First_Half_Rating\n",
            "Away_Team_Second_Half_Rating\n",
            "Away_Team_Last5\n",
            "Home_Win/Lose_Pt\n"
          ]
        }
      ]
    },
    {
      "cell_type": "code",
      "source": [
        "X = NCAA[['Home_Fouls_PerPoss_Home','Home_Block_Pct_Home','Home_Steals_PerPoss_Home','Home_TurnAst_Home', 'Home_FloorPercent_Home', 'Home_Three_Pt_Rate_Home',\n",
        "          'Home_FTpct_Home','Home_FT_Rate_Home', 'Home_Off_RB_Pct_Home',\n",
        "          'Home_Def_RB_Pct_Home','Home_Team_SOS', 'Home_Team_Consis',\n",
        "          'Home_Team_Last5','Home_Team_First_Half_Rating', 'Home_Team_Second_Half_Rating','Away_Fouls_PerPoss_Away','Away_Block_Pct_Away', 'Away_Steals_PerPoss_Away', 'Away_TurnAst_Away', 'Away_FloorPercent_Away',\n",
        "          'Away_FTpct_Away','Away_FT_Rate_Away', 'Away_Off_RB_Pct_Away',\n",
        "          'Away_Three_Pt_Rate_Away','Away_Def_RB_Pct_Away', 'Away_Team_SOS', 'Away_Team_Consis',\n",
        "          'Away_Team_Last5', 'Away_Team_First_Half_Rating', 'Away_Team_Second_Half_Rating']]\n",
        "X = X.to_numpy()\n",
        "y = NCAA[['Home_Win/Lose_Pt']]\n",
        "y = y.to_numpy()\n",
        "y = y.ravel()\n",
        "scale = StandardScaler()\n",
        "\n",
        "#Split data into train and test sets\n",
        "X_train, X_test, y_train, y_test = train_test_split(X, y, test_size=0.25, random_state=2)\n",
        "\n",
        "#Scale Data\n",
        "X_train = scale.fit_transform(X_train)\n",
        "X_test = scale.transform(X_test)"
      ],
      "metadata": {
        "id": "gLe96zHxyNY5"
      },
      "execution_count": null,
      "outputs": []
    },
    {
      "cell_type": "code",
      "source": [
        "LR = LinearRegression()\n",
        "LR.fit(X_train,y_train)\n",
        "pred=LR.predict(X_test)\n",
        "print('LR')\n",
        "print(r2_score(y_test,pred))"
      ],
      "metadata": {
        "colab": {
          "base_uri": "https://localhost:8080/"
        },
        "id": "q7Q990rhyR0a",
        "outputId": "4d51275f-c195-4d3b-ca58-0896149e351b"
      },
      "execution_count": null,
      "outputs": [
        {
          "output_type": "stream",
          "name": "stdout",
          "text": [
            "LR\n",
            "0.3480923843603997\n"
          ]
        }
      ]
    },
    {
      "cell_type": "code",
      "source": [
        "NCAA['Win/Lose'] = [1 if x > 0 else 0 for x in NCAA['Home_Win/Lose_Pt']]"
      ],
      "metadata": {
        "id": "FqpGo94C9432"
      },
      "execution_count": null,
      "outputs": []
    },
    {
      "cell_type": "code",
      "source": [
        "X = NCAA.drop(['Home_Win/Lose_Pt','Home_Team','Away_Team','Win/Lose'], axis=1)\n",
        "X = X.to_numpy()\n",
        "y = NCAA[['Win/Lose']]\n",
        "y = y.to_numpy()\n",
        "y = y.ravel()\n",
        "scale = StandardScaler()\n",
        "X_train, X_test, y_train, y_test = train_test_split(X,y,test_size=0.2)\n",
        "X_train = scale.fit_transform(X_train)\n",
        "X_test = scale.transform(X_test)"
      ],
      "metadata": {
        "id": "8mP520xCiQ4x"
      },
      "execution_count": null,
      "outputs": []
    },
    {
      "cell_type": "code",
      "source": [
        "LR = LogisticRegression()\n",
        "SV = SVC()"
      ],
      "metadata": {
        "id": "DqkHqdkti6g6"
      },
      "execution_count": null,
      "outputs": []
    },
    {
      "cell_type": "code",
      "source": [
        "LR1 = LR.fit(X_train,y_train)\n",
        "y_pred = LR1.predict(X_test)\n",
        "sklearn.metrics.accuracy_score(y_test, y_pred)"
      ],
      "metadata": {
        "colab": {
          "base_uri": "https://localhost:8080/"
        },
        "id": "U57ZeAGnjLC4",
        "outputId": "ad36e545-88c6-4779-e833-724c96f70a61"
      },
      "execution_count": null,
      "outputs": [
        {
          "output_type": "stream",
          "name": "stderr",
          "text": [
            "/usr/local/lib/python3.7/dist-packages/sklearn/linear_model/_logistic.py:818: ConvergenceWarning: lbfgs failed to converge (status=1):\n",
            "STOP: TOTAL NO. of ITERATIONS REACHED LIMIT.\n",
            "\n",
            "Increase the number of iterations (max_iter) or scale the data as shown in:\n",
            "    https://scikit-learn.org/stable/modules/preprocessing.html\n",
            "Please also refer to the documentation for alternative solver options:\n",
            "    https://scikit-learn.org/stable/modules/linear_model.html#logistic-regression\n",
            "  extra_warning_msg=_LOGISTIC_SOLVER_CONVERGENCE_MSG,\n"
          ]
        },
        {
          "output_type": "execute_result",
          "data": {
            "text/plain": [
              "0.7020979020979021"
            ]
          },
          "metadata": {},
          "execution_count": 39
        }
      ]
    },
    {
      "cell_type": "code",
      "source": [
        "#calculate precision and recall\n",
        "precision, recall, thresholds = precision_recall_curve(y_test, y_pred)\n",
        "\n",
        "#create precision recall curve\n",
        "fig, ax = plt.subplots()\n",
        "ax.plot(recall, precision, color='purple')\n",
        "\n",
        "#add axis labels to plot\n",
        "ax.set_title('Precision-Recall Curve')\n",
        "ax.set_ylabel('Precision')\n",
        "ax.set_xlabel('Recall')\n",
        "\n",
        "#display plot\n",
        "plt.show()"
      ],
      "metadata": {
        "colab": {
          "base_uri": "https://localhost:8080/",
          "height": 294
        },
        "id": "RXPUaS6KnKpr",
        "outputId": "a2387c8c-bca9-4f8a-9535-123986362baf"
      },
      "execution_count": null,
      "outputs": [
        {
          "output_type": "display_data",
          "data": {
            "text/plain": [
              "<Figure size 432x288 with 1 Axes>"
            ],
            "image/png": "[encoded data removed]"
          },
          "metadata": {
            "needs_background": "light"
          }
        }
      ]
    },
    {
      "cell_type": "code",
      "source": [
        "SVC = SV.fit(X_train,y_train)\n",
        "y_pred = SVC.predict(X_test)\n",
        "sklearn.metrics.accuracy_score(y_test, y_pred)"
      ],
      "metadata": {
        "colab": {
          "base_uri": "https://localhost:8080/"
        },
        "id": "vboOqInYjwdU",
        "outputId": "a889fbd9-d4c4-4d7f-931a-741aac4a9ea3"
      },
      "execution_count": null,
      "outputs": [
        {
          "output_type": "execute_result",
          "data": {
            "text/plain": [
              "0.7244755244755244"
            ]
          },
          "metadata": {},
          "execution_count": 41
        }
      ]
    },
    {
      "cell_type": "code",
      "source": [
        "#calculate precision and recall\n",
        "precision, recall, thresholds = precision_recall_curve(y_test, y_pred)\n",
        "\n",
        "#create precision recall curve\n",
        "fig, ax = plt.subplots()\n",
        "ax.plot(recall, precision, color='purple')\n",
        "\n",
        "#add axis labels to plot\n",
        "ax.set_title('Precision-Recall Curve')\n",
        "ax.set_ylabel('Precision')\n",
        "ax.set_xlabel('Recall')\n",
        "\n",
        "#display plot\n",
        "plt.show()"
      ],
      "metadata": {
        "colab": {
          "base_uri": "https://localhost:8080/",
          "height": 294
        },
        "id": "Bjlf6THuoQaF",
        "outputId": "f81c9ffa-f45e-4960-edd0-a64985a7fb15"
      },
      "execution_count": null,
      "outputs": [
        {
          "output_type": "display_data",
          "data": {
            "text/plain": [
              "<Figure size 432x288 with 1 Axes>"
            ],
            "image/png": "[encoded data removed]"
          },
          "metadata": {
            "needs_background": "light"
          }
        }
      ]
    },
    {
      "cell_type": "code",
      "source": [
        "X = NCAA[['Home_Fouls_PerPoss_Home','Home_Block_Pct_Home','Home_Steals_PerPoss_Home','Home_TurnAst_Home', 'Home_FloorPercent_Home', 'Home_Three_Pt_Rate_Home',\n",
        "          'Home_FTpct_Home','Home_FT_Rate_Home', 'Home_Off_RB_Pct_Home',\n",
        "          'Home_Def_RB_Pct_Home','Home_Team_SOS', 'Home_Team_Consis',\n",
        "          'Home_Team_Last5','Home_Team_First_Half_Rating', 'Home_Team_Second_Half_Rating','Away_Fouls_PerPoss_Away','Away_Block_Pct_Away', 'Away_Steals_PerPoss_Away', 'Away_TurnAst_Away', 'Away_FloorPercent_Away',\n",
        "          'Away_FTpct_Away','Away_FT_Rate_Away', 'Away_Off_RB_Pct_Away',\n",
        "          'Away_Three_Pt_Rate_Away','Away_Def_RB_Pct_Away', 'Away_Team_SOS', 'Away_Team_Consis',\n",
        "          'Away_Team_Last5', 'Away_Team_First_Half_Rating', 'Away_Team_Second_Half_Rating']]\n",
        "X = X.to_numpy()\n",
        "y = NCAA[['Win/Lose']]\n",
        "y = y.to_numpy()\n",
        "y = y.ravel()\n",
        "scale = StandardScaler()\n",
        "X_train, X_test, y_train, y_test = train_test_split(X,y,test_size=0.2)\n",
        "X_train = scale.fit_transform(X_train)\n",
        "X_test = scale.transform(X_test)"
      ],
      "metadata": {
        "id": "7UHcIpiuvMLj"
      },
      "execution_count": null,
      "outputs": []
    },
    {
      "cell_type": "code",
      "source": [
        "LR1 = LR.fit(X_train,y_train)\n",
        "y_pred = LR1.predict(X_test)\n",
        "sklearn.metrics.accuracy_score(y_test, y_pred)"
      ],
      "metadata": {
        "colab": {
          "base_uri": "https://localhost:8080/"
        },
        "id": "vsQq-Z9-vT5J",
        "outputId": "228f018b-520a-41a0-8b5b-ea38c9ae6d61"
      },
      "execution_count": null,
      "outputs": [
        {
          "output_type": "execute_result",
          "data": {
            "text/plain": [
              "0.7272727272727273"
            ]
          },
          "metadata": {},
          "execution_count": 57
        }
      ]
    },
    {
      "cell_type": "code",
      "source": [
        "SVC = SV.fit(X_train,y_train)\n",
        "y_pred = SVC.predict(X_test)\n",
        "sklearn.metrics.accuracy_score(y_test, y_pred)"
      ],
      "metadata": {
        "id": "lDAi3RQ_vWyR",
        "outputId": "695b13c8-6e48-45fa-9569-a4952d0ac3cb",
        "colab": {
          "base_uri": "https://localhost:8080/"
        }
      },
      "execution_count": null,
      "outputs": [
        {
          "output_type": "execute_result",
          "data": {
            "text/plain": [
              "0.7272727272727273"
            ]
          },
          "metadata": {},
          "execution_count": 58
        }
      ]
    }
  ]
}
